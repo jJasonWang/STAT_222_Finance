{
 "cells": [
  {
   "cell_type": "code",
   "execution_count": 1,
   "metadata": {
    "collapsed": true
   },
   "outputs": [],
   "source": [
    "from __future__ import print_function\n",
    "import pandas as pd\n",
    "import numpy as np\n",
    "import re\n",
    "from datetime import datetime, date, time, timedelta\n",
    "%matplotlib inline"
   ]
  },
  {
   "cell_type": "code",
   "execution_count": 2,
   "metadata": {
    "collapsed": false
   },
   "outputs": [
    {
     "data": {
      "text/plain": [
       "(332673, 62)"
      ]
     },
     "execution_count": 2,
     "metadata": {},
     "output_type": "execute_result"
    }
   ],
   "source": [
    "# Read data\n",
    "AAPL = pd.read_csv(\"../Data/AAPL_05222012_0930_1300_LOB_2.csv\")\n",
    "\n",
    "# Change column name\n",
    "AAPL.columns = [col_name.split('.')[1] if len(col_name) > 5 else col_name for col_name in AAPL.columns]\n",
    "\n",
    "# Dimension of the data frame\n",
    "AAPL.shape"
   ]
  },
  {
   "cell_type": "markdown",
   "metadata": {},
   "source": [
    "### Basic Set"
   ]
  },
  {
   "cell_type": "code",
   "execution_count": 3,
   "metadata": {
    "collapsed": false
   },
   "outputs": [
    {
     "data": {
      "text/plain": [
       "Index([u'Index', u'Time', u'BID_PRICE1', u'BID_UPDATE_TIME1', u'BID_SIZE1',\n",
       "       u'ASK_PRICE1', u'ASK_UPDATE_TIME1', u'ASK_SIZE1', u'BID_PRICE2',\n",
       "       u'BID_UPDATE_TIME2', u'BID_SIZE2', u'ASK_PRICE2', u'ASK_UPDATE_TIME2',\n",
       "       u'ASK_SIZE2', u'BID_PRICE3', u'BID_UPDATE_TIME3', u'BID_SIZE3',\n",
       "       u'ASK_PRICE3', u'ASK_UPDATE_TIME3', u'ASK_SIZE3', u'BID_PRICE4',\n",
       "       u'BID_UPDATE_TIME4', u'BID_SIZE4', u'ASK_PRICE4', u'ASK_UPDATE_TIME4',\n",
       "       u'ASK_SIZE4', u'BID_PRICE5', u'BID_UPDATE_TIME5', u'BID_SIZE5',\n",
       "       u'ASK_PRICE5', u'ASK_UPDATE_TIME5', u'ASK_SIZE5', u'BID_PRICE6',\n",
       "       u'BID_UPDATE_TIME6', u'BID_SIZE6', u'ASK_PRICE6', u'ASK_UPDATE_TIME6',\n",
       "       u'ASK_SIZE6', u'BID_PRICE7', u'BID_UPDATE_TIME7', u'BID_SIZE7',\n",
       "       u'ASK_PRICE7', u'ASK_UPDATE_TIME7', u'ASK_SIZE7', u'BID_PRICE8',\n",
       "       u'BID_UPDATE_TIME8', u'BID_SIZE8', u'ASK_PRICE8', u'ASK_UPDATE_TIME8',\n",
       "       u'ASK_SIZE8', u'BID_PRICE9', u'BID_UPDATE_TIME9', u'BID_SIZE9',\n",
       "       u'ASK_PRICE9', u'ASK_UPDATE_TIME9', u'ASK_SIZE9', u'BID_PRICE10',\n",
       "       u'BID_UPDATE_TIME10', u'BID_SIZE10', u'ASK_PRICE10',\n",
       "       u'ASK_UPDATE_TIME10', u'ASK_SIZE10'],\n",
       "      dtype='object')"
      ]
     },
     "execution_count": 3,
     "metadata": {},
     "output_type": "execute_result"
    }
   ],
   "source": [
    "# Price and Volume\n",
    "AAPL.columns"
   ]
  },
  {
   "cell_type": "markdown",
   "metadata": {},
   "source": [
    "### Time-insenstive Set\n",
    "* bid-ask spreads    \n",
    "We calculate mid-price by $$Spread_i = P^{ask}_{i} - P^{bid}_{i}$$"
   ]
  },
  {
   "cell_type": "code",
   "execution_count": 4,
   "metadata": {
    "collapsed": true
   },
   "outputs": [],
   "source": [
    "AAPL['SPREAD1'] = AAPL['ASK_PRICE1'] - AAPL['BID_PRICE1']\n",
    "AAPL['SPREAD2'] = AAPL['ASK_PRICE2'] - AAPL['BID_PRICE2']\n",
    "AAPL['SPREAD3'] = AAPL['ASK_PRICE3'] - AAPL['BID_PRICE3']\n",
    "AAPL['SPREAD4'] = AAPL['ASK_PRICE4'] - AAPL['BID_PRICE4']\n",
    "AAPL['SPREAD5'] = AAPL['ASK_PRICE5'] - AAPL['BID_PRICE5']\n",
    "AAPL['SPREAD6'] = AAPL['ASK_PRICE6'] - AAPL['BID_PRICE6']\n",
    "AAPL['SPREAD7'] = AAPL['ASK_PRICE7'] - AAPL['BID_PRICE7']\n",
    "AAPL['SPREAD8'] = AAPL['ASK_PRICE8'] - AAPL['BID_PRICE8']\n",
    "AAPL['SPREAD9'] = AAPL['ASK_PRICE9'] - AAPL['BID_PRICE9']\n",
    "AAPL['SPREAD10'] = AAPL['ASK_PRICE10'] - AAPL['BID_PRICE10']"
   ]
  },
  {
   "cell_type": "markdown",
   "metadata": {},
   "source": [
    "* mid-prices    \n",
    "$$P^{mid}_{i} = \\frac{1}{2}(P^{ask}_{i} + P^{bid}_{i})$$"
   ]
  },
  {
   "cell_type": "code",
   "execution_count": 5,
   "metadata": {
    "collapsed": true
   },
   "outputs": [],
   "source": [
    "AAPL['MID_PRICE1'] = (AAPL['BID_PRICE1'] + AAPL['ASK_PRICE1'])/2\n",
    "AAPL['MID_PRICE2'] = (AAPL['BID_PRICE2'] + AAPL['ASK_PRICE2'])/2\n",
    "AAPL['MID_PRICE3'] = (AAPL['BID_PRICE3'] + AAPL['ASK_PRICE3'])/2\n",
    "AAPL['MID_PRICE4'] = (AAPL['BID_PRICE4'] + AAPL['ASK_PRICE4'])/2\n",
    "AAPL['MID_PRICE5'] = (AAPL['BID_PRICE5'] + AAPL['ASK_PRICE5'])/2\n",
    "AAPL['MID_PRICE6'] = (AAPL['BID_PRICE6'] + AAPL['ASK_PRICE6'])/2\n",
    "AAPL['MID_PRICE7'] = (AAPL['BID_PRICE7'] + AAPL['ASK_PRICE7'])/2\n",
    "AAPL['MID_PRICE8'] = (AAPL['BID_PRICE8'] + AAPL['ASK_PRICE8'])/2\n",
    "AAPL['MID_PRICE9'] = (AAPL['BID_PRICE9'] + AAPL['ASK_PRICE9'])/2\n",
    "AAPL['MID_PRICE10'] = (AAPL['BID_PRICE10'] + AAPL['ASK_PRICE10'])/2"
   ]
  },
  {
   "cell_type": "markdown",
   "metadata": {},
   "source": [
    "* price differences\n",
    "$$\\text{Range(ask)}=P^{ask}_{n} - P^{ask}_{1}$$\n",
    "$$\\text{Range(bid)}=P^{bid}_{1} - P^{bid}_{n}$$"
   ]
  },
  {
   "cell_type": "code",
   "execution_count": 6,
   "metadata": {
    "collapsed": false
   },
   "outputs": [],
   "source": [
    "# Range\n",
    "AAPL['ASK_RANGE'] = AAPL.ASK_PRICE10 - AAPL.ASK_PRICE1\n",
    "AAPL['BID_RANGE'] = AAPL.BID_PRICE1 - AAPL.BID_PRICE10\n",
    "\n",
    "# Absolute difference for ask\n",
    "AAPL['ASK21'] = np.absolute(AAPL.ASK_PRICE2 - AAPL.ASK_PRICE1)\n",
    "AAPL['ASK32'] = np.absolute(AAPL.ASK_PRICE3 - AAPL.ASK_PRICE2)\n",
    "AAPL['ASK43'] = np.absolute(AAPL.ASK_PRICE4 - AAPL.ASK_PRICE3)\n",
    "AAPL['ASK54'] = np.absolute(AAPL.ASK_PRICE5 - AAPL.ASK_PRICE4)\n",
    "AAPL['ASK65'] = np.absolute(AAPL.ASK_PRICE6 - AAPL.ASK_PRICE5)\n",
    "AAPL['ASK76'] = np.absolute(AAPL.ASK_PRICE7 - AAPL.ASK_PRICE6)\n",
    "AAPL['ASK87'] = np.absolute(AAPL.ASK_PRICE8 - AAPL.ASK_PRICE7)\n",
    "AAPL['ASK98'] = np.absolute(AAPL.ASK_PRICE9 - AAPL.ASK_PRICE8)\n",
    "AAPL['ASK109'] = np.absolute(AAPL.ASK_PRICE10 - AAPL.ASK_PRICE9)\n",
    "\n",
    "# Absolute difference for bid\n",
    "AAPL['BID21'] = np.absolute(AAPL.BID_PRICE2 - AAPL.BID_PRICE1)\n",
    "AAPL['BID32'] = np.absolute(AAPL.BID_PRICE3 - AAPL.BID_PRICE2)\n",
    "AAPL['BID43'] = np.absolute(AAPL.BID_PRICE4 - AAPL.BID_PRICE3)\n",
    "AAPL['BID54'] = np.absolute(AAPL.BID_PRICE5 - AAPL.BID_PRICE4)\n",
    "AAPL['BID65'] = np.absolute(AAPL.BID_PRICE6 - AAPL.BID_PRICE5)\n",
    "AAPL['BID76'] = np.absolute(AAPL.BID_PRICE7 - AAPL.BID_PRICE6)\n",
    "AAPL['BID87'] = np.absolute(AAPL.BID_PRICE8 - AAPL.BID_PRICE7)\n",
    "AAPL['BID98'] = np.absolute(AAPL.BID_PRICE9 - AAPL.BID_PRICE8)\n",
    "AAPL['BID109'] = np.absolute(AAPL.BID_PRICE10 - AAPL.BID_PRICE9)"
   ]
  },
  {
   "cell_type": "markdown",
   "metadata": {},
   "source": [
    "* mean prices"
   ]
  },
  {
   "cell_type": "code",
   "execution_count": 7,
   "metadata": {
    "collapsed": true
   },
   "outputs": [],
   "source": [
    "# mean bid price\n",
    "AAPL['MEAN_BID_PRICE'] = 0.1*(AAPL['BID_PRICE1'] + AAPL['BID_PRICE2'] + AAPL['BID_PRICE3'] +\n",
    "                              AAPL['BID_PRICE4'] + AAPL['BID_PRICE5'] + AAPL['BID_PRICE6'] +\n",
    "                              AAPL['BID_PRICE7'] + AAPL['BID_PRICE8'] + AAPL['BID_PRICE9'] + AAPL['BID_PRICE10'])\n",
    "\n",
    "# mean ask price\n",
    "AAPL['MEAN_ASK_PRICE'] = 0.1*(AAPL['ASK_PRICE1'] + AAPL['ASK_PRICE2'] + AAPL['ASK_PRICE3'] +\n",
    "                              AAPL['ASK_PRICE4'] + AAPL['ASK_PRICE5'] + AAPL['ASK_PRICE6'] +\n",
    "                              AAPL['ASK_PRICE7'] + AAPL['ASK_PRICE8'] + AAPL['ASK_PRICE9'] + AAPL['ASK_PRICE10'])"
   ]
  },
  {
   "cell_type": "markdown",
   "metadata": {},
   "source": [
    "* mean volumes"
   ]
  },
  {
   "cell_type": "code",
   "execution_count": 8,
   "metadata": {
    "collapsed": true
   },
   "outputs": [],
   "source": [
    "# mean bid volume\n",
    "AAPL['MEAN_BID_SIZE'] = 0.1*(AAPL['BID_SIZE1'] + AAPL['BID_SIZE2'] + AAPL['BID_SIZE3'] +\n",
    "                             AAPL['BID_SIZE4'] + AAPL['BID_SIZE5'] + AAPL['BID_SIZE6'] +\n",
    "                             AAPL['BID_SIZE7'] + AAPL['BID_SIZE8'] + AAPL['BID_SIZE9'] + AAPL['BID_SIZE10'])\n",
    "\n",
    "# mean ask volume\n",
    "AAPL['MEAN_ASK_SIZE'] = 0.1*(AAPL['ASK_SIZE1'] + AAPL['ASK_SIZE2'] + AAPL['ASK_SIZE3'] + \n",
    "                             AAPL['ASK_SIZE4'] + AAPL['ASK_SIZE5'] + AAPL['ASK_SIZE6'] +\n",
    "                             AAPL['ASK_SIZE7'] + AAPL['ASK_SIZE8'] + AAPL['ASK_SIZE9'] + AAPL['ASK_SIZE10'])"
   ]
  },
  {
   "cell_type": "markdown",
   "metadata": {},
   "source": [
    "* accumulated differences"
   ]
  },
  {
   "cell_type": "code",
   "execution_count": 9,
   "metadata": {
    "collapsed": true
   },
   "outputs": [],
   "source": [
    "# Price\n",
    "AAPL['PRICE_ASK_BID'] = (AAPL['SPREAD1'] + AAPL['SPREAD2'] + AAPL['SPREAD3'] + \n",
    "                         AAPL['SPREAD4'] + AAPL['SPREAD5'] + AAPL['SPREAD6'] +\n",
    "                         AAPL['SPREAD7'] + AAPL['SPREAD8'] + AAPL['SPREAD9'] + AAPL['SPREAD10'])\n",
    "\n",
    "# Volume\n",
    "AAPL['SIZE_ASK_BID'] = sum((AAPL.ASK_SIZE1 - AAPL.BID_SIZE1, AAPL.ASK_SIZE2 - AAPL.BID_SIZE2,\n",
    "                            AAPL.ASK_SIZE3 - AAPL.BID_SIZE3, AAPL.ASK_SIZE4 - AAPL.BID_SIZE4,\n",
    "                            AAPL.ASK_SIZE5 - AAPL.BID_SIZE5, AAPL.ASK_SIZE6 - AAPL.BID_SIZE6,\n",
    "                            AAPL.ASK_SIZE7 - AAPL.BID_SIZE7, AAPL.ASK_SIZE8 - AAPL.BID_SIZE8,\n",
    "                            AAPL.ASK_SIZE9 - AAPL.BID_SIZE9, AAPL.ASK_SIZE10 - AAPL.BID_SIZE10))"
   ]
  },
  {
   "cell_type": "markdown",
   "metadata": {},
   "source": [
    "### Time-sensitive Set"
   ]
  },
  {
   "cell_type": "code",
   "execution_count": 10,
   "metadata": {
    "collapsed": true
   },
   "outputs": [],
   "source": [
    "# Create time variable\n",
    "time = np.array([datetime.strptime(time, \"%Y/%m/%d %H:%M:%S.%f\") for time in AAPL['Time']])\n",
    "\n",
    "def time_derivative(time, price, delta_t=1):\n",
    "    derivative = np.zeros(len(price))\n",
    "    \n",
    "    # Find the index\n",
    "    j = 0\n",
    "    for i in np.arange(len(time)):\n",
    "        j = i\n",
    "        t_standard = time[i] - timedelta(seconds=delta_t)\n",
    "        while t_standard < time[j] or time[j] == time[j - 1]:\n",
    "            if j == 0: break\n",
    "            j = j - 1\n",
    "            \n",
    "        # Once the while loop end the j will be the index of first most recent 1 second\n",
    "        # We can use the index to calculate derivative\n",
    "        derivative[i] = (price[i] - price[j])/(i - j + 1)\n",
    "    \n",
    "    return(derivative)"
   ]
  },
  {
   "cell_type": "markdown",
   "metadata": {},
   "source": [
    "* Price Derivative"
   ]
  },
  {
   "cell_type": "code",
   "execution_count": 11,
   "metadata": {
    "collapsed": true
   },
   "outputs": [],
   "source": [
    "# Bid price derivative\n",
    "AAPL['BID_PDERIV1'] = time_derivative(time, AAPL['BID_PRICE1'])\n",
    "AAPL['BID_PDERIV2'] = time_derivative(time, AAPL['BID_PRICE2'])\n",
    "AAPL['BID_PDERIV3'] = time_derivative(time, AAPL['BID_PRICE3'])\n",
    "AAPL['BID_PDERIV4'] = time_derivative(time, AAPL['BID_PRICE4'])\n",
    "AAPL['BID_PDERIV5'] = time_derivative(time, AAPL['BID_PRICE5'])\n",
    "AAPL['BID_PDERIV6'] = time_derivative(time, AAPL['BID_PRICE6'])\n",
    "AAPL['BID_PDERIV7'] = time_derivative(time, AAPL['BID_PRICE7'])\n",
    "AAPL['BID_PDERIV8'] = time_derivative(time, AAPL['BID_PRICE8'])\n",
    "AAPL['BID_PDERIV9'] = time_derivative(time, AAPL['BID_PRICE9'])\n",
    "AAPL['BID_PDERIV10'] = time_derivative(time, AAPL['BID_PRICE10'])\n",
    "\n",
    "# Ask price derivative\n",
    "AAPL['ASK_PDERIV1'] = time_derivative(time, AAPL['ASK_PRICE1'])\n",
    "AAPL['ASK_PDERIV2'] = time_derivative(time, AAPL['ASK_PRICE2'])\n",
    "AAPL['ASK_PDERIV3'] = time_derivative(time, AAPL['ASK_PRICE3'])\n",
    "AAPL['ASK_PDERIV4'] = time_derivative(time, AAPL['ASK_PRICE4'])\n",
    "AAPL['ASK_PDERIV5'] = time_derivative(time, AAPL['ASK_PRICE5'])\n",
    "AAPL['ASK_PDERIV6'] = time_derivative(time, AAPL['ASK_PRICE6'])\n",
    "AAPL['ASK_PDERIV7'] = time_derivative(time, AAPL['ASK_PRICE7'])\n",
    "AAPL['ASK_PDERIV8'] = time_derivative(time, AAPL['ASK_PRICE8'])\n",
    "AAPL['ASK_PDERIV9'] = time_derivative(time, AAPL['ASK_PRICE9'])\n",
    "AAPL['ASK_PDERIV10'] = time_derivative(time, AAPL['ASK_PRICE10'])"
   ]
  },
  {
   "cell_type": "markdown",
   "metadata": {},
   "source": [
    "* Volume Derivative"
   ]
  },
  {
   "cell_type": "code",
   "execution_count": 12,
   "metadata": {
    "collapsed": true
   },
   "outputs": [],
   "source": [
    "# Bid volume derivative\n",
    "AAPL['BID_SDERIV1'] = time_derivative(time, AAPL['BID_SIZE1'])\n",
    "AAPL['BID_SDERIV2'] = time_derivative(time, AAPL['BID_SIZE2'])\n",
    "AAPL['BID_SDERIV3'] = time_derivative(time, AAPL['BID_SIZE3'])\n",
    "AAPL['BID_SDERIV4'] = time_derivative(time, AAPL['BID_SIZE4'])\n",
    "AAPL['BID_SDERIV5'] = time_derivative(time, AAPL['BID_SIZE5'])\n",
    "AAPL['BID_SDERIV6'] = time_derivative(time, AAPL['BID_SIZE6'])\n",
    "AAPL['BID_SDERIV7'] = time_derivative(time, AAPL['BID_SIZE7'])\n",
    "AAPL['BID_SDERIV8'] = time_derivative(time, AAPL['BID_SIZE8'])\n",
    "AAPL['BID_SDERIV9'] = time_derivative(time, AAPL['BID_SIZE9'])\n",
    "AAPL['BID_SDERIV10'] = time_derivative(time, AAPL['BID_SIZE10'])\n",
    "\n",
    "# Ask volume derivative\n",
    "AAPL['ASK_SDERIV1'] = time_derivative(time, AAPL['ASK_SIZE1'])\n",
    "AAPL['ASK_SDERIV2'] = time_derivative(time, AAPL['ASK_SIZE2'])\n",
    "AAPL['ASK_SDERIV3'] = time_derivative(time, AAPL['ASK_SIZE3'])\n",
    "AAPL['ASK_SDERIV4'] = time_derivative(time, AAPL['ASK_SIZE4'])\n",
    "AAPL['ASK_SDERIV5'] = time_derivative(time, AAPL['ASK_SIZE5'])\n",
    "AAPL['ASK_SDERIV6'] = time_derivative(time, AAPL['ASK_SIZE6'])\n",
    "AAPL['ASK_SDERIV7'] = time_derivative(time, AAPL['ASK_SIZE7'])\n",
    "AAPL['ASK_SDERIV8'] = time_derivative(time, AAPL['ASK_SIZE8'])\n",
    "AAPL['ASK_SDERIV9'] = time_derivative(time, AAPL['ASK_SIZE9'])\n",
    "AAPL['ASK_SDERIV10'] = time_derivative(time, AAPL['ASK_SIZE10'])"
   ]
  },
  {
   "cell_type": "code",
   "execution_count": 24,
   "metadata": {
    "collapsed": false
   },
   "outputs": [
    {
     "data": {
      "text/plain": [
       "(332673, 128)"
      ]
     },
     "execution_count": 24,
     "metadata": {},
     "output_type": "execute_result"
    }
   ],
   "source": [
    "# Pull out the column name in x\n",
    "r_not_x = re.compile('TIME|MID_MOVEMENT|SPREAD_CROSSING')\n",
    "col_in_x = [not bool(r_not_x.search(col.upper())) for col in AAPL.columns]\n",
    "\n",
    "# We should include time variable\n",
    "col_in_x[1] = True\n",
    "\n",
    "X = AAPL.iloc[:, col_in_x]\n",
    "X.shape"
   ]
  },
  {
   "cell_type": "code",
   "execution_count": 26,
   "metadata": {
    "collapsed": false
   },
   "outputs": [
    {
     "data": {
      "text/plain": [
       "(332673, 128)"
      ]
     },
     "execution_count": 26,
     "metadata": {},
     "output_type": "execute_result"
    }
   ],
   "source": [
    "# Test\n",
    "X.to_csv('../Data/X.csv', index=False)\n",
    "X2 = pd.read_csv('../Data/X.csv')\n",
    "X2.shape"
   ]
  }
 ],
 "metadata": {
  "kernelspec": {
   "display_name": "Python 2",
   "language": "python",
   "name": "python2"
  },
  "language_info": {
   "codemirror_mode": {
    "name": "ipython",
    "version": 2
   },
   "file_extension": ".py",
   "mimetype": "text/x-python",
   "name": "python",
   "nbconvert_exporter": "python",
   "pygments_lexer": "ipython2",
   "version": "2.7.11"
  }
 },
 "nbformat": 4,
 "nbformat_minor": 0
}
