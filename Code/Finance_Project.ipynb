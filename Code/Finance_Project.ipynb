{
 "cells": [
  {
   "cell_type": "code",
   "execution_count": 1,
   "metadata": {
    "collapsed": false
   },
   "outputs": [],
   "source": [
    "from __future__ import print_function\n",
    "import csv\n",
    "import numpy as np\n",
    "import matplotlib.pyplot as plt\n",
    "import pandas as pd\n",
    "import re\n",
    "from sklearn import svm\n",
    "from sklearn.ensemble import RandomForestClassifier\n",
    "from sklearn import cross_validation\n",
    "from sklearn.metrics import confusion_matrix\n",
    "from datetime import datetime, date, time, timedelta\n",
    "%matplotlib inline"
   ]
  },
  {
   "cell_type": "code",
   "execution_count": 2,
   "metadata": {
    "collapsed": true
   },
   "outputs": [],
   "source": [
    "# Read data\n",
    "AAPL = pd.read_csv(\"../Data/AAPL_05222012_0930_1300_LOB_2.csv\")"
   ]
  },
  {
   "cell_type": "code",
   "execution_count": 3,
   "metadata": {
    "collapsed": false
   },
   "outputs": [
    {
     "data": {
      "text/plain": [
       "(332673, 62)"
      ]
     },
     "execution_count": 3,
     "metadata": {},
     "output_type": "execute_result"
    }
   ],
   "source": [
    "# Change column name\n",
    "AAPL.columns = [col_name.split('.')[1] if len(col_name) > 5 else col_name for col_name in AAPL.columns]\n",
    "\n",
    "# Dimension of the data frame\n",
    "AAPL.shape"
   ]
  },
  {
   "cell_type": "markdown",
   "metadata": {},
   "source": [
    "### Basic Set"
   ]
  },
  {
   "cell_type": "code",
   "execution_count": 4,
   "metadata": {
    "collapsed": false
   },
   "outputs": [
    {
     "data": {
      "text/plain": [
       "Index([u'Index', u'Time', u'BID_PRICE1', u'BID_UPDATE_TIME1', u'BID_SIZE1',\n",
       "       u'ASK_PRICE1', u'ASK_UPDATE_TIME1', u'ASK_SIZE1', u'BID_PRICE2',\n",
       "       u'BID_UPDATE_TIME2', u'BID_SIZE2', u'ASK_PRICE2', u'ASK_UPDATE_TIME2',\n",
       "       u'ASK_SIZE2', u'BID_PRICE3', u'BID_UPDATE_TIME3', u'BID_SIZE3',\n",
       "       u'ASK_PRICE3', u'ASK_UPDATE_TIME3', u'ASK_SIZE3', u'BID_PRICE4',\n",
       "       u'BID_UPDATE_TIME4', u'BID_SIZE4', u'ASK_PRICE4', u'ASK_UPDATE_TIME4',\n",
       "       u'ASK_SIZE4', u'BID_PRICE5', u'BID_UPDATE_TIME5', u'BID_SIZE5',\n",
       "       u'ASK_PRICE5', u'ASK_UPDATE_TIME5', u'ASK_SIZE5', u'BID_PRICE6',\n",
       "       u'BID_UPDATE_TIME6', u'BID_SIZE6', u'ASK_PRICE6', u'ASK_UPDATE_TIME6',\n",
       "       u'ASK_SIZE6', u'BID_PRICE7', u'BID_UPDATE_TIME7', u'BID_SIZE7',\n",
       "       u'ASK_PRICE7', u'ASK_UPDATE_TIME7', u'ASK_SIZE7', u'BID_PRICE8',\n",
       "       u'BID_UPDATE_TIME8', u'BID_SIZE8', u'ASK_PRICE8', u'ASK_UPDATE_TIME8',\n",
       "       u'ASK_SIZE8', u'BID_PRICE9', u'BID_UPDATE_TIME9', u'BID_SIZE9',\n",
       "       u'ASK_PRICE9', u'ASK_UPDATE_TIME9', u'ASK_SIZE9', u'BID_PRICE10',\n",
       "       u'BID_UPDATE_TIME10', u'BID_SIZE10', u'ASK_PRICE10',\n",
       "       u'ASK_UPDATE_TIME10', u'ASK_SIZE10'],\n",
       "      dtype='object')"
      ]
     },
     "execution_count": 4,
     "metadata": {},
     "output_type": "execute_result"
    }
   ],
   "source": [
    "# Price and Volume\n",
    "AAPL.columns"
   ]
  },
  {
   "cell_type": "markdown",
   "metadata": {},
   "source": [
    "### Time-insenstive Set\n",
    "* bid-ask spreads    \n",
    "We calculate mid-price by $$Spread_i = P^{ask}_{i} - P^{bid}_{i}$$"
   ]
  },
  {
   "cell_type": "code",
   "execution_count": 5,
   "metadata": {
    "collapsed": true
   },
   "outputs": [],
   "source": [
    "AAPL['SPREAD1'] = AAPL['ASK_PRICE1'] - AAPL['BID_PRICE1']\n",
    "AAPL['SPREAD2'] = AAPL['ASK_PRICE2'] - AAPL['BID_PRICE2']\n",
    "AAPL['SPREAD3'] = AAPL['ASK_PRICE3'] - AAPL['BID_PRICE3']\n",
    "AAPL['SPREAD4'] = AAPL['ASK_PRICE4'] - AAPL['BID_PRICE4']\n",
    "AAPL['SPREAD5'] = AAPL['ASK_PRICE5'] - AAPL['BID_PRICE5']\n",
    "AAPL['SPREAD6'] = AAPL['ASK_PRICE6'] - AAPL['BID_PRICE6']\n",
    "AAPL['SPREAD7'] = AAPL['ASK_PRICE7'] - AAPL['BID_PRICE7']\n",
    "AAPL['SPREAD8'] = AAPL['ASK_PRICE8'] - AAPL['BID_PRICE8']\n",
    "AAPL['SPREAD9'] = AAPL['ASK_PRICE9'] - AAPL['BID_PRICE9']\n",
    "AAPL['SPREAD10'] = AAPL['ASK_PRICE10'] - AAPL['BID_PRICE10']"
   ]
  },
  {
   "cell_type": "markdown",
   "metadata": {},
   "source": [
    "* mid-prices    \n",
    "$$P^{mid}_{i} = \\frac{1}{2}(P^{ask}_{i} + P^{bid}_{i})$$"
   ]
  },
  {
   "cell_type": "code",
   "execution_count": 6,
   "metadata": {
    "collapsed": true
   },
   "outputs": [],
   "source": [
    "AAPL['MID_PRICE1'] = (AAPL['BID_PRICE1'] + AAPL['ASK_PRICE1'])/2\n",
    "AAPL['MID_PRICE2'] = (AAPL['BID_PRICE2'] + AAPL['ASK_PRICE2'])/2\n",
    "AAPL['MID_PRICE3'] = (AAPL['BID_PRICE3'] + AAPL['ASK_PRICE3'])/2\n",
    "AAPL['MID_PRICE4'] = (AAPL['BID_PRICE4'] + AAPL['ASK_PRICE4'])/2\n",
    "AAPL['MID_PRICE5'] = (AAPL['BID_PRICE5'] + AAPL['ASK_PRICE5'])/2\n",
    "AAPL['MID_PRICE6'] = (AAPL['BID_PRICE6'] + AAPL['ASK_PRICE6'])/2\n",
    "AAPL['MID_PRICE7'] = (AAPL['BID_PRICE7'] + AAPL['ASK_PRICE7'])/2\n",
    "AAPL['MID_PRICE8'] = (AAPL['BID_PRICE8'] + AAPL['ASK_PRICE8'])/2\n",
    "AAPL['MID_PRICE9'] = (AAPL['BID_PRICE9'] + AAPL['ASK_PRICE9'])/2\n",
    "AAPL['MID_PRICE10'] = (AAPL['BID_PRICE10'] + AAPL['ASK_PRICE10'])/2"
   ]
  },
  {
   "cell_type": "markdown",
   "metadata": {},
   "source": [
    "* price differences\n",
    "$$\\text{Range(ask)}=P^{ask}_{n} - P^{ask}_{1}$$\n",
    "$$\\text{Range(bid)}=P^{bid}_{1} - P^{bid}_{n}$$"
   ]
  },
  {
   "cell_type": "code",
   "execution_count": 7,
   "metadata": {
    "collapsed": true
   },
   "outputs": [],
   "source": [
    "# Range\n",
    "AAPL['ASK_RANGE'] = AAPL.ASK_PRICE10 - AAPL.ASK_PRICE1\n",
    "AAPL['BID_RANGE'] = AAPL.BID_PRICE1 - AAPL.BID_PRICE10\n",
    "\n",
    "# Absolute difference for ask\n",
    "AAPL['ASK21'] = np.absolute(AAPL.ASK_PRICE2 - AAPL.ASK_PRICE1)\n",
    "AAPL['ASK32'] = np.absolute(AAPL.ASK_PRICE3 - AAPL.ASK_PRICE2)\n",
    "AAPL['ASK43'] = np.absolute(AAPL.ASK_PRICE4 - AAPL.ASK_PRICE3)\n",
    "AAPL['ASK54'] = np.absolute(AAPL.ASK_PRICE5 - AAPL.ASK_PRICE4)\n",
    "AAPL['ASK65'] = np.absolute(AAPL.ASK_PRICE6 - AAPL.ASK_PRICE5)\n",
    "AAPL['ASK76'] = np.absolute(AAPL.ASK_PRICE7 - AAPL.ASK_PRICE6)\n",
    "AAPL['ASK87'] = np.absolute(AAPL.ASK_PRICE8 - AAPL.ASK_PRICE7)\n",
    "AAPL['ASK98'] = np.absolute(AAPL.ASK_PRICE9 - AAPL.ASK_PRICE8)\n",
    "AAPL['ASK109'] = np.absolute(AAPL.ASK_PRICE10 - AAPL.ASK_PRICE9)\n",
    "\n",
    "# Absolute difference for bid\n",
    "AAPL['BID21'] = np.absolute(AAPL.BID_PRICE2 - AAPL.BID_PRICE1)\n",
    "AAPL['BID32'] = np.absolute(AAPL.BID_PRICE3 - AAPL.BID_PRICE2)\n",
    "AAPL['BID43'] = np.absolute(AAPL.BID_PRICE4 - AAPL.BID_PRICE3)\n",
    "AAPL['BID54'] = np.absolute(AAPL.BID_PRICE5 - AAPL.BID_PRICE4)\n",
    "AAPL['BID65'] = np.absolute(AAPL.BID_PRICE6 - AAPL.BID_PRICE5)\n",
    "AAPL['BID76'] = np.absolute(AAPL.BID_PRICE7 - AAPL.BID_PRICE6)\n",
    "AAPL['BID87'] = np.absolute(AAPL.BID_PRICE8 - AAPL.BID_PRICE7)\n",
    "AAPL['BID98'] = np.absolute(AAPL.BID_PRICE9 - AAPL.BID_PRICE8)\n",
    "AAPL['BID109'] = np.absolute(AAPL.BID_PRICE10 - AAPL.BID_PRICE9)"
   ]
  },
  {
   "cell_type": "markdown",
   "metadata": {},
   "source": [
    "* mean prices"
   ]
  },
  {
   "cell_type": "code",
   "execution_count": 8,
   "metadata": {
    "collapsed": true
   },
   "outputs": [],
   "source": [
    "# mean bid price\n",
    "AAPL['MEAN_BID_PRICE'] = 0.1*(AAPL['BID_PRICE1'] + AAPL['BID_PRICE2'] + AAPL['BID_PRICE3'] +\n",
    "                              AAPL['BID_PRICE4'] + AAPL['BID_PRICE5'] + AAPL['BID_PRICE6'] +\n",
    "                              AAPL['BID_PRICE7'] + AAPL['BID_PRICE8'] + AAPL['BID_PRICE9'] + AAPL['BID_PRICE10'])\n",
    "\n",
    "# mean ask price\n",
    "AAPL['MEAN_ASK_PRICE'] = 0.1*(AAPL['ASK_PRICE1'] + AAPL['ASK_PRICE2'] + AAPL['ASK_PRICE3'] +\n",
    "                              AAPL['ASK_PRICE4'] + AAPL['ASK_PRICE5'] + AAPL['ASK_PRICE6'] +\n",
    "                              AAPL['ASK_PRICE7'] + AAPL['ASK_PRICE8'] + AAPL['ASK_PRICE9'] + AAPL['ASK_PRICE10'])"
   ]
  },
  {
   "cell_type": "markdown",
   "metadata": {},
   "source": [
    "* mean volumes"
   ]
  },
  {
   "cell_type": "code",
   "execution_count": 9,
   "metadata": {
    "collapsed": true
   },
   "outputs": [],
   "source": [
    "# mean bid volume\n",
    "AAPL['MEAN_BID_SIZE'] = 0.1*(AAPL['BID_SIZE1'] + AAPL['BID_SIZE2'] + AAPL['BID_SIZE3'] +\n",
    "                             AAPL['BID_SIZE4'] + AAPL['BID_SIZE5'] + AAPL['BID_SIZE6'] +\n",
    "                             AAPL['BID_SIZE7'] + AAPL['BID_SIZE8'] + AAPL['BID_SIZE9'] + AAPL['BID_SIZE10'])\n",
    "\n",
    "# mean ask volume\n",
    "AAPL['MEAN_ASK_SIZE'] = 0.1*(AAPL['ASK_SIZE1'] + AAPL['ASK_SIZE2'] + AAPL['ASK_SIZE3'] + \n",
    "                             AAPL['ASK_SIZE4'] + AAPL['ASK_SIZE5'] + AAPL['ASK_SIZE6'] +\n",
    "                             AAPL['ASK_SIZE7'] + AAPL['ASK_SIZE8'] + AAPL['ASK_SIZE9'] + AAPL['ASK_SIZE10'])"
   ]
  },
  {
   "cell_type": "markdown",
   "metadata": {},
   "source": [
    "* accumulated differences"
   ]
  },
  {
   "cell_type": "code",
   "execution_count": 10,
   "metadata": {
    "collapsed": false
   },
   "outputs": [],
   "source": [
    "# Price\n",
    "AAPL['PRICE_ASK_BID'] = (AAPL['SPREAD1'] + AAPL['SPREAD2'] + AAPL['SPREAD3'] + \n",
    "                         AAPL['SPREAD4'] + AAPL['SPREAD5'] + AAPL['SPREAD6'] +\n",
    "                         AAPL['SPREAD7'] + AAPL['SPREAD8'] + AAPL['SPREAD9'] + AAPL['SPREAD10'])\n",
    "\n",
    "# Volume\n",
    "AAPL['SIZE_ASK_BID'] = sum((AAPL.ASK_SIZE1 - AAPL.BID_SIZE1, AAPL.ASK_SIZE2 - AAPL.BID_SIZE2,\n",
    "                            AAPL.ASK_SIZE3 - AAPL.BID_SIZE3, AAPL.ASK_SIZE4 - AAPL.BID_SIZE4,\n",
    "                            AAPL.ASK_SIZE5 - AAPL.BID_SIZE5, AAPL.ASK_SIZE6 - AAPL.BID_SIZE6,\n",
    "                            AAPL.ASK_SIZE7 - AAPL.BID_SIZE7, AAPL.ASK_SIZE8 - AAPL.BID_SIZE8,\n",
    "                            AAPL.ASK_SIZE9 - AAPL.BID_SIZE9, AAPL.ASK_SIZE10 - AAPL.BID_SIZE10))"
   ]
  },
  {
   "cell_type": "code",
   "execution_count": 11,
   "metadata": {
    "collapsed": false
   },
   "outputs": [
    {
     "data": {
      "text/plain": [
       "(332673, 108)"
      ]
     },
     "execution_count": 11,
     "metadata": {},
     "output_type": "execute_result"
    }
   ],
   "source": [
    "AAPL.shape"
   ]
  },
  {
   "cell_type": "markdown",
   "metadata": {},
   "source": [
    "### Time-sensitive Set"
   ]
  },
  {
   "cell_type": "code",
   "execution_count": 12,
   "metadata": {
    "collapsed": false
   },
   "outputs": [],
   "source": [
    "# Create time variable\n",
    "time = np.array([datetime.strptime(time, \"%Y/%m/%d %H:%M:%S.%f\") for time in AAPL['Time']])"
   ]
  },
  {
   "cell_type": "code",
   "execution_count": 13,
   "metadata": {
    "collapsed": false
   },
   "outputs": [],
   "source": [
    "index = np.zeros(len(time))\n",
    "for i in np.arange(len(time)):\n",
    "    j = i\n",
    "    t_standard = time[i] - timedelta(seconds=1)\n",
    "    while t_standard < time[j] or time[j] == time[j - 1]:\n",
    "        if j == 0: break\n",
    "        j = j - 1\n",
    "    index[i] = j"
   ]
  },
  {
   "cell_type": "code",
   "execution_count": 14,
   "metadata": {
    "collapsed": false
   },
   "outputs": [
    {
     "data": {
      "text/plain": [
       "array([datetime.datetime(2012, 5, 22, 9, 30),\n",
       "       datetime.datetime(2012, 5, 22, 9, 30, 0, 3000),\n",
       "       datetime.datetime(2012, 5, 22, 9, 30, 0, 3000)], dtype=object)"
      ]
     },
     "execution_count": 14,
     "metadata": {},
     "output_type": "execute_result"
    }
   ],
   "source": [
    "time[0:3]"
   ]
  },
  {
   "cell_type": "code",
   "execution_count": 15,
   "metadata": {
    "collapsed": false
   },
   "outputs": [
    {
     "data": {
      "text/plain": [
       "datetime.datetime(2012, 5, 22, 9, 30, 1, 5000)"
      ]
     },
     "execution_count": 15,
     "metadata": {},
     "output_type": "execute_result"
    }
   ],
   "source": [
    "time[354]"
   ]
  },
  {
   "cell_type": "code",
   "execution_count": 16,
   "metadata": {
    "collapsed": false
   },
   "outputs": [
    {
     "data": {
      "text/plain": [
       "1.0"
      ]
     },
     "execution_count": 16,
     "metadata": {},
     "output_type": "execute_result"
    }
   ],
   "source": [
    "index[354]"
   ]
  },
  {
   "cell_type": "code",
   "execution_count": 17,
   "metadata": {
    "collapsed": false
   },
   "outputs": [
    {
     "data": {
      "text/plain": [
       "array([datetime.datetime(2012, 5, 22, 9, 30, 1, 1000),\n",
       "       datetime.datetime(2012, 5, 22, 9, 30, 1, 5000),\n",
       "       datetime.datetime(2012, 5, 22, 9, 30, 1, 38000)], dtype=object)"
      ]
     },
     "execution_count": 17,
     "metadata": {},
     "output_type": "execute_result"
    }
   ],
   "source": [
    "time[353:356]"
   ]
  },
  {
   "cell_type": "code",
   "execution_count": 18,
   "metadata": {
    "collapsed": false
   },
   "outputs": [
    {
     "data": {
      "text/plain": [
       "datetime.datetime(2012, 5, 22, 9, 30, 2, 13000)"
      ]
     },
     "execution_count": 18,
     "metadata": {},
     "output_type": "execute_result"
    }
   ],
   "source": [
    "time[378]"
   ]
  },
  {
   "cell_type": "code",
   "execution_count": 19,
   "metadata": {
    "collapsed": false
   },
   "outputs": [
    {
     "data": {
      "text/plain": [
       "354.0"
      ]
     },
     "execution_count": 19,
     "metadata": {},
     "output_type": "execute_result"
    }
   ],
   "source": [
    "index[378]"
   ]
  },
  {
   "cell_type": "code",
   "execution_count": 20,
   "metadata": {
    "collapsed": true
   },
   "outputs": [],
   "source": [
    "def time_derivative(time, price, delta_t=1):\n",
    "    derivative = np.zeros(len(price))\n",
    "    \n",
    "    # Find the index\n",
    "    j = 0\n",
    "    for i in np.arange(len(time)):\n",
    "        j = i\n",
    "        t_standard = time[i] - timedelta(seconds=delta_t)\n",
    "        while t_standard < time[j] or time[j] == time[j - 1]:\n",
    "            if j == 0: break\n",
    "            j = j - 1\n",
    "            \n",
    "        # Once the while loop end the j will be the index of first most recent 1 second\n",
    "        # We can use the index to calculate derivative\n",
    "        derivative[i] = (price[i] - price[j])/(i - j + 1)\n",
    "    \n",
    "    return(derivative)"
   ]
  },
  {
   "cell_type": "markdown",
   "metadata": {},
   "source": [
    "* Price Derivative"
   ]
  },
  {
   "cell_type": "code",
   "execution_count": 21,
   "metadata": {
    "collapsed": false
   },
   "outputs": [],
   "source": [
    "# Bid price derivative\n",
    "AAPL['BID_PDERIV1'] = time_derivative(time, AAPL['BID_PRICE1'])\n",
    "AAPL['BID_PDERIV2'] = time_derivative(time, AAPL['BID_PRICE2'])\n",
    "AAPL['BID_PDERIV3'] = time_derivative(time, AAPL['BID_PRICE3'])\n",
    "AAPL['BID_PDERIV4'] = time_derivative(time, AAPL['BID_PRICE4'])\n",
    "AAPL['BID_PDERIV5'] = time_derivative(time, AAPL['BID_PRICE5'])\n",
    "AAPL['BID_PDERIV6'] = time_derivative(time, AAPL['BID_PRICE6'])\n",
    "AAPL['BID_PDERIV7'] = time_derivative(time, AAPL['BID_PRICE7'])\n",
    "AAPL['BID_PDERIV8'] = time_derivative(time, AAPL['BID_PRICE8'])\n",
    "AAPL['BID_PDERIV9'] = time_derivative(time, AAPL['BID_PRICE9'])\n",
    "AAPL['BID_PDERIV10'] = time_derivative(time, AAPL['BID_PRICE10'])\n",
    "\n",
    "# Ask price derivative\n",
    "AAPL['ASK_PDERIV1'] = time_derivative(time, AAPL['ASK_PRICE1'])\n",
    "AAPL['ASK_PDERIV2'] = time_derivative(time, AAPL['ASK_PRICE2'])\n",
    "AAPL['ASK_PDERIV3'] = time_derivative(time, AAPL['ASK_PRICE3'])\n",
    "AAPL['ASK_PDERIV4'] = time_derivative(time, AAPL['ASK_PRICE4'])\n",
    "AAPL['ASK_PDERIV5'] = time_derivative(time, AAPL['ASK_PRICE5'])\n",
    "AAPL['ASK_PDERIV6'] = time_derivative(time, AAPL['ASK_PRICE6'])\n",
    "AAPL['ASK_PDERIV7'] = time_derivative(time, AAPL['ASK_PRICE7'])\n",
    "AAPL['ASK_PDERIV8'] = time_derivative(time, AAPL['ASK_PRICE8'])\n",
    "AAPL['ASK_PDERIV9'] = time_derivative(time, AAPL['ASK_PRICE9'])\n",
    "AAPL['ASK_PDERIV10'] = time_derivative(time, AAPL['ASK_PRICE10'])"
   ]
  },
  {
   "cell_type": "markdown",
   "metadata": {},
   "source": [
    "* Volume Derivative"
   ]
  },
  {
   "cell_type": "code",
   "execution_count": 22,
   "metadata": {
    "collapsed": true
   },
   "outputs": [],
   "source": [
    "# Bid volume derivative\n",
    "AAPL['BID_SDERIV1'] = time_derivative(time, AAPL['BID_SIZE1'])\n",
    "AAPL['BID_SDERIV2'] = time_derivative(time, AAPL['BID_SIZE2'])\n",
    "AAPL['BID_SDERIV3'] = time_derivative(time, AAPL['BID_SIZE3'])\n",
    "AAPL['BID_SDERIV4'] = time_derivative(time, AAPL['BID_SIZE4'])\n",
    "AAPL['BID_SDERIV5'] = time_derivative(time, AAPL['BID_SIZE5'])\n",
    "AAPL['BID_SDERIV6'] = time_derivative(time, AAPL['BID_SIZE6'])\n",
    "AAPL['BID_SDERIV7'] = time_derivative(time, AAPL['BID_SIZE7'])\n",
    "AAPL['BID_SDERIV8'] = time_derivative(time, AAPL['BID_SIZE8'])\n",
    "AAPL['BID_SDERIV9'] = time_derivative(time, AAPL['BID_SIZE9'])\n",
    "AAPL['BID_SDERIV10'] = time_derivative(time, AAPL['BID_SIZE10'])\n",
    "\n",
    "# Ask volume derivative\n",
    "AAPL['ASK_SDERIV1'] = time_derivative(time, AAPL['ASK_SIZE1'])\n",
    "AAPL['ASK_SDERIV2'] = time_derivative(time, AAPL['ASK_SIZE2'])\n",
    "AAPL['ASK_SDERIV3'] = time_derivative(time, AAPL['ASK_SIZE3'])\n",
    "AAPL['ASK_SDERIV4'] = time_derivative(time, AAPL['ASK_SIZE4'])\n",
    "AAPL['ASK_SDERIV5'] = time_derivative(time, AAPL['ASK_SIZE5'])\n",
    "AAPL['ASK_SDERIV6'] = time_derivative(time, AAPL['ASK_SIZE6'])\n",
    "AAPL['ASK_SDERIV7'] = time_derivative(time, AAPL['ASK_SIZE7'])\n",
    "AAPL['ASK_SDERIV8'] = time_derivative(time, AAPL['ASK_SIZE8'])\n",
    "AAPL['ASK_SDERIV9'] = time_derivative(time, AAPL['ASK_SIZE9'])\n",
    "AAPL['ASK_SDERIV10'] = time_derivative(time, AAPL['ASK_SIZE10'])"
   ]
  },
  {
   "cell_type": "markdown",
   "metadata": {},
   "source": [
    "### Independent variable:\n",
    "* mid-price movement"
   ]
  },
  {
   "cell_type": "code",
   "execution_count": 23,
   "metadata": {
    "collapsed": true
   },
   "outputs": [],
   "source": [
    "def midprice_movement(mid, delta_t):\n",
    "    mid_diff = mid.diff(periods=delta_t)[delta_t:].ravel()\n",
    "    mid_diff = np.append(mid_diff, np.array(np.nan).repeat(delta_t))\n",
    "    \n",
    "    mid_movement = (mid_diff > 0)*1 + (mid_diff < 0)*-1\n",
    "    mid_movement = mid_movement.astype('float')\n",
    "    mid_movement[-delta_t:] = np.nan\n",
    "    \n",
    "    # Change to pandas series and transform to categorical data\n",
    "    mid_movement = pd.Series(pd.Categorical(mid_movement, categories=[-1, 0, 1]))\n",
    "    \n",
    "    # Change label\n",
    "    mid_movement.cat.categories = ['down', 'stationary', 'up']\n",
    "    \n",
    "    return(mid_movement)"
   ]
  },
  {
   "cell_type": "code",
   "execution_count": 24,
   "metadata": {
    "collapsed": false
   },
   "outputs": [],
   "source": [
    "# Create mid-price movement\n",
    "AAPL['MID_MOVEMENT'] = midprice_movement(AAPL['MID_PRICE1'], 10)"
   ]
  },
  {
   "cell_type": "code",
   "execution_count": 25,
   "metadata": {
    "collapsed": false
   },
   "outputs": [
    {
     "data": {
      "text/plain": [
       "stationary    120244\n",
       "down          110049\n",
       "up            102370\n",
       "dtype: int64"
      ]
     },
     "execution_count": 25,
     "metadata": {},
     "output_type": "execute_result"
    }
   ],
   "source": [
    "AAPL['MID_MOVEMENT'].value_counts()"
   ]
  },
  {
   "cell_type": "markdown",
   "metadata": {},
   "source": [
    "* bid-ask spread crossing    \n",
    "\n",
    "For bid-ask spread crossing, we have to consider three scenarios:\n",
    "1. An __upward__ price spread crossing occurs when the best bid price at $t+\\Delta t$ exceeds the best ask price at time $t$ $\\Rightarrow$ $P^{bid}_{t + \\Delta t} > P^{ask}_{t}$ \n",
    "2. A __downward__ price spread crossing happens when the best ask price at $t+\\Delta t$ is less than the best bid price at time $t$ $\\Rightarrow$ $P^{ask}_{t + \\Delta t} < P^{bid}_{t}$ \n",
    "3. No price spread crossing takes place if $P^{ask}_{t + \\Delta t} \\leq P^{bid}_{t}$ and $P^{bid}_{t + \\Delta t} \\geq P^{ask}_{t}$ "
   ]
  },
  {
   "cell_type": "code",
   "execution_count": 26,
   "metadata": {
    "collapsed": true
   },
   "outputs": [],
   "source": [
    "def spread_crossing(bid, ask, delta_t):\n",
    "    # shifted bid (append nan at the last)\n",
    "    bid_shift = np.append(bid[delta_t:], np.array(np.nan).repeat(delta_t))\n",
    "    ask_shift = np.append(ask[delta_t:], np.array(np.nan).repeat(delta_t))\n",
    "    \n",
    "    # Determine up or down\n",
    "    spread = (bid_shift > ask)*1 + (ask_shift < bid)*-1\n",
    "    spread = spread.astype('float')\n",
    "    spread[-delta_t:] = np.nan\n",
    "    \n",
    "    # Change to pandas series and transform to categorical data\n",
    "    spread = pd.Series(pd.Categorical(spread, categories=[-1, 0, 1]))\n",
    "\n",
    "    # Change label\n",
    "    spread.cat.categories = ['down', 'stationary', 'up']\n",
    "    \n",
    "    return(spread)"
   ]
  },
  {
   "cell_type": "code",
   "execution_count": 27,
   "metadata": {
    "collapsed": true
   },
   "outputs": [],
   "source": [
    "# Create spread crossing movement\n",
    "AAPL['SPREAD_CROSSING'] = spread_crossing(AAPL['BID_PRICE1'], AAPL['ASK_PRICE1'], 5)"
   ]
  },
  {
   "cell_type": "code",
   "execution_count": 28,
   "metadata": {
    "collapsed": false
   },
   "outputs": [
    {
     "data": {
      "text/plain": [
       "stationary    332398\n",
       "down             148\n",
       "up               122\n",
       "dtype: int64"
      ]
     },
     "execution_count": 28,
     "metadata": {},
     "output_type": "execute_result"
    }
   ],
   "source": [
    "AAPL['SPREAD_CROSSING'].value_counts()"
   ]
  },
  {
   "cell_type": "code",
   "execution_count": 29,
   "metadata": {
    "collapsed": false
   },
   "outputs": [
    {
     "data": {
      "text/plain": [
       "stationary    123000\n",
       "down          112585\n",
       "up             96088\n",
       "dtype: int64"
      ]
     },
     "execution_count": 29,
     "metadata": {},
     "output_type": "execute_result"
    }
   ],
   "source": [
    "spread_crossing(AAPL['BID_PRICE1'], AAPL['ASK_PRICE1'], 1000).value_counts()"
   ]
  },
  {
   "cell_type": "markdown",
   "metadata": {},
   "source": [
    "### Train vs. Test"
   ]
  },
  {
   "cell_type": "code",
   "execution_count": 30,
   "metadata": {
    "collapsed": false
   },
   "outputs": [],
   "source": [
    "# For all the data before 11:00, they are all training set\n",
    "train_index = time < datetime(2012, 5, 22, 11, 0)\n",
    "\n",
    "# Separate training and testing set\n",
    "train = AAPL.iloc[train_index]\n",
    "test = AAPL.iloc[np.logical_not(train_index)]"
   ]
  },
  {
   "cell_type": "code",
   "execution_count": 31,
   "metadata": {
    "collapsed": false
   },
   "outputs": [
    {
     "data": {
      "text/plain": [
       "(203349, 150)"
      ]
     },
     "execution_count": 31,
     "metadata": {},
     "output_type": "execute_result"
    }
   ],
   "source": [
    "train.shape"
   ]
  },
  {
   "cell_type": "code",
   "execution_count": 32,
   "metadata": {
    "collapsed": false
   },
   "outputs": [
    {
     "data": {
      "text/plain": [
       "(129324, 150)"
      ]
     },
     "execution_count": 32,
     "metadata": {},
     "output_type": "execute_result"
    }
   ],
   "source": [
    "test.shape"
   ]
  },
  {
   "cell_type": "markdown",
   "metadata": {},
   "source": [
    "### Train vs. Validation"
   ]
  },
  {
   "cell_type": "code",
   "execution_count": 33,
   "metadata": {
    "collapsed": false
   },
   "outputs": [],
   "source": [
    "# Take 10% of the training set as validation\n",
    "X_train, X_validation, y_train, y_validation = cross_validation.train_test_split(\n",
    "    train, train['MID_MOVEMENT'], test_size=0.1, random_state=0)"
   ]
  },
  {
   "cell_type": "code",
   "execution_count": 34,
   "metadata": {
    "collapsed": false
   },
   "outputs": [
    {
     "data": {
      "text/plain": [
       "(183014, 150)"
      ]
     },
     "execution_count": 34,
     "metadata": {},
     "output_type": "execute_result"
    }
   ],
   "source": [
    "X_train.shape"
   ]
  },
  {
   "cell_type": "code",
   "execution_count": 35,
   "metadata": {
    "collapsed": false
   },
   "outputs": [
    {
     "data": {
      "text/plain": [
       "(20335, 150)"
      ]
     },
     "execution_count": 35,
     "metadata": {},
     "output_type": "execute_result"
    }
   ],
   "source": [
    "X_validation.shape"
   ]
  },
  {
   "cell_type": "code",
   "execution_count": 36,
   "metadata": {
    "collapsed": false
   },
   "outputs": [
    {
     "data": {
      "text/plain": [
       "Index([u'BID_PRICE1', u'BID_SIZE1', u'ASK_PRICE1', u'ASK_SIZE1', u'BID_PRICE2',\n",
       "       u'BID_SIZE2', u'ASK_PRICE2', u'ASK_SIZE2', u'BID_PRICE3', u'BID_SIZE3',\n",
       "       ...\n",
       "       u'ASK_SDERIV1', u'ASK_SDERIV2', u'ASK_SDERIV3', u'ASK_SDERIV4',\n",
       "       u'ASK_SDERIV5', u'ASK_SDERIV6', u'ASK_SDERIV7', u'ASK_SDERIV8',\n",
       "       u'ASK_SDERIV9', u'ASK_SDERIV10'],\n",
       "      dtype='object', length=126)"
      ]
     },
     "execution_count": 36,
     "metadata": {},
     "output_type": "execute_result"
    }
   ],
   "source": [
    "# Pull out the column name in x\n",
    "r_not_x = re.compile('TIME|INDEX|MID_MOVEMENT|SPREAD_CROSSING')\n",
    "col_in_x = [not bool(r_not_x.search(col.upper())) for col in AAPL.columns]\n",
    "AAPL.columns[col_in_x]"
   ]
  },
  {
   "cell_type": "markdown",
   "metadata": {},
   "source": [
    "### Mid-price Movement"
   ]
  },
  {
   "cell_type": "markdown",
   "metadata": {},
   "source": [
    "### SVM"
   ]
  },
  {
   "cell_type": "code",
   "execution_count": 37,
   "metadata": {
    "collapsed": true
   },
   "outputs": [],
   "source": [
    "# Sample 50000 observation for fitting model\n",
    "np.random.seed(0)\n",
    "t_index = np.random.choice(np.arange(183014), 30000, replace=False)"
   ]
  },
  {
   "cell_type": "code",
   "execution_count": 38,
   "metadata": {
    "collapsed": false
   },
   "outputs": [],
   "source": [
    "# Cross-validation to select C and gamma in SVM kernel\n",
    "C_range = 10.0**np.arange(-3, 4, 1)\n",
    "gamma_range = 10.0**np.arange(-5, 3, 1)\n",
    "\n",
    "clf = svm.SVC()\n",
    "clf.fit(X_train.iloc[:, col_in_x].iloc[t_index], y_train[t_index])\n",
    "prediction = clf.predict(X_validation.iloc[:, col_in_x])"
   ]
  },
  {
   "cell_type": "code",
   "execution_count": 39,
   "metadata": {
    "collapsed": false
   },
   "outputs": [
    {
     "data": {
      "text/plain": [
       "0.37231374477501844"
      ]
     },
     "execution_count": 39,
     "metadata": {},
     "output_type": "execute_result"
    }
   ],
   "source": [
    "np.mean(prediction == y_validation)"
   ]
  },
  {
   "cell_type": "markdown",
   "metadata": {},
   "source": [
    "### Random Forest"
   ]
  },
  {
   "cell_type": "code",
   "execution_count": 40,
   "metadata": {
    "collapsed": false
   },
   "outputs": [],
   "source": [
    "rf_clf = RandomForestClassifier(n_estimators=100, max_features='sqrt')\n",
    "rf_clf.fit(X_train.iloc[:, col_in_x].iloc[t_index], y_train[t_index])\n",
    "prediction = rf_clf.predict(X_validation.iloc[:, col_in_x])"
   ]
  },
  {
   "cell_type": "code",
   "execution_count": 41,
   "metadata": {
    "collapsed": false
   },
   "outputs": [
    {
     "data": {
      "text/plain": [
       "array([[4758, 1397, 1274],\n",
       "       [1141, 4278, 1033],\n",
       "       [1156, 1020, 4278]])"
      ]
     },
     "execution_count": 41,
     "metadata": {},
     "output_type": "execute_result"
    }
   ],
   "source": [
    "confusion_matrix(prediction, y_validation)"
   ]
  },
  {
   "cell_type": "code",
   "execution_count": 42,
   "metadata": {
    "collapsed": false
   },
   "outputs": [
    {
     "data": {
      "text/plain": [
       "0.65473321858864031"
      ]
     },
     "execution_count": 42,
     "metadata": {},
     "output_type": "execute_result"
    }
   ],
   "source": [
    "np.mean(prediction == y_validation)"
   ]
  },
  {
   "cell_type": "code",
   "execution_count": null,
   "metadata": {
    "collapsed": true
   },
   "outputs": [],
   "source": []
  },
  {
   "cell_type": "markdown",
   "metadata": {},
   "source": [
    "### Spread Crossing"
   ]
  },
  {
   "cell_type": "markdown",
   "metadata": {},
   "source": [
    "### SVM"
   ]
  },
  {
   "cell_type": "code",
   "execution_count": null,
   "metadata": {
    "collapsed": true
   },
   "outputs": [],
   "source": []
  },
  {
   "cell_type": "markdown",
   "metadata": {},
   "source": [
    "### Random Forest"
   ]
  },
  {
   "cell_type": "code",
   "execution_count": null,
   "metadata": {
    "collapsed": true
   },
   "outputs": [],
   "source": []
  },
  {
   "cell_type": "markdown",
   "metadata": {},
   "source": [
    "* [sklearn: Ensemble methods](http://scikit-learn.org/stable/modules/ensemble.html)\n",
    "* [sklearn: Random Forest](http://scikit-learn.org/stable/modules/generated/sklearn.ensemble.RandomForestClassifier.html)\n",
    "* [sklearn: SVM](http://scikit-learn.org/stable/modules/svm.html)"
   ]
  }
 ],
 "metadata": {
  "kernelspec": {
   "display_name": "Python 2",
   "language": "python",
   "name": "python2"
  },
  "language_info": {
   "codemirror_mode": {
    "name": "ipython",
    "version": 2
   },
   "file_extension": ".py",
   "mimetype": "text/x-python",
   "name": "python",
   "nbconvert_exporter": "python",
   "pygments_lexer": "ipython2",
   "version": "2.7.11"
  }
 },
 "nbformat": 4,
 "nbformat_minor": 0
}
