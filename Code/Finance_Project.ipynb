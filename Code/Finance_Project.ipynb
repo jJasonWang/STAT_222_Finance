{
 "cells": [
  {
   "cell_type": "code",
   "execution_count": 1,
   "metadata": {
    "collapsed": false
   },
   "outputs": [],
   "source": [
    "from __future__ import print_function\n",
    "import csv\n",
    "import numpy as np\n",
    "import matplotlib.pyplot as plt\n",
    "import pandas as pd\n",
    "import re\n",
    "from sklearn import svm\n",
    "from sklearn.ensemble import RandomForestClassifier\n",
    "from sklearn.ensemble import ExtraTreesClassifier\n",
    "from sklearn.metrics import confusion_matrix\n",
    "from sklearn.metrics import recall_score\n",
    "from sklearn.metrics import precision_score\n",
    "from sklearn.metrics import f1_score\n",
    "from datetime import datetime, date, time, timedelta\n",
    "%matplotlib inline"
   ]
  },
  {
   "cell_type": "code",
   "execution_count": 22,
   "metadata": {
    "collapsed": true
   },
   "outputs": [],
   "source": [
    "# Read data\n",
    "AAPL = pd.read_csv(\"../Data/AAPL_05222012_0930_1300_LOB_2.csv\")"
   ]
  },
  {
   "cell_type": "code",
   "execution_count": 3,
   "metadata": {
    "collapsed": false
   },
   "outputs": [
    {
     "data": {
      "text/plain": [
       "(332673, 62)"
      ]
     },
     "execution_count": 3,
     "metadata": {},
     "output_type": "execute_result"
    }
   ],
   "source": [
    "# Change column name\n",
    "AAPL.columns = [col_name.split('.')[1] if len(col_name) > 5 else col_name for col_name in AAPL.columns]\n",
    "\n",
    "# Dimension of the data frame\n",
    "AAPL.shape"
   ]
  },
  {
   "cell_type": "markdown",
   "metadata": {},
   "source": [
    "### Basic Set"
   ]
  },
  {
   "cell_type": "code",
   "execution_count": 4,
   "metadata": {
    "collapsed": false
   },
   "outputs": [
    {
     "data": {
      "text/plain": [
       "Index([u'Index', u'Time', u'BID_PRICE1', u'BID_UPDATE_TIME1', u'BID_SIZE1',\n",
       "       u'ASK_PRICE1', u'ASK_UPDATE_TIME1', u'ASK_SIZE1', u'BID_PRICE2',\n",
       "       u'BID_UPDATE_TIME2', u'BID_SIZE2', u'ASK_PRICE2', u'ASK_UPDATE_TIME2',\n",
       "       u'ASK_SIZE2', u'BID_PRICE3', u'BID_UPDATE_TIME3', u'BID_SIZE3',\n",
       "       u'ASK_PRICE3', u'ASK_UPDATE_TIME3', u'ASK_SIZE3', u'BID_PRICE4',\n",
       "       u'BID_UPDATE_TIME4', u'BID_SIZE4', u'ASK_PRICE4', u'ASK_UPDATE_TIME4',\n",
       "       u'ASK_SIZE4', u'BID_PRICE5', u'BID_UPDATE_TIME5', u'BID_SIZE5',\n",
       "       u'ASK_PRICE5', u'ASK_UPDATE_TIME5', u'ASK_SIZE5', u'BID_PRICE6',\n",
       "       u'BID_UPDATE_TIME6', u'BID_SIZE6', u'ASK_PRICE6', u'ASK_UPDATE_TIME6',\n",
       "       u'ASK_SIZE6', u'BID_PRICE7', u'BID_UPDATE_TIME7', u'BID_SIZE7',\n",
       "       u'ASK_PRICE7', u'ASK_UPDATE_TIME7', u'ASK_SIZE7', u'BID_PRICE8',\n",
       "       u'BID_UPDATE_TIME8', u'BID_SIZE8', u'ASK_PRICE8', u'ASK_UPDATE_TIME8',\n",
       "       u'ASK_SIZE8', u'BID_PRICE9', u'BID_UPDATE_TIME9', u'BID_SIZE9',\n",
       "       u'ASK_PRICE9', u'ASK_UPDATE_TIME9', u'ASK_SIZE9', u'BID_PRICE10',\n",
       "       u'BID_UPDATE_TIME10', u'BID_SIZE10', u'ASK_PRICE10',\n",
       "       u'ASK_UPDATE_TIME10', u'ASK_SIZE10'],\n",
       "      dtype='object')"
      ]
     },
     "execution_count": 4,
     "metadata": {},
     "output_type": "execute_result"
    }
   ],
   "source": [
    "# Price and Volume\n",
    "AAPL.columns"
   ]
  },
  {
   "cell_type": "markdown",
   "metadata": {},
   "source": [
    "### Time-insenstive Set\n",
    "* bid-ask spreads    \n",
    "We calculate mid-price by $$Spread_i = P^{ask}_{i} - P^{bid}_{i}$$"
   ]
  },
  {
   "cell_type": "code",
   "execution_count": 5,
   "metadata": {
    "collapsed": true
   },
   "outputs": [],
   "source": [
    "AAPL['SPREAD1'] = AAPL['ASK_PRICE1'] - AAPL['BID_PRICE1']\n",
    "AAPL['SPREAD2'] = AAPL['ASK_PRICE2'] - AAPL['BID_PRICE2']\n",
    "AAPL['SPREAD3'] = AAPL['ASK_PRICE3'] - AAPL['BID_PRICE3']\n",
    "AAPL['SPREAD4'] = AAPL['ASK_PRICE4'] - AAPL['BID_PRICE4']\n",
    "AAPL['SPREAD5'] = AAPL['ASK_PRICE5'] - AAPL['BID_PRICE5']\n",
    "AAPL['SPREAD6'] = AAPL['ASK_PRICE6'] - AAPL['BID_PRICE6']\n",
    "AAPL['SPREAD7'] = AAPL['ASK_PRICE7'] - AAPL['BID_PRICE7']\n",
    "AAPL['SPREAD8'] = AAPL['ASK_PRICE8'] - AAPL['BID_PRICE8']\n",
    "AAPL['SPREAD9'] = AAPL['ASK_PRICE9'] - AAPL['BID_PRICE9']\n",
    "AAPL['SPREAD10'] = AAPL['ASK_PRICE10'] - AAPL['BID_PRICE10']"
   ]
  },
  {
   "cell_type": "markdown",
   "metadata": {},
   "source": [
    "* mid-prices    \n",
    "$$P^{mid}_{i} = \\frac{1}{2}(P^{ask}_{i} + P^{bid}_{i})$$"
   ]
  },
  {
   "cell_type": "code",
   "execution_count": 6,
   "metadata": {
    "collapsed": true
   },
   "outputs": [],
   "source": [
    "AAPL['MID_PRICE1'] = (AAPL['BID_PRICE1'] + AAPL['ASK_PRICE1'])/2\n",
    "AAPL['MID_PRICE2'] = (AAPL['BID_PRICE2'] + AAPL['ASK_PRICE2'])/2\n",
    "AAPL['MID_PRICE3'] = (AAPL['BID_PRICE3'] + AAPL['ASK_PRICE3'])/2\n",
    "AAPL['MID_PRICE4'] = (AAPL['BID_PRICE4'] + AAPL['ASK_PRICE4'])/2\n",
    "AAPL['MID_PRICE5'] = (AAPL['BID_PRICE5'] + AAPL['ASK_PRICE5'])/2\n",
    "AAPL['MID_PRICE6'] = (AAPL['BID_PRICE6'] + AAPL['ASK_PRICE6'])/2\n",
    "AAPL['MID_PRICE7'] = (AAPL['BID_PRICE7'] + AAPL['ASK_PRICE7'])/2\n",
    "AAPL['MID_PRICE8'] = (AAPL['BID_PRICE8'] + AAPL['ASK_PRICE8'])/2\n",
    "AAPL['MID_PRICE9'] = (AAPL['BID_PRICE9'] + AAPL['ASK_PRICE9'])/2\n",
    "AAPL['MID_PRICE10'] = (AAPL['BID_PRICE10'] + AAPL['ASK_PRICE10'])/2"
   ]
  },
  {
   "cell_type": "markdown",
   "metadata": {},
   "source": [
    "* price differences\n",
    "$$\\text{Range(ask)}=P^{ask}_{n} - P^{ask}_{1}$$\n",
    "$$\\text{Range(bid)}=P^{bid}_{1} - P^{bid}_{n}$$"
   ]
  },
  {
   "cell_type": "code",
   "execution_count": 7,
   "metadata": {
    "collapsed": true
   },
   "outputs": [],
   "source": [
    "# Range\n",
    "AAPL['ASK_RANGE'] = AAPL.ASK_PRICE10 - AAPL.ASK_PRICE1\n",
    "AAPL['BID_RANGE'] = AAPL.BID_PRICE1 - AAPL.BID_PRICE10\n",
    "\n",
    "# Absolute difference for ask\n",
    "AAPL['ASK21'] = np.absolute(AAPL.ASK_PRICE2 - AAPL.ASK_PRICE1)\n",
    "AAPL['ASK32'] = np.absolute(AAPL.ASK_PRICE3 - AAPL.ASK_PRICE2)\n",
    "AAPL['ASK43'] = np.absolute(AAPL.ASK_PRICE4 - AAPL.ASK_PRICE3)\n",
    "AAPL['ASK54'] = np.absolute(AAPL.ASK_PRICE5 - AAPL.ASK_PRICE4)\n",
    "AAPL['ASK65'] = np.absolute(AAPL.ASK_PRICE6 - AAPL.ASK_PRICE5)\n",
    "AAPL['ASK76'] = np.absolute(AAPL.ASK_PRICE7 - AAPL.ASK_PRICE6)\n",
    "AAPL['ASK87'] = np.absolute(AAPL.ASK_PRICE8 - AAPL.ASK_PRICE7)\n",
    "AAPL['ASK98'] = np.absolute(AAPL.ASK_PRICE9 - AAPL.ASK_PRICE8)\n",
    "AAPL['ASK109'] = np.absolute(AAPL.ASK_PRICE10 - AAPL.ASK_PRICE9)\n",
    "\n",
    "# Absolute difference for bid\n",
    "AAPL['BID21'] = np.absolute(AAPL.BID_PRICE2 - AAPL.BID_PRICE1)\n",
    "AAPL['BID32'] = np.absolute(AAPL.BID_PRICE3 - AAPL.BID_PRICE2)\n",
    "AAPL['BID43'] = np.absolute(AAPL.BID_PRICE4 - AAPL.BID_PRICE3)\n",
    "AAPL['BID54'] = np.absolute(AAPL.BID_PRICE5 - AAPL.BID_PRICE4)\n",
    "AAPL['BID65'] = np.absolute(AAPL.BID_PRICE6 - AAPL.BID_PRICE5)\n",
    "AAPL['BID76'] = np.absolute(AAPL.BID_PRICE7 - AAPL.BID_PRICE6)\n",
    "AAPL['BID87'] = np.absolute(AAPL.BID_PRICE8 - AAPL.BID_PRICE7)\n",
    "AAPL['BID98'] = np.absolute(AAPL.BID_PRICE9 - AAPL.BID_PRICE8)\n",
    "AAPL['BID109'] = np.absolute(AAPL.BID_PRICE10 - AAPL.BID_PRICE9)"
   ]
  },
  {
   "cell_type": "markdown",
   "metadata": {},
   "source": [
    "* mean prices"
   ]
  },
  {
   "cell_type": "code",
   "execution_count": 8,
   "metadata": {
    "collapsed": true
   },
   "outputs": [],
   "source": [
    "# mean bid price\n",
    "AAPL['MEAN_BID_PRICE'] = 0.1*(AAPL['BID_PRICE1'] + AAPL['BID_PRICE2'] + AAPL['BID_PRICE3'] +\n",
    "                              AAPL['BID_PRICE4'] + AAPL['BID_PRICE5'] + AAPL['BID_PRICE6'] +\n",
    "                              AAPL['BID_PRICE7'] + AAPL['BID_PRICE8'] + AAPL['BID_PRICE9'] + AAPL['BID_PRICE10'])\n",
    "\n",
    "# mean ask price\n",
    "AAPL['MEAN_ASK_PRICE'] = 0.1*(AAPL['ASK_PRICE1'] + AAPL['ASK_PRICE2'] + AAPL['ASK_PRICE3'] +\n",
    "                              AAPL['ASK_PRICE4'] + AAPL['ASK_PRICE5'] + AAPL['ASK_PRICE6'] +\n",
    "                              AAPL['ASK_PRICE7'] + AAPL['ASK_PRICE8'] + AAPL['ASK_PRICE9'] + AAPL['ASK_PRICE10'])"
   ]
  },
  {
   "cell_type": "markdown",
   "metadata": {},
   "source": [
    "* mean volumes"
   ]
  },
  {
   "cell_type": "code",
   "execution_count": 9,
   "metadata": {
    "collapsed": true
   },
   "outputs": [],
   "source": [
    "# mean bid volume\n",
    "AAPL['MEAN_BID_SIZE'] = 0.1*(AAPL['BID_SIZE1'] + AAPL['BID_SIZE2'] + AAPL['BID_SIZE3'] +\n",
    "                             AAPL['BID_SIZE4'] + AAPL['BID_SIZE5'] + AAPL['BID_SIZE6'] +\n",
    "                             AAPL['BID_SIZE7'] + AAPL['BID_SIZE8'] + AAPL['BID_SIZE9'] + AAPL['BID_SIZE10'])\n",
    "\n",
    "# mean ask volume\n",
    "AAPL['MEAN_ASK_SIZE'] = 0.1*(AAPL['ASK_SIZE1'] + AAPL['ASK_SIZE2'] + AAPL['ASK_SIZE3'] + \n",
    "                             AAPL['ASK_SIZE4'] + AAPL['ASK_SIZE5'] + AAPL['ASK_SIZE6'] +\n",
    "                             AAPL['ASK_SIZE7'] + AAPL['ASK_SIZE8'] + AAPL['ASK_SIZE9'] + AAPL['ASK_SIZE10'])"
   ]
  },
  {
   "cell_type": "markdown",
   "metadata": {},
   "source": [
    "* accumulated differences"
   ]
  },
  {
   "cell_type": "code",
   "execution_count": 10,
   "metadata": {
    "collapsed": false
   },
   "outputs": [],
   "source": [
    "# Price\n",
    "AAPL['PRICE_ASK_BID'] = (AAPL['SPREAD1'] + AAPL['SPREAD2'] + AAPL['SPREAD3'] + \n",
    "                         AAPL['SPREAD4'] + AAPL['SPREAD5'] + AAPL['SPREAD6'] +\n",
    "                         AAPL['SPREAD7'] + AAPL['SPREAD8'] + AAPL['SPREAD9'] + AAPL['SPREAD10'])\n",
    "\n",
    "# Volume\n",
    "AAPL['SIZE_ASK_BID'] = sum((AAPL.ASK_SIZE1 - AAPL.BID_SIZE1, AAPL.ASK_SIZE2 - AAPL.BID_SIZE2,\n",
    "                            AAPL.ASK_SIZE3 - AAPL.BID_SIZE3, AAPL.ASK_SIZE4 - AAPL.BID_SIZE4,\n",
    "                            AAPL.ASK_SIZE5 - AAPL.BID_SIZE5, AAPL.ASK_SIZE6 - AAPL.BID_SIZE6,\n",
    "                            AAPL.ASK_SIZE7 - AAPL.BID_SIZE7, AAPL.ASK_SIZE8 - AAPL.BID_SIZE8,\n",
    "                            AAPL.ASK_SIZE9 - AAPL.BID_SIZE9, AAPL.ASK_SIZE10 - AAPL.BID_SIZE10))"
   ]
  },
  {
   "cell_type": "markdown",
   "metadata": {},
   "source": [
    "### Time-sensitive Set"
   ]
  },
  {
   "cell_type": "code",
   "execution_count": 11,
   "metadata": {
    "collapsed": false
   },
   "outputs": [],
   "source": [
    "# Create time variable\n",
    "time = np.array([datetime.strptime(time, \"%Y/%m/%d %H:%M:%S.%f\") for time in AAPL['Time']])"
   ]
  },
  {
   "cell_type": "code",
   "execution_count": 19,
   "metadata": {
    "collapsed": true
   },
   "outputs": [],
   "source": [
    "def time_derivative(time, price, delta_t=1):\n",
    "    derivative = np.zeros(len(price))\n",
    "    \n",
    "    # Find the index\n",
    "    j = 0\n",
    "    for i in np.arange(len(time)):\n",
    "        j = i\n",
    "        t_standard = time[i] - timedelta(seconds=delta_t)\n",
    "        while t_standard < time[j] or time[j] == time[j - 1]:\n",
    "            if j == 0: break\n",
    "            j = j - 1\n",
    "            \n",
    "        # Once the while loop end the j will be the index of first most recent 1 second\n",
    "        # We can use the index to calculate derivative\n",
    "        derivative[i] = (price[i] - price[j])/(i - j + 1)\n",
    "    \n",
    "    return(derivative)"
   ]
  },
  {
   "cell_type": "markdown",
   "metadata": {},
   "source": [
    "* Price Derivative"
   ]
  },
  {
   "cell_type": "code",
   "execution_count": 20,
   "metadata": {
    "collapsed": false
   },
   "outputs": [],
   "source": [
    "# Bid price derivative\n",
    "AAPL['BID_PDERIV1'] = time_derivative(time, AAPL['BID_PRICE1'])\n",
    "AAPL['BID_PDERIV2'] = time_derivative(time, AAPL['BID_PRICE2'])\n",
    "AAPL['BID_PDERIV3'] = time_derivative(time, AAPL['BID_PRICE3'])\n",
    "AAPL['BID_PDERIV4'] = time_derivative(time, AAPL['BID_PRICE4'])\n",
    "AAPL['BID_PDERIV5'] = time_derivative(time, AAPL['BID_PRICE5'])\n",
    "AAPL['BID_PDERIV6'] = time_derivative(time, AAPL['BID_PRICE6'])\n",
    "AAPL['BID_PDERIV7'] = time_derivative(time, AAPL['BID_PRICE7'])\n",
    "AAPL['BID_PDERIV8'] = time_derivative(time, AAPL['BID_PRICE8'])\n",
    "AAPL['BID_PDERIV9'] = time_derivative(time, AAPL['BID_PRICE9'])\n",
    "AAPL['BID_PDERIV10'] = time_derivative(time, AAPL['BID_PRICE10'])\n",
    "\n",
    "# Ask price derivative\n",
    "AAPL['ASK_PDERIV1'] = time_derivative(time, AAPL['ASK_PRICE1'])\n",
    "AAPL['ASK_PDERIV2'] = time_derivative(time, AAPL['ASK_PRICE2'])\n",
    "AAPL['ASK_PDERIV3'] = time_derivative(time, AAPL['ASK_PRICE3'])\n",
    "AAPL['ASK_PDERIV4'] = time_derivative(time, AAPL['ASK_PRICE4'])\n",
    "AAPL['ASK_PDERIV5'] = time_derivative(time, AAPL['ASK_PRICE5'])\n",
    "AAPL['ASK_PDERIV6'] = time_derivative(time, AAPL['ASK_PRICE6'])\n",
    "AAPL['ASK_PDERIV7'] = time_derivative(time, AAPL['ASK_PRICE7'])\n",
    "AAPL['ASK_PDERIV8'] = time_derivative(time, AAPL['ASK_PRICE8'])\n",
    "AAPL['ASK_PDERIV9'] = time_derivative(time, AAPL['ASK_PRICE9'])\n",
    "AAPL['ASK_PDERIV10'] = time_derivative(time, AAPL['ASK_PRICE10'])"
   ]
  },
  {
   "cell_type": "markdown",
   "metadata": {},
   "source": [
    "* Volume Derivative"
   ]
  },
  {
   "cell_type": "code",
   "execution_count": 21,
   "metadata": {
    "collapsed": true
   },
   "outputs": [],
   "source": [
    "# Bid volume derivative\n",
    "AAPL['BID_SDERIV1'] = time_derivative(time, AAPL['BID_SIZE1'])\n",
    "AAPL['BID_SDERIV2'] = time_derivative(time, AAPL['BID_SIZE2'])\n",
    "AAPL['BID_SDERIV3'] = time_derivative(time, AAPL['BID_SIZE3'])\n",
    "AAPL['BID_SDERIV4'] = time_derivative(time, AAPL['BID_SIZE4'])\n",
    "AAPL['BID_SDERIV5'] = time_derivative(time, AAPL['BID_SIZE5'])\n",
    "AAPL['BID_SDERIV6'] = time_derivative(time, AAPL['BID_SIZE6'])\n",
    "AAPL['BID_SDERIV7'] = time_derivative(time, AAPL['BID_SIZE7'])\n",
    "AAPL['BID_SDERIV8'] = time_derivative(time, AAPL['BID_SIZE8'])\n",
    "AAPL['BID_SDERIV9'] = time_derivative(time, AAPL['BID_SIZE9'])\n",
    "AAPL['BID_SDERIV10'] = time_derivative(time, AAPL['BID_SIZE10'])\n",
    "\n",
    "# Ask volume derivative\n",
    "AAPL['ASK_SDERIV1'] = time_derivative(time, AAPL['ASK_SIZE1'])\n",
    "AAPL['ASK_SDERIV2'] = time_derivative(time, AAPL['ASK_SIZE2'])\n",
    "AAPL['ASK_SDERIV3'] = time_derivative(time, AAPL['ASK_SIZE3'])\n",
    "AAPL['ASK_SDERIV4'] = time_derivative(time, AAPL['ASK_SIZE4'])\n",
    "AAPL['ASK_SDERIV5'] = time_derivative(time, AAPL['ASK_SIZE5'])\n",
    "AAPL['ASK_SDERIV6'] = time_derivative(time, AAPL['ASK_SIZE6'])\n",
    "AAPL['ASK_SDERIV7'] = time_derivative(time, AAPL['ASK_SIZE7'])\n",
    "AAPL['ASK_SDERIV8'] = time_derivative(time, AAPL['ASK_SIZE8'])\n",
    "AAPL['ASK_SDERIV9'] = time_derivative(time, AAPL['ASK_SIZE9'])\n",
    "AAPL['ASK_SDERIV10'] = time_derivative(time, AAPL['ASK_SIZE10'])"
   ]
  },
  {
   "cell_type": "markdown",
   "metadata": {},
   "source": [
    "### Reading the data after preprocessing"
   ]
  },
  {
   "cell_type": "code",
   "execution_count": 2,
   "metadata": {
    "collapsed": false
   },
   "outputs": [
    {
     "name": "stderr",
     "output_type": "stream",
     "text": [
      "C:\\Users\\jason\\Anaconda3\\envs\\ipykernel_py2\\lib\\site-packages\\IPython\\core\\interactiveshell.py:2723: DtypeWarning: Columns (129) have mixed types. Specify dtype option on import or set low_memory=False.\n",
      "  interactivity=interactivity, compiler=compiler, result=result)\n"
     ]
    }
   ],
   "source": [
    "AAPL = pd.read_csv('../Data/X.csv')"
   ]
  },
  {
   "cell_type": "markdown",
   "metadata": {},
   "source": [
    "### Independent variable:\n",
    "* mid-price movement"
   ]
  },
  {
   "cell_type": "code",
   "execution_count": 3,
   "metadata": {
    "collapsed": true
   },
   "outputs": [],
   "source": [
    "def midprice_movement(mid, delta_t):\n",
    "    mid_diff = mid.diff(periods=delta_t)[delta_t:].ravel()\n",
    "    mid_diff = np.append(mid_diff, np.array(np.nan).repeat(delta_t))\n",
    "    \n",
    "    mid_movement = (mid_diff > 0)*1 + (mid_diff < 0)*-1\n",
    "    mid_movement = mid_movement.astype('float')\n",
    "    mid_movement[-delta_t:] = np.nan\n",
    "    \n",
    "    # Change to pandas series and transform to categorical data\n",
    "    mid_movement = pd.Series(pd.Categorical(mid_movement, categories=[-1, 0, 1]))\n",
    "    \n",
    "    # Change label\n",
    "    mid_movement.cat.categories = ['down', 'stationary', 'up']\n",
    "    \n",
    "    return(mid_movement)"
   ]
  },
  {
   "cell_type": "code",
   "execution_count": 4,
   "metadata": {
    "collapsed": false
   },
   "outputs": [],
   "source": [
    "# Create mid-price movement\n",
    "AAPL['MID_MOVEMENT'] = midprice_movement(AAPL['MID_PRICE1'], 10)"
   ]
  },
  {
   "cell_type": "code",
   "execution_count": 5,
   "metadata": {
    "collapsed": false,
    "scrolled": true
   },
   "outputs": [
    {
     "data": {
      "text/plain": [
       "stationary    120488\n",
       "down          109929\n",
       "up            102246\n",
       "dtype: int64"
      ]
     },
     "execution_count": 5,
     "metadata": {},
     "output_type": "execute_result"
    }
   ],
   "source": [
    "AAPL['MID_MOVEMENT'].value_counts()"
   ]
  },
  {
   "cell_type": "markdown",
   "metadata": {},
   "source": [
    "* bid-ask spread crossing    \n",
    "\n",
    "For bid-ask spread crossing, we have to consider three scenarios:\n",
    "1. An __upward__ price spread crossing occurs when the best bid price at $t+\\Delta t$ exceeds the best ask price at time $t$ $\\Rightarrow$ $P^{bid}_{t + \\Delta t} > P^{ask}_{t}$ \n",
    "2. A __downward__ price spread crossing happens when the best ask price at $t+\\Delta t$ is less than the best bid price at time $t$ $\\Rightarrow$ $P^{ask}_{t + \\Delta t} < P^{bid}_{t}$ \n",
    "3. No price spread crossing takes place if $P^{ask}_{t + \\Delta t} \\leq P^{bid}_{t}$ and $P^{bid}_{t + \\Delta t} \\geq P^{ask}_{t}$ "
   ]
  },
  {
   "cell_type": "code",
   "execution_count": 6,
   "metadata": {
    "collapsed": true
   },
   "outputs": [],
   "source": [
    "def spread_crossing(bid, ask, delta_t):\n",
    "    # shifted bid (append nan at the last)\n",
    "    bid_shift = np.append(bid[delta_t:], np.array(np.nan).repeat(delta_t))\n",
    "    ask_shift = np.append(ask[delta_t:], np.array(np.nan).repeat(delta_t))\n",
    "    \n",
    "    # Determine up or down\n",
    "    spread = (bid_shift > ask)*1 + (ask_shift < bid)*-1\n",
    "    spread = spread.astype('float')\n",
    "    spread[-delta_t:] = np.nan\n",
    "    \n",
    "    # Change to pandas series and transform to categorical data\n",
    "    spread = pd.Series(pd.Categorical(spread, categories=[-1, 0, 1]))\n",
    "\n",
    "    # Change label\n",
    "    spread.cat.categories = ['down', 'stationary', 'up']\n",
    "    \n",
    "    return(spread)"
   ]
  },
  {
   "cell_type": "code",
   "execution_count": 7,
   "metadata": {
    "collapsed": true
   },
   "outputs": [],
   "source": [
    "# Create spread crossing movement\n",
    "AAPL['SPREAD_CROSSING'] = spread_crossing(AAPL['BID_PRICE1'], AAPL['ASK_PRICE1'], 1000)"
   ]
  },
  {
   "cell_type": "code",
   "execution_count": 8,
   "metadata": {
    "collapsed": false
   },
   "outputs": [
    {
     "data": {
      "text/plain": [
       "stationary    123000\n",
       "down          112585\n",
       "up             96088\n",
       "dtype: int64"
      ]
     },
     "execution_count": 8,
     "metadata": {},
     "output_type": "execute_result"
    }
   ],
   "source": [
    "AAPL['SPREAD_CROSSING'].value_counts()"
   ]
  },
  {
   "cell_type": "markdown",
   "metadata": {},
   "source": [
    "### First (before 11:00) vs. Second (after 11:00)"
   ]
  },
  {
   "cell_type": "code",
   "execution_count": 9,
   "metadata": {
    "collapsed": false
   },
   "outputs": [],
   "source": [
    "# Create time variable\n",
    "time = np.array([datetime.strptime(time, \"%Y/%m/%d %H:%M:%S.%f\") for time in AAPL['Time']])\n",
    "\n",
    "# Separate time by 11:00\n",
    "first_index = time < datetime(2012, 5, 22, 11, 0)\n",
    "\n",
    "# Separate training and testing set\n",
    "first = AAPL.iloc[first_index]\n",
    "second = AAPL.iloc[np.logical_not(first_index)]"
   ]
  },
  {
   "cell_type": "code",
   "execution_count": 10,
   "metadata": {
    "collapsed": false
   },
   "outputs": [
    {
     "data": {
      "text/plain": [
       "(203349, 130)"
      ]
     },
     "execution_count": 10,
     "metadata": {},
     "output_type": "execute_result"
    }
   ],
   "source": [
    "first.shape"
   ]
  },
  {
   "cell_type": "code",
   "execution_count": 11,
   "metadata": {
    "collapsed": false
   },
   "outputs": [
    {
     "data": {
      "text/plain": [
       "(129324, 130)"
      ]
     },
     "execution_count": 11,
     "metadata": {},
     "output_type": "execute_result"
    }
   ],
   "source": [
    "second.shape"
   ]
  },
  {
   "cell_type": "markdown",
   "metadata": {},
   "source": [
    "### Train, Validation and Test"
   ]
  },
  {
   "cell_type": "code",
   "execution_count": 12,
   "metadata": {
    "collapsed": false
   },
   "outputs": [],
   "source": [
    "index = np.arange(first.shape[0])\n",
    "np.random.seed(0)\n",
    "# Shuffle the index and separate the data into train(50%), validation(25%), and test(25%) set.\n",
    "np.random.shuffle(index)\n",
    "\n",
    "train = first.iloc[index[0:101675]]\n",
    "validation = first.iloc[index[101675:152512]]\n",
    "test = first.iloc[index[152512:]]"
   ]
  },
  {
   "cell_type": "code",
   "execution_count": 13,
   "metadata": {
    "collapsed": false
   },
   "outputs": [
    {
     "data": {
      "text/plain": [
       "(101675, 130)"
      ]
     },
     "execution_count": 13,
     "metadata": {},
     "output_type": "execute_result"
    }
   ],
   "source": [
    "train.shape"
   ]
  },
  {
   "cell_type": "code",
   "execution_count": 14,
   "metadata": {
    "collapsed": false
   },
   "outputs": [
    {
     "data": {
      "text/plain": [
       "(50837, 130)"
      ]
     },
     "execution_count": 14,
     "metadata": {},
     "output_type": "execute_result"
    }
   ],
   "source": [
    "validation.shape"
   ]
  },
  {
   "cell_type": "code",
   "execution_count": 15,
   "metadata": {
    "collapsed": false
   },
   "outputs": [
    {
     "data": {
      "text/plain": [
       "(50837, 130)"
      ]
     },
     "execution_count": 15,
     "metadata": {},
     "output_type": "execute_result"
    }
   ],
   "source": [
    "test.shape"
   ]
  },
  {
   "cell_type": "code",
   "execution_count": 16,
   "metadata": {
    "collapsed": false
   },
   "outputs": [],
   "source": [
    "# Pull out the column name in x\n",
    "r_not_x = re.compile('TIME|INDEX|MID_MOVEMENT|SPREAD_CROSSING')\n",
    "col_in_x = [not bool(r_not_x.search(col.upper())) for col in AAPL.columns]"
   ]
  },
  {
   "cell_type": "code",
   "execution_count": 17,
   "metadata": {
    "collapsed": true
   },
   "outputs": [],
   "source": [
    "# Separate X, y1(midprice), y2(spreadcrossing)\n",
    "X_train = train.iloc[:, col_in_x]\n",
    "y1_train = train['MID_MOVEMENT']\n",
    "y2_train = train['SPREAD_CROSSING']\n",
    "\n",
    "X_validation = validation.iloc[:, col_in_x]\n",
    "y1_validation = validation['MID_MOVEMENT']\n",
    "y2_validation = validation['SPREAD_CROSSING']\n",
    "\n",
    "X_test = test.iloc[:, col_in_x]\n",
    "y1_test = test['MID_MOVEMENT']\n",
    "y2_test = test['SPREAD_CROSSING']"
   ]
  },
  {
   "cell_type": "markdown",
   "metadata": {},
   "source": [
    "### Mid-price Movement"
   ]
  },
  {
   "cell_type": "markdown",
   "metadata": {},
   "source": [
    "### SVM"
   ]
  },
  {
   "cell_type": "code",
   "execution_count": 19,
   "metadata": {
    "collapsed": false
   },
   "outputs": [
    {
     "name": "stdout",
     "output_type": "stream",
     "text": [
      "Start to fit the model with C = 100.0 and gamma = 1e-07\n",
      "0.459763558038\n",
      "Start to fit the model with C = 100.0 and gamma = 1e-06\n",
      "0.478076991168\n",
      "Start to fit the model with C = 100.0 and gamma = 1e-05\n",
      "0.45459016071\n",
      "Start to fit the model with C = 100.0 and gamma = 0.0001\n",
      "0.393374904105\n",
      "Start to fit the model with C = 100.0 and gamma = 0.001\n",
      "0.358557743376\n",
      "Start to fit the model with C = 1000.0 and gamma = 1e-07\n",
      "0.459193107382\n",
      "Start to fit the model with C = 1000.0 and gamma = 1e-06\n",
      "0.477270491965\n",
      "Start to fit the model with C = 1000.0 and gamma = 1e-05\n",
      "0.454649172847\n",
      "Start to fit the model with C = 1000.0 and gamma = 0.0001\n",
      "0.393119184846\n",
      "Start to fit the model with C = 1000.0 and gamma = 0.001\n",
      "0.358557743376\n",
      "Start to fit the model with C = 10000.0 and gamma = 1e-07\n",
      "0.456537561225\n",
      "Start to fit the model with C = 10000.0 and gamma = 1e-06\n",
      "0.476031237091\n",
      "Start to fit the model with C = 10000.0 and gamma = 1e-05\n",
      "0.454039380766\n",
      "Start to fit the model with C = 10000.0 and gamma = 0.0001\n",
      "0.393119184846\n",
      "Start to fit the model with C = 10000.0 and gamma = 0.001\n",
      "0.358577414088\n"
     ]
    }
   ],
   "source": [
    "#\n",
    "C_range = 10.0**np.arange(2, 5, 1)\n",
    "gamma_range = 10.0**np.arange(-7, -2, 1)\n",
    "\n",
    "# Validation\n",
    "V = []\n",
    "for C in C_range:\n",
    "    for gamma in gamma_range:\n",
    "        print('Start to fit the model with C =', str(C), 'and gamma =', str(gamma))\n",
    "        clf = svm.SVC(C=C, gamma=gamma)\n",
    "        clf.fit(X_train.iloc[0:10000], y1_train[0:10000])\n",
    "        prediction = clf.predict(X_validation)\n",
    "        accuracy = np.mean(prediction == y1_validation)\n",
    "        print(accuracy)\n",
    "        V.append([C, gamma, accuracy])"
   ]
  },
  {
   "cell_type": "code",
   "execution_count": 19,
   "metadata": {
    "collapsed": true
   },
   "outputs": [],
   "source": [
    "def model_assessment(y_true, y_pred):\n",
    "    precision = precision_score(y_true, y_pred, average=None)\n",
    "    recall = recall_score(y_true, y_pred, average=None)\n",
    "    f1 = f1_score(y_true, y_pred, average=None)\n",
    "    \n",
    "    df = pd.concat([pd.Series(precision), pd.Series(recall), pd.Series(f1)], axis=1)\n",
    "    df.columns = ['precision', 'recall', 'f1']\n",
    "    df.index = ['down', 'stationary', 'up']\n",
    "    \n",
    "    return(df)"
   ]
  },
  {
   "cell_type": "code",
   "execution_count": 23,
   "metadata": {
    "collapsed": false
   },
   "outputs": [
    {
     "data": {
      "text/html": [
       "<div>\n",
       "<table border=\"1\" class=\"dataframe\">\n",
       "  <thead>\n",
       "    <tr style=\"text-align: right;\">\n",
       "      <th></th>\n",
       "      <th>precision</th>\n",
       "      <th>recall</th>\n",
       "      <th>f1</th>\n",
       "    </tr>\n",
       "  </thead>\n",
       "  <tbody>\n",
       "    <tr>\n",
       "      <th>down</th>\n",
       "      <td>0.463724</td>\n",
       "      <td>0.523430</td>\n",
       "      <td>0.491772</td>\n",
       "    </tr>\n",
       "    <tr>\n",
       "      <th>stationary</th>\n",
       "      <td>0.480896</td>\n",
       "      <td>0.475187</td>\n",
       "      <td>0.478025</td>\n",
       "    </tr>\n",
       "    <tr>\n",
       "      <th>up</th>\n",
       "      <td>0.472635</td>\n",
       "      <td>0.413177</td>\n",
       "      <td>0.440911</td>\n",
       "    </tr>\n",
       "  </tbody>\n",
       "</table>\n",
       "</div>"
      ],
      "text/plain": [
       "            precision    recall        f1\n",
       "down         0.463724  0.523430  0.491772\n",
       "stationary   0.480896  0.475187  0.478025\n",
       "up           0.472635  0.413177  0.440911"
      ]
     },
     "execution_count": 23,
     "metadata": {},
     "output_type": "execute_result"
    }
   ],
   "source": [
    "clf = svm.SVC(C=100, gamma=0.000001)\n",
    "clf.fit(X_train[0:10000], y1_train[0:10000])\n",
    "prediction = clf.predict(X_test)\n",
    "model_assessment(y1_test, prediction)"
   ]
  },
  {
   "cell_type": "markdown",
   "metadata": {},
   "source": [
    "### Random Forest"
   ]
  },
  {
   "cell_type": "code",
   "execution_count": 38,
   "metadata": {
    "collapsed": false
   },
   "outputs": [
    {
     "name": "stdout",
     "output_type": "stream",
     "text": [
      "Start to fit the model with number of tree = 100 and number of features = sqrt\n",
      "0.818813069221\n",
      "Start to fit the model with number of tree = 100 and number of features = log2\n",
      "0.816885339418\n",
      "Start to fit the model with number of tree = 200 and number of features = sqrt\n",
      "0.820190019081\n",
      "Start to fit the model with number of tree = 200 and number of features = log2\n",
      "0.820052324095\n",
      "Start to fit the model with number of tree = 300 and number of features = sqrt\n",
      "0.8207014576\n",
      "Start to fit the model with number of tree = 300 and number of features = log2\n",
      "0.821389932529\n",
      "Start to fit the model with number of tree = 400 and number of features = sqrt\n",
      "0.822275114582\n",
      "Start to fit the model with number of tree = 400 and number of features = log2\n",
      "0.820544091902\n",
      "Start to fit the model with number of tree = 500 and number of features = sqrt\n",
      "0.822609516691\n",
      "Start to fit the model with number of tree = 500 and number of features = log2\n",
      "0.820406396916\n"
     ]
    }
   ],
   "source": [
    "# Takes about 50 mins\n",
    "# Parameters\n",
    "ns_tree = [100, 200, 300, 400, 500]\n",
    "ns_features = ['sqrt', 'log2']\n",
    "\n",
    "V = []\n",
    "for n in ns_tree:\n",
    "    for m in ns_features:\n",
    "        print('Start to fit the model with number of tree =', str(n), 'and number of features =', str(m))\n",
    "        rf_clf = RandomForestClassifier(n_estimators=n, max_features=m)\n",
    "        rf_clf.fit(X_train, y1_train)\n",
    "        prediction = rf_clf.predict(X_validation)\n",
    "        accuracy = np.mean(prediction == y1_validation)\n",
    "        print(accuracy)\n",
    "        V.append([n, m, accuracy])"
   ]
  },
  {
   "cell_type": "code",
   "execution_count": 111,
   "metadata": {
    "collapsed": true
   },
   "outputs": [],
   "source": [
    "rf_clf = RandomForestClassifier(n_estimators=100, max_features='sqrt')\n",
    "rf_clf.fit(X_train.append(X_validation), y1_train.append(y1_validation))\n",
    "\n",
    "prediction = rf_clf.predict(X_test)"
   ]
  },
  {
   "cell_type": "code",
   "execution_count": 112,
   "metadata": {
    "collapsed": false
   },
   "outputs": [
    {
     "data": {
      "text/html": [
       "<div>\n",
       "<table border=\"1\" class=\"dataframe\">\n",
       "  <thead>\n",
       "    <tr style=\"text-align: right;\">\n",
       "      <th></th>\n",
       "      <th>precision</th>\n",
       "      <th>recall</th>\n",
       "      <th>f1</th>\n",
       "    </tr>\n",
       "  </thead>\n",
       "  <tbody>\n",
       "    <tr>\n",
       "      <th>down</th>\n",
       "      <td>0.857372</td>\n",
       "      <td>0.879330</td>\n",
       "      <td>0.868212</td>\n",
       "    </tr>\n",
       "    <tr>\n",
       "      <th>stationary</th>\n",
       "      <td>0.866261</td>\n",
       "      <td>0.830625</td>\n",
       "      <td>0.848069</td>\n",
       "    </tr>\n",
       "    <tr>\n",
       "      <th>up</th>\n",
       "      <td>0.852609</td>\n",
       "      <td>0.865064</td>\n",
       "      <td>0.858792</td>\n",
       "    </tr>\n",
       "  </tbody>\n",
       "</table>\n",
       "</div>"
      ],
      "text/plain": [
       "            precision    recall        f1\n",
       "down         0.857372  0.879330  0.868212\n",
       "stationary   0.866261  0.830625  0.848069\n",
       "up           0.852609  0.865064  0.858792"
      ]
     },
     "execution_count": 112,
     "metadata": {},
     "output_type": "execute_result"
    }
   ],
   "source": [
    "model_assessment(y1_test, prediction)"
   ]
  },
  {
   "cell_type": "markdown",
   "metadata": {},
   "source": [
    "### Spread Crossing"
   ]
  },
  {
   "cell_type": "markdown",
   "metadata": {},
   "source": [
    "### SVM"
   ]
  },
  {
   "cell_type": "code",
   "execution_count": 18,
   "metadata": {
    "collapsed": false
   },
   "outputs": [
    {
     "name": "stdout",
     "output_type": "stream",
     "text": [
      "Start to fit the model with C = 100.0 and gamma = 1e-07\n",
      "0.811770954226\n",
      "Start to fit the model with C = 100.0 and gamma = 1e-06\n",
      "0.837224855912\n",
      "Start to fit the model with C = 100.0 and gamma = 1e-05\n",
      "0.628597281508\n",
      "Start to fit the model with C = 100.0 and gamma = 0.0001\n",
      "0.43696520251\n",
      "Start to fit the model with C = 100.0 and gamma = 0.001\n",
      "0.376831835081\n",
      "Start to fit the model with C = 1000.0 and gamma = 1e-07\n",
      "0.800263587545\n",
      "Start to fit the model with C = 1000.0 and gamma = 1e-06\n",
      "0.834687334028\n",
      "Start to fit the model with C = 1000.0 and gamma = 1e-05\n",
      "0.627731770167\n",
      "Start to fit the model with C = 1000.0 and gamma = 0.0001\n",
      "0.431988512304\n",
      "Start to fit the model with C = 1000.0 and gamma = 0.001\n",
      "0.376831835081\n",
      "Start to fit the model with C = 10000.0 and gamma = 1e-07\n",
      "0.797312980703\n",
      "Start to fit the model with C = 10000.0 and gamma = 1e-06\n",
      "0.832326848555\n",
      "Start to fit the model with C = 10000.0 and gamma = 1e-05\n",
      "0.620591301611\n",
      "Start to fit the model with C = 10000.0 and gamma = 0.0001\n",
      "0.431988512304\n",
      "Start to fit the model with C = 10000.0 and gamma = 0.001\n",
      "0.376831835081\n"
     ]
    }
   ],
   "source": [
    "C_range = 10.0**np.arange(2, 5, 1)\n",
    "gamma_range = 10.0**np.arange(-7, -2, 1)\n",
    "\n",
    "# Validation\n",
    "V = []\n",
    "for C in C_range:\n",
    "    for gamma in gamma_range:\n",
    "        print('Start to fit the model with C =', str(C), 'and gamma =', str(gamma))\n",
    "        clf = svm.SVC(C=C, gamma=gamma)\n",
    "        clf.fit(X_train.iloc[0:10000], y2_train[0:10000])\n",
    "        prediction = clf.predict(X_validation)\n",
    "        accuracy = np.mean(prediction == y2_validation)\n",
    "        print(accuracy)\n",
    "        V.append([C, gamma, accuracy])"
   ]
  },
  {
   "cell_type": "code",
   "execution_count": 21,
   "metadata": {
    "collapsed": false
   },
   "outputs": [
    {
     "data": {
      "text/html": [
       "<div>\n",
       "<table border=\"1\" class=\"dataframe\">\n",
       "  <thead>\n",
       "    <tr style=\"text-align: right;\">\n",
       "      <th></th>\n",
       "      <th>precision</th>\n",
       "      <th>recall</th>\n",
       "      <th>f1</th>\n",
       "    </tr>\n",
       "  </thead>\n",
       "  <tbody>\n",
       "    <tr>\n",
       "      <th>down</th>\n",
       "      <td>0.868566</td>\n",
       "      <td>0.878962</td>\n",
       "      <td>0.873733</td>\n",
       "    </tr>\n",
       "    <tr>\n",
       "      <th>stationary</th>\n",
       "      <td>0.767750</td>\n",
       "      <td>0.805274</td>\n",
       "      <td>0.786064</td>\n",
       "    </tr>\n",
       "    <tr>\n",
       "      <th>up</th>\n",
       "      <td>0.892356</td>\n",
       "      <td>0.826594</td>\n",
       "      <td>0.858217</td>\n",
       "    </tr>\n",
       "  </tbody>\n",
       "</table>\n",
       "</div>"
      ],
      "text/plain": [
       "            precision    recall        f1\n",
       "down         0.868566  0.878962  0.873733\n",
       "stationary   0.767750  0.805274  0.786064\n",
       "up           0.892356  0.826594  0.858217"
      ]
     },
     "execution_count": 21,
     "metadata": {},
     "output_type": "execute_result"
    }
   ],
   "source": [
    "clf = svm.SVC(C=100, gamma=0.000001)\n",
    "clf.fit(X_train[0:10000], y2_train[0:10000])\n",
    "prediction = clf.predict(X_test)\n",
    "model_assessment(y2_test, prediction)"
   ]
  },
  {
   "cell_type": "markdown",
   "metadata": {},
   "source": [
    "### Random Forest"
   ]
  },
  {
   "cell_type": "code",
   "execution_count": 37,
   "metadata": {
    "collapsed": false
   },
   "outputs": [
    {
     "name": "stdout",
     "output_type": "stream",
     "text": [
      "Start to fit the model with number of tree = 100 and number of features = sqrt\n",
      "0.979581800657\n",
      "Start to fit the model with number of tree = 100 and number of features = log2\n",
      "0.978853984303\n",
      "Start to fit the model with number of tree = 200 and number of features = sqrt\n",
      "0.980132580601\n",
      "Start to fit the model with number of tree = 200 and number of features = log2\n",
      "0.979444105671\n",
      "Start to fit the model with number of tree = 300 and number of features = sqrt\n",
      "0.979896532053\n",
      "Start to fit the model with number of tree = 300 and number of features = log2\n",
      "0.979621142082\n",
      "Start to fit the model with number of tree = 400 and number of features = sqrt\n",
      "0.98038829986\n",
      "Start to fit the model with number of tree = 400 and number of features = log2\n",
      "0.979503117808\n",
      "Start to fit the model with number of tree = 500 and number of features = sqrt\n",
      "0.980407970573\n",
      "Start to fit the model with number of tree = 500 and number of features = log2\n",
      "0.979837519917\n"
     ]
    }
   ],
   "source": [
    "# Takes about 50 mins\n",
    "# Parameters\n",
    "ns_tree = [100, 200, 300, 400, 500]\n",
    "ns_features = ['sqrt', 'log2']\n",
    "\n",
    "V = []\n",
    "for n in ns_tree:\n",
    "    for m in ns_features:\n",
    "        print('Start to fit the model with number of tree =', str(n), 'and number of features =', str(m))\n",
    "        rf_clf = RandomForestClassifier(n_estimators=n, max_features=m)\n",
    "        rf_clf.fit(X_train, y2_train)\n",
    "        prediction = rf_clf.predict(X_validation)\n",
    "        accuracy = np.mean(prediction == y2_validation)\n",
    "        print(accuracy)\n",
    "        V.append([n, m, accuracy])"
   ]
  },
  {
   "cell_type": "code",
   "execution_count": 82,
   "metadata": {
    "collapsed": false
   },
   "outputs": [],
   "source": [
    "rf_clf = RandomForestClassifier(n_estimators=100, max_features='sqrt')\n",
    "rf_clf.fit(X_train.append(X_validation), y2_train.append(y2_validation))\n",
    "\n",
    "prediction = rf_clf.predict(X_test)"
   ]
  },
  {
   "cell_type": "code",
   "execution_count": 84,
   "metadata": {
    "collapsed": false
   },
   "outputs": [
    {
     "data": {
      "text/plain": [
       "0.98432244231563626"
      ]
     },
     "execution_count": 84,
     "metadata": {},
     "output_type": "execute_result"
    }
   ],
   "source": [
    "np.mean(prediction == y2_test)"
   ]
  },
  {
   "cell_type": "markdown",
   "metadata": {},
   "source": [
    "$\\mbox{Precision} = \\frac{\\mbox{True Positive}}{\\mbox{True Positive + False Positive}}$"
   ]
  },
  {
   "cell_type": "code",
   "execution_count": 94,
   "metadata": {
    "collapsed": false
   },
   "outputs": [
    {
     "data": {
      "text/plain": [
       "array([ 0.98851222,  0.97699758,  0.98826055])"
      ]
     },
     "execution_count": 94,
     "metadata": {},
     "output_type": "execute_result"
    }
   ],
   "source": [
    "precision_score(y2_test, prediction, average=None) "
   ]
  },
  {
   "cell_type": "markdown",
   "metadata": {},
   "source": [
    "$\\mbox{Recall} = \\frac{\\mbox{True Positive}}{\\mbox{True Positive + False Negative}}$"
   ]
  },
  {
   "cell_type": "code",
   "execution_count": 95,
   "metadata": {
    "collapsed": false
   },
   "outputs": [
    {
     "data": {
      "text/plain": [
       "array([ 0.98640144,  0.97936893,  0.98786294])"
      ]
     },
     "execution_count": 95,
     "metadata": {},
     "output_type": "execute_result"
    }
   ],
   "source": [
    "recall_score(y2_test, prediction, average=None)"
   ]
  },
  {
   "cell_type": "markdown",
   "metadata": {},
   "source": [
    "$\\mbox{f1-score} = \\frac{\\mbox{2 Precision}\\times\\mbox{Recall}}{\\mbox{Precision + Recall}}$"
   ]
  },
  {
   "cell_type": "code",
   "execution_count": 96,
   "metadata": {
    "collapsed": false
   },
   "outputs": [
    {
     "data": {
      "text/plain": [
       "array([ 0.9874557 ,  0.97818182,  0.9880617 ])"
      ]
     },
     "execution_count": 96,
     "metadata": {},
     "output_type": "execute_result"
    }
   ],
   "source": [
    "f1_score(y2_test, prediction, average=None)"
   ]
  },
  {
   "cell_type": "code",
   "execution_count": 109,
   "metadata": {
    "collapsed": false
   },
   "outputs": [
    {
     "data": {
      "text/html": [
       "<div>\n",
       "<table border=\"1\" class=\"dataframe\">\n",
       "  <thead>\n",
       "    <tr style=\"text-align: right;\">\n",
       "      <th></th>\n",
       "      <th>precision</th>\n",
       "      <th>recall</th>\n",
       "      <th>f1</th>\n",
       "    </tr>\n",
       "  </thead>\n",
       "  <tbody>\n",
       "    <tr>\n",
       "      <th>down</th>\n",
       "      <td>0.988512</td>\n",
       "      <td>0.986401</td>\n",
       "      <td>0.987456</td>\n",
       "    </tr>\n",
       "    <tr>\n",
       "      <th>stationary</th>\n",
       "      <td>0.976998</td>\n",
       "      <td>0.979369</td>\n",
       "      <td>0.978182</td>\n",
       "    </tr>\n",
       "    <tr>\n",
       "      <th>up</th>\n",
       "      <td>0.988261</td>\n",
       "      <td>0.987863</td>\n",
       "      <td>0.988062</td>\n",
       "    </tr>\n",
       "  </tbody>\n",
       "</table>\n",
       "</div>"
      ],
      "text/plain": [
       "            precision    recall        f1\n",
       "down         0.988512  0.986401  0.987456\n",
       "stationary   0.976998  0.979369  0.978182\n",
       "up           0.988261  0.987863  0.988062"
      ]
     },
     "execution_count": 109,
     "metadata": {},
     "output_type": "execute_result"
    }
   ],
   "source": [
    "model_assessment(y2_test, prediction)"
   ]
  },
  {
   "cell_type": "code",
   "execution_count": 98,
   "metadata": {
    "collapsed": false
   },
   "outputs": [
    {
     "data": {
      "text/html": [
       "<div>\n",
       "<table border=\"1\" class=\"dataframe\">\n",
       "  <thead>\n",
       "    <tr style=\"text-align: right;\">\n",
       "      <th>Predicted</th>\n",
       "      <th>down</th>\n",
       "      <th>stationary</th>\n",
       "      <th>up</th>\n",
       "      <th>All</th>\n",
       "    </tr>\n",
       "    <tr>\n",
       "      <th>True</th>\n",
       "      <th></th>\n",
       "      <th></th>\n",
       "      <th></th>\n",
       "      <th></th>\n",
       "    </tr>\n",
       "  </thead>\n",
       "  <tbody>\n",
       "    <tr>\n",
       "      <th>down</th>\n",
       "      <td>17554</td>\n",
       "      <td>241</td>\n",
       "      <td>1</td>\n",
       "      <td>17796</td>\n",
       "    </tr>\n",
       "    <tr>\n",
       "      <th>stationary</th>\n",
       "      <td>200</td>\n",
       "      <td>17754</td>\n",
       "      <td>174</td>\n",
       "      <td>18128</td>\n",
       "    </tr>\n",
       "    <tr>\n",
       "      <th>up</th>\n",
       "      <td>4</td>\n",
       "      <td>177</td>\n",
       "      <td>14732</td>\n",
       "      <td>14913</td>\n",
       "    </tr>\n",
       "    <tr>\n",
       "      <th>All</th>\n",
       "      <td>17758</td>\n",
       "      <td>18172</td>\n",
       "      <td>14907</td>\n",
       "      <td>50837</td>\n",
       "    </tr>\n",
       "  </tbody>\n",
       "</table>\n",
       "</div>"
      ],
      "text/plain": [
       "Predicted    down  stationary     up    All\n",
       "True                                       \n",
       "down        17554         241      1  17796\n",
       "stationary    200       17754    174  18128\n",
       "up              4         177  14732  14913\n",
       "All         17758       18172  14907  50837"
      ]
     },
     "execution_count": 98,
     "metadata": {},
     "output_type": "execute_result"
    }
   ],
   "source": [
    "pd.crosstab(y2_test, prediction, rownames=['True'], colnames=['Predicted'], margins=True)"
   ]
  },
  {
   "cell_type": "markdown",
   "metadata": {},
   "source": [
    "### Feature Selection"
   ]
  },
  {
   "cell_type": "code",
   "execution_count": 134,
   "metadata": {
    "collapsed": false
   },
   "outputs": [
    {
     "data": {
      "text/plain": [
       "Index([u'MEAN_BID_SIZE', u'MEAN_ASK_SIZE', u'SIZE_ASK_BID', u'BID_RANGE',\n",
       "       u'BID_PRICE10', u'ASK_RANGE', u'BID_PRICE1', u'ASK_PRICE1',\n",
       "       u'BID_PRICE9', u'BID_PRICE8'],\n",
       "      dtype='object')"
      ]
     },
     "execution_count": 134,
     "metadata": {},
     "output_type": "execute_result"
    }
   ],
   "source": [
    "X_train.columns[[82, 83, 85, 61, 36, 60, 0, 2, 32, 28]]"
   ]
  },
  {
   "cell_type": "code",
   "execution_count": 131,
   "metadata": {
    "collapsed": false
   },
   "outputs": [
    {
     "name": "stdout",
     "output_type": "stream",
     "text": [
      "Feature ranking:\n",
      "1. feature 82 (0.017159)\n",
      "2. feature 83 (0.016408)\n",
      "3. feature 85 (0.015705)\n",
      "4. feature 61 (0.015100)\n",
      "5. feature 36 (0.014316)\n",
      "6. feature 60 (0.014146)\n",
      "7. feature 0 (0.014028)\n",
      "8. feature 2 (0.013582)\n",
      "9. feature 32 (0.013499)\n",
      "10. feature 28 (0.012634)\n"
     ]
    },
    {
     "data": {
      "image/png": "[encoded data removed]",
      "text/plain": [
       "<matplotlib.figure.Figure at 0x14860908>"
      ]
     },
     "metadata": {},
     "output_type": "display_data"
    }
   ],
   "source": [
    "forest = ExtraTreesClassifier(n_estimators=100,\n",
    "                              random_state=0)\n",
    "forest.fit(X_train, y2_train)\n",
    "importances = forest.feature_importances_\n",
    "std = np.std([tree.feature_importances_ for tree in forest.estimators_],\n",
    "             axis=0)\n",
    "indices = np.argsort(importances)[::-1]\n",
    "\n",
    "# Print the feature ranking\n",
    "print(\"Feature ranking:\")\n",
    "\n",
    "for f in range(10):\n",
    "    print(\"%d. feature %d (%f)\" % (f + 1, indices[f], importances[indices[f]]))\n",
    "\n",
    "# Plot the feature importances of the forest\n",
    "plt.figure()\n",
    "plt.title(\"Feature importances\")\n",
    "plt.bar(range(X_train.shape[1]), importances[indices],\n",
    "       color=\"r\", yerr=std[indices], align=\"center\")\n",
    "plt.xticks(range(X_train.shape[1]), indices)\n",
    "plt.xlim([-1, X_train.shape[1]])\n",
    "plt.show()"
   ]
  },
  {
   "cell_type": "markdown",
   "metadata": {},
   "source": [
    "### Strategy and Profit"
   ]
  },
  {
   "cell_type": "markdown",
   "metadata": {},
   "source": [
    "### SVM"
   ]
  },
  {
   "cell_type": "code",
   "execution_count": 64,
   "metadata": {
    "collapsed": false
   },
   "outputs": [
    {
     "data": {
      "text/plain": [
       "SVC(C=100, cache_size=200, class_weight=None, coef0=0.0,\n",
       "  decision_function_shape=None, degree=3, gamma=1e-06, kernel='rbf',\n",
       "  max_iter=-1, probability=False, random_state=None, shrinking=True,\n",
       "  tol=0.001, verbose=False)"
      ]
     },
     "execution_count": 64,
     "metadata": {},
     "output_type": "execute_result"
    }
   ],
   "source": [
    "clf = svm.SVC(C=100, gamma=1e-6)\n",
    "clf.fit(X_train[:30000], y2_train[:30000])"
   ]
  },
  {
   "cell_type": "code",
   "execution_count": 65,
   "metadata": {
    "collapsed": false
   },
   "outputs": [],
   "source": [
    "n_obs = second.shape[0] - 1000\n",
    "pre_spread_crossing_svm = clf.predict(second.iloc[:n_obs, col_in_x])\n",
    "pre_spread_crossing_svm = np.append(pre_spread_crossing_svm, np.repeat(np.nan, 1000))\n",
    "\n",
    "pre_spread_crossing_svm = pd.Series(pre_spread_crossing_svm)"
   ]
  },
  {
   "cell_type": "code",
   "execution_count": 66,
   "metadata": {
    "collapsed": false
   },
   "outputs": [
    {
     "data": {
      "text/html": [
       "<div>\n",
       "<table border=\"1\" class=\"dataframe\">\n",
       "  <thead>\n",
       "    <tr style=\"text-align: right;\">\n",
       "      <th>Predicted</th>\n",
       "      <th>down</th>\n",
       "      <th>stationary</th>\n",
       "      <th>up</th>\n",
       "      <th>All</th>\n",
       "    </tr>\n",
       "    <tr>\n",
       "      <th>True</th>\n",
       "      <th></th>\n",
       "      <th></th>\n",
       "      <th></th>\n",
       "      <th></th>\n",
       "    </tr>\n",
       "  </thead>\n",
       "  <tbody>\n",
       "    <tr>\n",
       "      <th>down</th>\n",
       "      <td>0</td>\n",
       "      <td>41028</td>\n",
       "      <td>0</td>\n",
       "      <td>41028</td>\n",
       "    </tr>\n",
       "    <tr>\n",
       "      <th>stationary</th>\n",
       "      <td>1</td>\n",
       "      <td>50458</td>\n",
       "      <td>65</td>\n",
       "      <td>50524</td>\n",
       "    </tr>\n",
       "    <tr>\n",
       "      <th>up</th>\n",
       "      <td>136</td>\n",
       "      <td>36072</td>\n",
       "      <td>564</td>\n",
       "      <td>36772</td>\n",
       "    </tr>\n",
       "    <tr>\n",
       "      <th>All</th>\n",
       "      <td>137</td>\n",
       "      <td>127558</td>\n",
       "      <td>629</td>\n",
       "      <td>129324</td>\n",
       "    </tr>\n",
       "  </tbody>\n",
       "</table>\n",
       "</div>"
      ],
      "text/plain": [
       "Predicted   down  stationary   up     All\n",
       "True                                     \n",
       "down           0       41028    0   41028\n",
       "stationary     1       50458   65   50524\n",
       "up           136       36072  564   36772\n",
       "All          137      127558  629  129324"
      ]
     },
     "execution_count": 66,
     "metadata": {},
     "output_type": "execute_result"
    }
   ],
   "source": [
    "pd.crosstab(second['SPREAD_CROSSING'], pre_spread_crossing_svm.ravel(), rownames=['True'], colnames=['Predicted'], margins=True)"
   ]
  },
  {
   "cell_type": "markdown",
   "metadata": {},
   "source": [
    "### Random Forest"
   ]
  },
  {
   "cell_type": "code",
   "execution_count": 61,
   "metadata": {
    "collapsed": false
   },
   "outputs": [],
   "source": [
    "rf_clf = RandomForestClassifier(n_estimators=100, max_features='sqrt')\n",
    "rf_clf.fit(X_train, y2_train)\n",
    "\n",
    "#predit and put the label in second RANDOM FOREST\n",
    "n_obs = second.shape[0] - 1000\n",
    "pre_SPREAD_CROSSING_rf = rf_clf.predict(second.iloc[:n_obs, col_in_x])\n",
    "pre_SPREAD_CROSSING_rf = np.append(pre_SPREAD_CROSSING_rf, np.repeat(np.nan, 1000))\n",
    "\n",
    "pre_SPREAD_CROSSING_rf = pd.Series(pre_SPREAD_CROSSING_rf)"
   ]
  },
  {
   "cell_type": "code",
   "execution_count": 62,
   "metadata": {
    "collapsed": false
   },
   "outputs": [
    {
     "data": {
      "text/plain": [
       "(129324L,)"
      ]
     },
     "execution_count": 62,
     "metadata": {},
     "output_type": "execute_result"
    }
   ],
   "source": [
    "pre_SPREAD_CROSSING_rf.shape"
   ]
  },
  {
   "cell_type": "code",
   "execution_count": 63,
   "metadata": {
    "collapsed": false
   },
   "outputs": [
    {
     "data": {
      "text/html": [
       "<div>\n",
       "<table border=\"1\" class=\"dataframe\">\n",
       "  <thead>\n",
       "    <tr style=\"text-align: right;\">\n",
       "      <th>Predicted</th>\n",
       "      <th>down</th>\n",
       "      <th>stationary</th>\n",
       "      <th>up</th>\n",
       "      <th>All</th>\n",
       "    </tr>\n",
       "    <tr>\n",
       "      <th>True</th>\n",
       "      <th></th>\n",
       "      <th></th>\n",
       "      <th></th>\n",
       "      <th></th>\n",
       "    </tr>\n",
       "  </thead>\n",
       "  <tbody>\n",
       "    <tr>\n",
       "      <th>down</th>\n",
       "      <td>15499</td>\n",
       "      <td>1936</td>\n",
       "      <td>23593</td>\n",
       "      <td>41028</td>\n",
       "    </tr>\n",
       "    <tr>\n",
       "      <th>stationary</th>\n",
       "      <td>21596</td>\n",
       "      <td>3342</td>\n",
       "      <td>25586</td>\n",
       "      <td>50524</td>\n",
       "    </tr>\n",
       "    <tr>\n",
       "      <th>up</th>\n",
       "      <td>10919</td>\n",
       "      <td>2062</td>\n",
       "      <td>23791</td>\n",
       "      <td>36772</td>\n",
       "    </tr>\n",
       "    <tr>\n",
       "      <th>All</th>\n",
       "      <td>48014</td>\n",
       "      <td>7340</td>\n",
       "      <td>72970</td>\n",
       "      <td>129324</td>\n",
       "    </tr>\n",
       "  </tbody>\n",
       "</table>\n",
       "</div>"
      ],
      "text/plain": [
       "Predicted    down  stationary     up     All\n",
       "True                                        \n",
       "down        15499        1936  23593   41028\n",
       "stationary  21596        3342  25586   50524\n",
       "up          10919        2062  23791   36772\n",
       "All         48014        7340  72970  129324"
      ]
     },
     "execution_count": 63,
     "metadata": {},
     "output_type": "execute_result"
    }
   ],
   "source": [
    "pd.crosstab(second['SPREAD_CROSSING'], pre_SPREAD_CROSSING_rf.ravel(), rownames=['True'], colnames=['Predicted'], margins=True)"
   ]
  },
  {
   "cell_type": "markdown",
   "metadata": {},
   "source": [
    "### Compute Profit"
   ]
  },
  {
   "cell_type": "code",
   "execution_count": 41,
   "metadata": {
    "collapsed": true
   },
   "outputs": [],
   "source": [
    "def compute_profit(pre, delta_t):\n",
    "    \n",
    "    profit = pd.Series(np.repeat(np.nan, pre.shape[0]))\n",
    "    \n",
    "    for i in range(pre.shape[0]):\n",
    "        if pre.iloc[i] == 'up':\n",
    "            profit[i] = second.iloc[i+delta_t].loc['BID_PRICE1'] - second.iloc[i].loc['ASK_PRICE1'] \n",
    "        elif pre.iloc[i] =='down':\n",
    "            profit[i] = second.iloc[i].loc['BID_PRICE1'] - second.iloc[i+delta_t].loc['ASK_PRICE1'] \n",
    "        elif pre.iloc[i] == 'stationary':\n",
    "            profit[i] = 0\n",
    "    \n",
    "    return profit"
   ]
  },
  {
   "cell_type": "code",
   "execution_count": 44,
   "metadata": {
    "collapsed": false
   },
   "outputs": [
    {
     "data": {
      "text/plain": [
       "74.039999999991437"
      ]
     },
     "execution_count": 44,
     "metadata": {},
     "output_type": "execute_result"
    }
   ],
   "source": [
    "# SVM with 10000 samples\n",
    "profit_svm = compute_profit(pre_spread_crossing_svm, 1000)\n",
    "total_profit_svm = np.nansum(profit_svm)\n",
    "total_profit_svm"
   ]
  },
  {
   "cell_type": "code",
   "execution_count": 67,
   "metadata": {
    "collapsed": false
   },
   "outputs": [
    {
     "data": {
      "text/plain": [
       "12.37999999999181"
      ]
     },
     "execution_count": 67,
     "metadata": {},
     "output_type": "execute_result"
    }
   ],
   "source": [
    "profit_svm = compute_profit(pre_spread_crossing_svm, 1000)\n",
    "total_profit_svm = np.nansum(profit_svm)\n",
    "total_profit_svm"
   ]
  },
  {
   "cell_type": "code",
   "execution_count": 53,
   "metadata": {
    "collapsed": false
   },
   "outputs": [
    {
     "data": {
      "text/plain": [
       "-21853.630000000263"
      ]
     },
     "execution_count": 53,
     "metadata": {},
     "output_type": "execute_result"
    }
   ],
   "source": [
    "# Random Forest\n",
    "profit_random_forest = compute_profit(pre_SPREAD_CROSSING_rf, 1000)\n",
    "total_profit_random_forest = np.nansum(profit_random_forest)\n",
    "total_profit_random_forest"
   ]
  },
  {
   "cell_type": "markdown",
   "metadata": {},
   "source": [
    "* [sklearn: Ensemble methods](http://scikit-learn.org/stable/modules/ensemble.html)\n",
    "* [sklearn: Random Forest](http://scikit-learn.org/stable/modules/generated/sklearn.ensemble.RandomForestClassifier.html)\n",
    "* [sklearn: SVM](http://scikit-learn.org/stable/modules/svm.html)"
   ]
  }
 ],
 "metadata": {
  "kernelspec": {
   "display_name": "Python 2",
   "language": "python",
   "name": "python2"
  },
  "language_info": {
   "codemirror_mode": {
    "name": "ipython",
    "version": 2
   },
   "file_extension": ".py",
   "mimetype": "text/x-python",
   "name": "python",
   "nbconvert_exporter": "python",
   "pygments_lexer": "ipython2",
   "version": "2.7.11"
  }
 },
 "nbformat": 4,
 "nbformat_minor": 0
}
