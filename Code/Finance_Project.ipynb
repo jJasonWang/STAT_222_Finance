{
 "cells": [
  {
   "cell_type": "code",
   "execution_count": 1,
   "metadata": {
    "collapsed": false
   },
   "outputs": [],
   "source": [
    "from __future__ import print_function\n",
    "import csv\n",
    "import numpy as np\n",
    "import matplotlib.pyplot as plt\n",
    "import pandas as pd\n",
    "from sklearn import svm\n",
    "from sklearn.metrics import confusion_matrix\n",
    "from datetime import datetime, date, time\n",
    "%matplotlib inline"
   ]
  },
  {
   "cell_type": "code",
   "execution_count": 2,
   "metadata": {
    "collapsed": true
   },
   "outputs": [],
   "source": [
    "# Read data\n",
    "AAPL = pd.read_csv(\"../Data/AAPL_05222012_0930_1300_LOB_2.csv\")"
   ]
  },
  {
   "cell_type": "code",
   "execution_count": 3,
   "metadata": {
    "collapsed": false
   },
   "outputs": [
    {
     "data": {
      "text/plain": [
       "(332673, 62)"
      ]
     },
     "execution_count": 3,
     "metadata": {},
     "output_type": "execute_result"
    }
   ],
   "source": [
    "# Dimension of the data frame\n",
    "AAPL.shape"
   ]
  },
  {
   "cell_type": "code",
   "execution_count": 4,
   "metadata": {
    "collapsed": false
   },
   "outputs": [
    {
     "data": {
      "text/html": [
       "<div>\n",
       "<table border=\"1\" class=\"dataframe\">\n",
       "  <thead>\n",
       "    <tr style=\"text-align: right;\">\n",
       "      <th></th>\n",
       "      <th>Index</th>\n",
       "      <th>Time</th>\n",
       "      <th>BID_PRICE1</th>\n",
       "      <th>BID_UPDATE_TIME1</th>\n",
       "      <th>BID_SIZE1</th>\n",
       "      <th>ASK_PRICE1</th>\n",
       "      <th>ASK_UPDATE_TIME1</th>\n",
       "      <th>ASK_SIZE1</th>\n",
       "      <th>BID_PRICE2</th>\n",
       "      <th>BID_UPDATE_TIME2</th>\n",
       "      <th>BID_SIZE2</th>\n",
       "      <th>ASK_PRICE2</th>\n",
       "      <th>ASK_UPDATE_TIME2</th>\n",
       "      <th>ASK_SIZE2</th>\n",
       "    </tr>\n",
       "  </thead>\n",
       "  <tbody>\n",
       "    <tr>\n",
       "      <th>0</th>\n",
       "      <td>1</td>\n",
       "      <td>2012/05/22 09:30:00.000</td>\n",
       "      <td>569.02</td>\n",
       "      <td>2012/05/22 09:29:34.006</td>\n",
       "      <td>40</td>\n",
       "      <td>570</td>\n",
       "      <td>2012/05/22 09:29:43.573</td>\n",
       "      <td>400</td>\n",
       "      <td>568.8</td>\n",
       "      <td>2012/05/22 09:29:47.563</td>\n",
       "      <td>100</td>\n",
       "      <td>570.01</td>\n",
       "      <td>2012/05/22 09:29:37.762</td>\n",
       "      <td>100</td>\n",
       "    </tr>\n",
       "    <tr>\n",
       "      <th>1</th>\n",
       "      <td>2</td>\n",
       "      <td>2012/05/22 09:30:00.003</td>\n",
       "      <td>569.02</td>\n",
       "      <td>2012/05/22 09:29:34.006</td>\n",
       "      <td>40</td>\n",
       "      <td>570</td>\n",
       "      <td>2012/05/22 09:29:43.573</td>\n",
       "      <td>400</td>\n",
       "      <td>568.8</td>\n",
       "      <td>2012/05/22 09:29:47.563</td>\n",
       "      <td>100</td>\n",
       "      <td>570.01</td>\n",
       "      <td>2012/05/22 09:29:37.762</td>\n",
       "      <td>100</td>\n",
       "    </tr>\n",
       "    <tr>\n",
       "      <th>2</th>\n",
       "      <td>3</td>\n",
       "      <td>2012/05/22 09:30:00.003</td>\n",
       "      <td>569.02</td>\n",
       "      <td>2012/05/22 09:29:34.006</td>\n",
       "      <td>40</td>\n",
       "      <td>570</td>\n",
       "      <td>2012/05/22 09:29:43.573</td>\n",
       "      <td>400</td>\n",
       "      <td>568.8</td>\n",
       "      <td>2012/05/22 09:29:47.563</td>\n",
       "      <td>100</td>\n",
       "      <td>570.01</td>\n",
       "      <td>2012/05/22 09:29:37.762</td>\n",
       "      <td>100</td>\n",
       "    </tr>\n",
       "  </tbody>\n",
       "</table>\n",
       "</div>"
      ],
      "text/plain": [
       "   Index                     Time  BID_PRICE1         BID_UPDATE_TIME1  \\\n",
       "0      1  2012/05/22 09:30:00.000      569.02  2012/05/22 09:29:34.006   \n",
       "1      2  2012/05/22 09:30:00.003      569.02  2012/05/22 09:29:34.006   \n",
       "2      3  2012/05/22 09:30:00.003      569.02  2012/05/22 09:29:34.006   \n",
       "\n",
       "   BID_SIZE1  ASK_PRICE1         ASK_UPDATE_TIME1  ASK_SIZE1  BID_PRICE2  \\\n",
       "0         40         570  2012/05/22 09:29:43.573        400       568.8   \n",
       "1         40         570  2012/05/22 09:29:43.573        400       568.8   \n",
       "2         40         570  2012/05/22 09:29:43.573        400       568.8   \n",
       "\n",
       "          BID_UPDATE_TIME2  BID_SIZE2  ASK_PRICE2         ASK_UPDATE_TIME2  \\\n",
       "0  2012/05/22 09:29:47.563        100      570.01  2012/05/22 09:29:37.762   \n",
       "1  2012/05/22 09:29:47.563        100      570.01  2012/05/22 09:29:37.762   \n",
       "2  2012/05/22 09:29:47.563        100      570.01  2012/05/22 09:29:37.762   \n",
       "\n",
       "   ASK_SIZE2  \n",
       "0        100  \n",
       "1        100  \n",
       "2        100  "
      ]
     },
     "execution_count": 4,
     "metadata": {},
     "output_type": "execute_result"
    }
   ],
   "source": [
    "# Change column name\n",
    "AAPL.columns = [col_name.split('.')[1] if len(col_name) > 5 else col_name for col_name in AAPL.columns]\n",
    "\n",
    "# Note that the best ask and bid price are listed first\n",
    "AAPL.iloc[0:3, 0:14]"
   ]
  },
  {
   "cell_type": "code",
   "execution_count": 5,
   "metadata": {
    "collapsed": false
   },
   "outputs": [
    {
     "data": {
      "text/plain": [
       "Index([u'Index', u'Time', u'BID_PRICE1', u'BID_UPDATE_TIME1', u'BID_SIZE1',\n",
       "       u'ASK_PRICE1', u'ASK_UPDATE_TIME1', u'ASK_SIZE1', u'BID_PRICE2',\n",
       "       u'BID_UPDATE_TIME2', u'BID_SIZE2', u'ASK_PRICE2', u'ASK_UPDATE_TIME2',\n",
       "       u'ASK_SIZE2', u'BID_PRICE3', u'BID_UPDATE_TIME3', u'BID_SIZE3',\n",
       "       u'ASK_PRICE3', u'ASK_UPDATE_TIME3', u'ASK_SIZE3', u'BID_PRICE4',\n",
       "       u'BID_UPDATE_TIME4', u'BID_SIZE4', u'ASK_PRICE4', u'ASK_UPDATE_TIME4',\n",
       "       u'ASK_SIZE4', u'BID_PRICE5', u'BID_UPDATE_TIME5', u'BID_SIZE5',\n",
       "       u'ASK_PRICE5', u'ASK_UPDATE_TIME5', u'ASK_SIZE5', u'BID_PRICE6',\n",
       "       u'BID_UPDATE_TIME6', u'BID_SIZE6', u'ASK_PRICE6', u'ASK_UPDATE_TIME6',\n",
       "       u'ASK_SIZE6', u'BID_PRICE7', u'BID_UPDATE_TIME7', u'BID_SIZE7',\n",
       "       u'ASK_PRICE7', u'ASK_UPDATE_TIME7', u'ASK_SIZE7', u'BID_PRICE8',\n",
       "       u'BID_UPDATE_TIME8', u'BID_SIZE8', u'ASK_PRICE8', u'ASK_UPDATE_TIME8',\n",
       "       u'ASK_SIZE8', u'BID_PRICE9', u'BID_UPDATE_TIME9', u'BID_SIZE9',\n",
       "       u'ASK_PRICE9', u'ASK_UPDATE_TIME9', u'ASK_SIZE9', u'BID_PRICE10',\n",
       "       u'BID_UPDATE_TIME10', u'BID_SIZE10', u'ASK_PRICE10',\n",
       "       u'ASK_UPDATE_TIME10', u'ASK_SIZE10'],\n",
       "      dtype='object')"
      ]
     },
     "execution_count": 5,
     "metadata": {},
     "output_type": "execute_result"
    }
   ],
   "source": [
    "AAPL.columns"
   ]
  },
  {
   "cell_type": "markdown",
   "metadata": {},
   "source": [
    "We calculate mid-price by $$P^{mid}_{t} = \\frac{1}{2}(P^{ask}_{t} + P^{bid}_{t})$$"
   ]
  },
  {
   "cell_type": "code",
   "execution_count": 6,
   "metadata": {
    "collapsed": false
   },
   "outputs": [],
   "source": [
    "# Create mid-price\n",
    "AAPL['MID_PRICE'] = AAPL['BID_PRICE1'] + AAPL['ASK_PRICE1']"
   ]
  },
  {
   "cell_type": "code",
   "execution_count": 7,
   "metadata": {
    "collapsed": false
   },
   "outputs": [],
   "source": [
    "# Get the mid-price difference and movement\n",
    "mid_diff = AAPL['MID_PRICE'].diff()[1:].ravel()\n",
    "mid_diff = np.append(mid_diff, np.nan)\n",
    "\n",
    "# Create group: -1, 0, 1\n",
    "AAPL['MID_MOVEMENT'] = pd.Categorical((mid_diff > 0)*1 + (mid_diff < 0)*-1)\n",
    "\n",
    "# Replace the first element by NaN\n",
    "AAPL['MID_MOVEMENT'].iloc[-1] = np.nan\n",
    "\n",
    "# Change label into down, stationary, up\n",
    "AAPL['MID_MOVEMENT'].cat.categories = ['down', 'stationary', 'up']"
   ]
  },
  {
   "cell_type": "markdown",
   "metadata": {},
   "source": [
    "For bid-ask spread crossing, we have to consider three scenarios:\n",
    "1. An __upward__ price spread crossing occurs when the best bid price at $t+\\Delta t$ exceeds the best ask price at time $t$ $\\Rightarrow$ $P^{bid}_{t + \\Delta t} > P^{ask}_{t}$ \n",
    "2. A __downward__ price spread crossing happens when the best ask price at $t+\\Delta t$ is less than the best bid price at time $t$ $\\Rightarrow$ $P^{ask}_{t + \\Delta t} < P^{bid}_{t}$ \n",
    "3. No price spread crossing takes place if $P^{ask}_{t + \\Delta t} \\leq P^{bid}_{t}$ and $P^{bid}_{t + \\Delta t} \\geq P^{ask}_{t}$ "
   ]
  },
  {
   "cell_type": "code",
   "execution_count": 8,
   "metadata": {
    "collapsed": true
   },
   "outputs": [],
   "source": [
    "def spread_f(bid, ask, delta_t):\n",
    "    # shifted bid (append nan at the last)\n",
    "    bid_shift = np.append(bid[delta_t:], np.array(np.nan).repeat(delta_t))\n",
    "    ask_shift = np.append(ask[delta_t:], np.array(np.nan).repeat(delta_t))\n",
    "    \n",
    "    # Determine up or down\n",
    "    spread = (bid_shift > ask)*1 + (ask_shift < bid)*-1\n",
    "    spread = spread.astype('float')\n",
    "    spread[-delta_t:] = np.nan\n",
    "    \n",
    "    # Change pandas series and transform to categorical data\n",
    "    spread = pd.Series(pd.Categorical(spread, categories=[-1, 0, 1]))\n",
    "\n",
    "    # Change label\n",
    "    spread.cat.categories = ['down', 'stationary', 'up']\n",
    "    \n",
    "    return(spread)"
   ]
  },
  {
   "cell_type": "code",
   "execution_count": 9,
   "metadata": {
    "collapsed": false
   },
   "outputs": [],
   "source": [
    "# Create spread\n",
    "spread = spread_f(AAPL['BID_PRICE1'], AAPL['ASK_PRICE1'], 1)"
   ]
  },
  {
   "cell_type": "code",
   "execution_count": 10,
   "metadata": {
    "collapsed": false
   },
   "outputs": [
    {
     "data": {
      "text/plain": [
       "stationary    332672\n",
       "up                 0\n",
       "down               0\n",
       "dtype: int64"
      ]
     },
     "execution_count": 10,
     "metadata": {},
     "output_type": "execute_result"
    }
   ],
   "source": [
    "spread.value_counts()"
   ]
  },
  {
   "cell_type": "code",
   "execution_count": 11,
   "metadata": {
    "collapsed": false
   },
   "outputs": [
    {
     "data": {
      "text/plain": [
       "332668    stationary\n",
       "332669    stationary\n",
       "332670    stationary\n",
       "332671    stationary\n",
       "332672           NaN\n",
       "dtype: category\n",
       "Categories (3, object): [down, stationary, up]"
      ]
     },
     "execution_count": 11,
     "metadata": {},
     "output_type": "execute_result"
    }
   ],
   "source": [
    "spread.tail()"
   ]
  },
  {
   "cell_type": "code",
   "execution_count": 12,
   "metadata": {
    "collapsed": true
   },
   "outputs": [],
   "source": [
    "spread5 = spread_f(AAPL['BID_PRICE1'], AAPL['ASK_PRICE1'], 5)"
   ]
  },
  {
   "cell_type": "code",
   "execution_count": 13,
   "metadata": {
    "collapsed": false
   },
   "outputs": [
    {
     "data": {
      "text/plain": [
       "stationary    332398\n",
       "down             148\n",
       "up               122\n",
       "dtype: int64"
      ]
     },
     "execution_count": 13,
     "metadata": {},
     "output_type": "execute_result"
    }
   ],
   "source": [
    "spread5.value_counts()"
   ]
  },
  {
   "cell_type": "code",
   "execution_count": 14,
   "metadata": {
    "collapsed": false
   },
   "outputs": [
    {
     "data": {
      "text/plain": [
       "332667    stationary\n",
       "332668           NaN\n",
       "332669           NaN\n",
       "332670           NaN\n",
       "332671           NaN\n",
       "332672           NaN\n",
       "dtype: category\n",
       "Categories (3, object): [down, stationary, up]"
      ]
     },
     "execution_count": 14,
     "metadata": {},
     "output_type": "execute_result"
    }
   ],
   "source": [
    "spread5.tail(6)"
   ]
  },
  {
   "cell_type": "code",
   "execution_count": 15,
   "metadata": {
    "collapsed": true
   },
   "outputs": [],
   "source": [
    "AAPL['SPREAD'] = spread_f(AAPL['BID_PRICE1'], AAPL['ASK_PRICE1'], 5)"
   ]
  },
  {
   "cell_type": "code",
   "execution_count": 16,
   "metadata": {
    "collapsed": false
   },
   "outputs": [],
   "source": [
    "AAPL['MID_MOVEMENT'].cat.categories = ['down', 'stationary', 'up']"
   ]
  },
  {
   "cell_type": "code",
   "execution_count": 17,
   "metadata": {
    "collapsed": false
   },
   "outputs": [],
   "source": [
    "# Create time variable\n",
    "time = np.array([datetime.strptime(time, \"%Y/%m/%d %H:%M:%S.%f\") for time in AAPL['Time']])\n",
    "\n",
    "# For all the data before 11:00, they are all training set\n",
    "train_index = time < datetime(2012, 5, 22, 11, 0)"
   ]
  },
  {
   "cell_type": "code",
   "execution_count": 18,
   "metadata": {
    "collapsed": false
   },
   "outputs": [],
   "source": [
    "# Separate training and testing set\n",
    "train = AAPL.iloc[train_index]\n",
    "test = AAPL.iloc[np.logical_not(train_index)]"
   ]
  },
  {
   "cell_type": "code",
   "execution_count": 19,
   "metadata": {
    "collapsed": false
   },
   "outputs": [
    {
     "data": {
      "text/plain": [
       "(203349, 65)"
      ]
     },
     "execution_count": 19,
     "metadata": {},
     "output_type": "execute_result"
    }
   ],
   "source": [
    "train.shape"
   ]
  },
  {
   "cell_type": "code",
   "execution_count": 20,
   "metadata": {
    "collapsed": false
   },
   "outputs": [
    {
     "data": {
      "text/plain": [
       "(129324, 65)"
      ]
     },
     "execution_count": 20,
     "metadata": {},
     "output_type": "execute_result"
    }
   ],
   "source": [
    "test.shape"
   ]
  },
  {
   "cell_type": "code",
   "execution_count": 21,
   "metadata": {
    "collapsed": true
   },
   "outputs": [],
   "source": [
    "np.random.seed(0)\n",
    "# Sample\n",
    "t_index = np.random.choice(np.arange(203349), 10000, replace=False)\n",
    "v_index = np.random.choice(np.arange(203349), 10000, replace=False)"
   ]
  },
  {
   "cell_type": "code",
   "execution_count": 22,
   "metadata": {
    "collapsed": false
   },
   "outputs": [
    {
     "data": {
      "text/plain": [
       "Index([u'Index', u'Time', u'BID_PRICE1', u'BID_UPDATE_TIME1', u'BID_SIZE1',\n",
       "       u'ASK_PRICE1', u'ASK_UPDATE_TIME1', u'ASK_SIZE1', u'BID_PRICE2',\n",
       "       u'BID_UPDATE_TIME2', u'BID_SIZE2', u'ASK_PRICE2', u'ASK_UPDATE_TIME2',\n",
       "       u'ASK_SIZE2', u'BID_PRICE3', u'BID_UPDATE_TIME3', u'BID_SIZE3',\n",
       "       u'ASK_PRICE3', u'ASK_UPDATE_TIME3', u'ASK_SIZE3', u'BID_PRICE4',\n",
       "       u'BID_UPDATE_TIME4', u'BID_SIZE4', u'ASK_PRICE4', u'ASK_UPDATE_TIME4',\n",
       "       u'ASK_SIZE4', u'BID_PRICE5', u'BID_UPDATE_TIME5', u'BID_SIZE5',\n",
       "       u'ASK_PRICE5', u'ASK_UPDATE_TIME5', u'ASK_SIZE5', u'BID_PRICE6',\n",
       "       u'BID_UPDATE_TIME6', u'BID_SIZE6', u'ASK_PRICE6', u'ASK_UPDATE_TIME6',\n",
       "       u'ASK_SIZE6', u'BID_PRICE7', u'BID_UPDATE_TIME7', u'BID_SIZE7',\n",
       "       u'ASK_PRICE7', u'ASK_UPDATE_TIME7', u'ASK_SIZE7', u'BID_PRICE8',\n",
       "       u'BID_UPDATE_TIME8', u'BID_SIZE8', u'ASK_PRICE8', u'ASK_UPDATE_TIME8',\n",
       "       u'ASK_SIZE8', u'BID_PRICE9', u'BID_UPDATE_TIME9', u'BID_SIZE9',\n",
       "       u'ASK_PRICE9', u'ASK_UPDATE_TIME9', u'ASK_SIZE9', u'BID_PRICE10',\n",
       "       u'BID_UPDATE_TIME10', u'BID_SIZE10', u'ASK_PRICE10',\n",
       "       u'ASK_UPDATE_TIME10', u'ASK_SIZE10', u'MID_PRICE', u'MID_MOVEMENT',\n",
       "       u'SPREAD'],\n",
       "      dtype='object')"
      ]
     },
     "execution_count": 22,
     "metadata": {},
     "output_type": "execute_result"
    }
   ],
   "source": [
    "train.columns"
   ]
  },
  {
   "cell_type": "code",
   "execution_count": 23,
   "metadata": {
    "collapsed": false
   },
   "outputs": [
    {
     "data": {
      "text/plain": [
       "SVC(C=1.0, cache_size=200, class_weight=None, coef0=0.0,\n",
       "  decision_function_shape=None, degree=3, gamma='auto', kernel='rbf',\n",
       "  max_iter=-1, probability=False, random_state=None, shrinking=True,\n",
       "  tol=0.001, verbose=False)"
      ]
     },
     "execution_count": 23,
     "metadata": {},
     "output_type": "execute_result"
    }
   ],
   "source": [
    "clf = svm.SVC()\n",
    "clf.fit(train[['BID_PRICE1', 'ASK_PRICE1', 'BID_PRICE2', 'ASK_PRICE2', 'BID_PRICE3', 'ASK_PRICE3',\n",
    "               'BID_PRICE4', 'ASK_PRICE4', 'BID_PRICE5', 'ASK_PRICE5', 'BID_PRICE6', 'ASK_PRICE6',\n",
    "               'BID_PRICE7', 'ASK_PRICE7', 'BID_PRICE8', 'ASK_PRICE8', 'BID_PRICE9', 'ASK_PRICE9',\n",
    "               'BID_PRICE10', 'ASK_PRICE10',\n",
    "               'BID_SIZE1', 'ASK_SIZE1', 'BID_SIZE2', 'ASK_SIZE2', 'BID_SIZE3', 'ASK_SIZE3',\n",
    "               'BID_SIZE4', 'ASK_SIZE4', 'BID_SIZE5', 'ASK_SIZE5', 'BID_SIZE6', 'ASK_SIZE6',\n",
    "               'BID_SIZE7', 'ASK_SIZE7', 'BID_SIZE8', 'ASK_SIZE8', 'BID_SIZE9', 'ASK_SIZE9',\n",
    "               'BID_SIZE10', 'ASK_SIZE10', 'MID_PRICE']].iloc[t_index], train['MID_MOVEMENT'].iloc[t_index])"
   ]
  },
  {
   "cell_type": "code",
   "execution_count": 24,
   "metadata": {
    "collapsed": false
   },
   "outputs": [],
   "source": [
    "prediction = clf.predict(train[['BID_PRICE1', 'ASK_PRICE1', 'BID_PRICE2', 'ASK_PRICE2', 'BID_PRICE3', 'ASK_PRICE3',\n",
    "               'BID_PRICE4', 'ASK_PRICE4', 'BID_PRICE5', 'ASK_PRICE5', 'BID_PRICE6', 'ASK_PRICE6',\n",
    "               'BID_PRICE7', 'ASK_PRICE7', 'BID_PRICE8', 'ASK_PRICE8', 'BID_PRICE9', 'ASK_PRICE9',\n",
    "               'BID_PRICE10', 'ASK_PRICE10',\n",
    "               'BID_SIZE1', 'ASK_SIZE1', 'BID_SIZE2', 'ASK_SIZE2', 'BID_SIZE3', 'ASK_SIZE3',\n",
    "               'BID_SIZE4', 'ASK_SIZE4', 'BID_SIZE5', 'ASK_SIZE5', 'BID_SIZE6', 'ASK_SIZE6',\n",
    "               'BID_SIZE7', 'ASK_SIZE7', 'BID_SIZE8', 'ASK_SIZE8', 'BID_SIZE9', 'ASK_SIZE9',\n",
    "               'BID_SIZE10', 'ASK_SIZE10', 'MID_PRICE']].iloc[v_index])"
   ]
  },
  {
   "cell_type": "code",
   "execution_count": 25,
   "metadata": {
    "collapsed": false
   },
   "outputs": [
    {
     "data": {
      "text/plain": [
       "array([[  72,   13,    5],\n",
       "       [ 860, 8097,  873],\n",
       "       [   6,   14,   60]])"
      ]
     },
     "execution_count": 25,
     "metadata": {},
     "output_type": "execute_result"
    }
   ],
   "source": [
    "confusion_matrix(prediction, train.iloc[v_index]['MID_MOVEMENT'])"
   ]
  },
  {
   "cell_type": "code",
   "execution_count": 26,
   "metadata": {
    "collapsed": false
   },
   "outputs": [
    {
     "data": {
      "text/plain": [
       "0.82289999999999996"
      ]
     },
     "execution_count": 26,
     "metadata": {},
     "output_type": "execute_result"
    }
   ],
   "source": [
    "np.mean(prediction == train.iloc[v_index]['MID_MOVEMENT'])"
   ]
  },
  {
   "cell_type": "code",
   "execution_count": 27,
   "metadata": {
    "collapsed": false
   },
   "outputs": [
    {
     "data": {
      "text/plain": [
       "0.98299999999999998"
      ]
     },
     "execution_count": 27,
     "metadata": {},
     "output_type": "execute_result"
    }
   ],
   "source": [
    "np.mean(prediction == 'stationary')"
   ]
  },
  {
   "cell_type": "markdown",
   "metadata": {},
   "source": [
    "* [sklearn: Ensemble methods](http://scikit-learn.org/stable/modules/ensemble.html)\n",
    "* [sklearn: Random Forest](http://scikit-learn.org/stable/modules/generated/sklearn.ensemble.RandomForestClassifier.html)\n",
    "* [sklearn: SVM](http://scikit-learn.org/stable/modules/svm.html)"
   ]
  }
 ],
 "metadata": {
  "kernelspec": {
   "display_name": "Python 2",
   "language": "python",
   "name": "python2"
  },
  "language_info": {
   "codemirror_mode": {
    "name": "ipython",
    "version": 2
   },
   "file_extension": ".py",
   "mimetype": "text/x-python",
   "name": "python",
   "nbconvert_exporter": "python",
   "pygments_lexer": "ipython2",
   "version": "2.7.11"
  }
 },
 "nbformat": 4,
 "nbformat_minor": 0
}
