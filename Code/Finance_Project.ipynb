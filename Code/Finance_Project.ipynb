{
 "cells": [
  {
   "cell_type": "code",
   "execution_count": 1,
   "metadata": {
    "collapsed": false
   },
   "outputs": [],
   "source": [
    "from __future__ import print_function\n",
    "import numpy as np\n",
    "import matplotlib.pyplot as plt\n",
    "import pandas as pd\n",
    "import re\n",
    "from sklearn import svm\n",
    "from sklearn.ensemble import RandomForestClassifier\n",
    "from sklearn.ensemble import ExtraTreesClassifier\n",
    "from sklearn import linear_model, datasets\n",
    "from sklearn.metrics import confusion_matrix\n",
    "from sklearn.metrics import recall_score\n",
    "from sklearn.metrics import precision_score\n",
    "from sklearn.metrics import f1_score\n",
    "from datetime import datetime, date, time, timedelta\n",
    "%matplotlib inline"
   ]
  },
  {
   "cell_type": "markdown",
   "metadata": {},
   "source": [
    "### Reading the data after preprocessing"
   ]
  },
  {
   "cell_type": "code",
   "execution_count": 2,
   "metadata": {
    "collapsed": false
   },
   "outputs": [
    {
     "name": "stderr",
     "output_type": "stream",
     "text": [
      "C:\\Users\\jason\\Anaconda3\\envs\\ipykernel_py2\\lib\\site-packages\\IPython\\core\\interactiveshell.py:2723: DtypeWarning: Columns (129) have mixed types. Specify dtype option on import or set low_memory=False.\n",
      "  interactivity=interactivity, compiler=compiler, result=result)\n"
     ]
    }
   ],
   "source": [
    "AAPL = pd.read_csv('../Data/X.csv')"
   ]
  },
  {
   "cell_type": "markdown",
   "metadata": {},
   "source": [
    "### Independent variable:\n",
    "* mid-price movement"
   ]
  },
  {
   "cell_type": "code",
   "execution_count": 3,
   "metadata": {
    "collapsed": true
   },
   "outputs": [],
   "source": [
    "def midprice_movement(mid, delta_t):\n",
    "    mid_diff = mid.diff(periods=delta_t)[delta_t:].ravel()\n",
    "    mid_diff = np.append(mid_diff, np.array(np.nan).repeat(delta_t))\n",
    "    \n",
    "    mid_movement = (mid_diff > 0)*1 + (mid_diff < 0)*-1\n",
    "    mid_movement = mid_movement.astype('float')\n",
    "    mid_movement[-delta_t:] = np.nan\n",
    "    \n",
    "    # Change to pandas series and transform to categorical data\n",
    "    mid_movement = pd.Series(pd.Categorical(mid_movement, categories=[-1, 0, 1]))\n",
    "    \n",
    "    # Change label\n",
    "    mid_movement.cat.categories = ['down', 'stationary', 'up']\n",
    "    \n",
    "    return(mid_movement)"
   ]
  },
  {
   "cell_type": "code",
   "execution_count": 4,
   "metadata": {
    "collapsed": false
   },
   "outputs": [],
   "source": [
    "# Create mid-price movement\n",
    "AAPL['MID_MOVEMENT'] = midprice_movement(AAPL['MID_PRICE1'], 10)"
   ]
  },
  {
   "cell_type": "code",
   "execution_count": 5,
   "metadata": {
    "collapsed": false,
    "scrolled": true
   },
   "outputs": [
    {
     "data": {
      "text/plain": [
       "stationary    120488\n",
       "down          109929\n",
       "up            102246\n",
       "dtype: int64"
      ]
     },
     "execution_count": 5,
     "metadata": {},
     "output_type": "execute_result"
    }
   ],
   "source": [
    "AAPL['MID_MOVEMENT'].value_counts()"
   ]
  },
  {
   "cell_type": "markdown",
   "metadata": {},
   "source": [
    "* bid-ask spread crossing    \n",
    "\n",
    "For bid-ask spread crossing, we have to consider three scenarios:\n",
    "1. An __upward__ price spread crossing occurs when the best bid price at $t+\\Delta t$ exceeds the best ask price at time $t$ $\\Rightarrow$ $P^{bid}_{t + \\Delta t} > P^{ask}_{t}$ \n",
    "2. A __downward__ price spread crossing happens when the best ask price at $t+\\Delta t$ is less than the best bid price at time $t$ $\\Rightarrow$ $P^{ask}_{t + \\Delta t} < P^{bid}_{t}$ \n",
    "3. No price spread crossing takes place if $P^{ask}_{t + \\Delta t} \\leq P^{bid}_{t}$ and $P^{bid}_{t + \\Delta t} \\geq P^{ask}_{t}$ "
   ]
  },
  {
   "cell_type": "code",
   "execution_count": 6,
   "metadata": {
    "collapsed": true
   },
   "outputs": [],
   "source": [
    "def spread_crossing(bid, ask, delta_t):\n",
    "    # shifted bid (append nan at the last)\n",
    "    bid_shift = np.append(bid[delta_t:], np.array(np.nan).repeat(delta_t))\n",
    "    ask_shift = np.append(ask[delta_t:], np.array(np.nan).repeat(delta_t))\n",
    "    \n",
    "    # Determine up or down\n",
    "    spread = (bid_shift > ask)*1 + (ask_shift < bid)*-1\n",
    "    spread = spread.astype('float')\n",
    "    spread[-delta_t:] = np.nan\n",
    "    \n",
    "    # Change to pandas series and transform to categorical data\n",
    "    spread = pd.Series(pd.Categorical(spread, categories=[-1, 0, 1]))\n",
    "\n",
    "    # Change label\n",
    "    spread.cat.categories = ['down', 'stationary', 'up']\n",
    "    \n",
    "    return(spread)"
   ]
  },
  {
   "cell_type": "code",
   "execution_count": 7,
   "metadata": {
    "collapsed": true
   },
   "outputs": [],
   "source": [
    "# Create spread crossing movement\n",
    "AAPL['SPREAD_CROSSING'] = spread_crossing(AAPL['BID_PRICE1'], AAPL['ASK_PRICE1'], 1000)"
   ]
  },
  {
   "cell_type": "code",
   "execution_count": 8,
   "metadata": {
    "collapsed": false
   },
   "outputs": [
    {
     "data": {
      "text/plain": [
       "stationary    123000\n",
       "down          112585\n",
       "up             96088\n",
       "dtype: int64"
      ]
     },
     "execution_count": 8,
     "metadata": {},
     "output_type": "execute_result"
    }
   ],
   "source": [
    "AAPL['SPREAD_CROSSING'].value_counts()"
   ]
  },
  {
   "cell_type": "markdown",
   "metadata": {},
   "source": [
    "### First (before 11:00) vs. Second (after 11:00)"
   ]
  },
  {
   "cell_type": "code",
   "execution_count": 9,
   "metadata": {
    "collapsed": false
   },
   "outputs": [],
   "source": [
    "# Create time variable\n",
    "time = np.array([datetime.strptime(time, \"%Y/%m/%d %H:%M:%S.%f\") for time in AAPL['Time']])\n",
    "\n",
    "# Separate time by 11:00\n",
    "first_index = time < datetime(2012, 5, 22, 11, 0)\n",
    "\n",
    "# Separate training and testing set\n",
    "first = AAPL.iloc[first_index]\n",
    "second = AAPL.iloc[np.logical_not(first_index)]"
   ]
  },
  {
   "cell_type": "code",
   "execution_count": 10,
   "metadata": {
    "collapsed": false
   },
   "outputs": [
    {
     "data": {
      "text/plain": [
       "(203349, 130)"
      ]
     },
     "execution_count": 10,
     "metadata": {},
     "output_type": "execute_result"
    }
   ],
   "source": [
    "first.shape"
   ]
  },
  {
   "cell_type": "code",
   "execution_count": 11,
   "metadata": {
    "collapsed": false
   },
   "outputs": [
    {
     "data": {
      "text/plain": [
       "(129324, 130)"
      ]
     },
     "execution_count": 11,
     "metadata": {},
     "output_type": "execute_result"
    }
   ],
   "source": [
    "second.shape"
   ]
  },
  {
   "cell_type": "markdown",
   "metadata": {},
   "source": [
    "### Train, Validation and Test"
   ]
  },
  {
   "cell_type": "code",
   "execution_count": 28,
   "metadata": {
    "collapsed": false
   },
   "outputs": [],
   "source": [
    "index = np.arange(first.shape[0])\n",
    "\n",
    "train = first.iloc[index[0:101675]]\n",
    "validation = first.iloc[index[101675:152512]]\n",
    "test = first.iloc[index[152512:]]\n",
    "\n",
    "# Pull out the column name in x\n",
    "r_not_x = re.compile('TIME|INDEX|MID_MOVEMENT|SPREAD_CROSSING')\n",
    "col_in_x = [not bool(r_not_x.search(col.upper())) for col in AAPL.columns]\n",
    "\n",
    "# Separate X, y1(midprice), y2(spreadcrossing)\n",
    "X_train = train.iloc[:, col_in_x]\n",
    "y1_train = train['MID_MOVEMENT']\n",
    "y2_train = train['SPREAD_CROSSING']\n",
    "\n",
    "X_validation = validation.iloc[:, col_in_x]\n",
    "y1_validation = validation['MID_MOVEMENT']\n",
    "y2_validation = validation['SPREAD_CROSSING']\n",
    "\n",
    "X_test = test.iloc[:, col_in_x]\n",
    "y1_test = test['MID_MOVEMENT']\n",
    "y2_test = test['SPREAD_CROSSING']"
   ]
  },
  {
   "cell_type": "markdown",
   "metadata": {},
   "source": [
    "### Mid-price Movement"
   ]
  },
  {
   "cell_type": "markdown",
   "metadata": {},
   "source": [
    "### SVM"
   ]
  },
  {
   "cell_type": "code",
   "execution_count": null,
   "metadata": {
    "collapsed": false
   },
   "outputs": [
    {
     "name": "stdout",
     "output_type": "stream",
     "text": [
      "Start to fit the model with C = 100.0 and gamma = 1e-07\n",
      "0.339083738222\n",
      "Start to fit the model with C = 100.0 and gamma = 1e-06\n",
      "0.334775852234\n",
      "Start to fit the model with C = 100.0 and gamma = 1e-05\n",
      "0.331431831147\n",
      "Start to fit the model with C = 1000.0 and gamma = 1e-07\n",
      "0.343588331333\n",
      "Start to fit the model with C = 1000.0 and gamma = 1e-06\n",
      "0.329150028523\n",
      "Start to fit the model with C = 1000.0 and gamma = 1e-05\n",
      "0.318724551016\n",
      "Start to fit the model with C = 10000.0 and gamma = 1e-07\n"
     ]
    }
   ],
   "source": [
    "# Paramemter range\n",
    "C_range = 10.0**np.arange(2, 5, 1)\n",
    "gamma_range = 10.0**np.arange(-7, -4, 1)\n",
    "\n",
    "# Validation\n",
    "V = []\n",
    "for C in C_range:\n",
    "    for gamma in gamma_range:\n",
    "        print('Start to fit the model with C =', str(C), 'and gamma =', str(gamma))\n",
    "        clf = svm.SVC(C=C, gamma=gamma)\n",
    "        clf.fit(X_train.iloc[index[0:50000]], y1_train[index[0:50000]])\n",
    "        prediction = clf.predict(X_validation)\n",
    "        accuracy = np.mean(prediction == y1_validation)\n",
    "        print(accuracy)\n",
    "        V.append([C, gamma, accuracy])"
   ]
  },
  {
   "cell_type": "code",
   "execution_count": 14,
   "metadata": {
    "collapsed": true
   },
   "outputs": [],
   "source": [
    "def model_assessment(y_true, y_pred):\n",
    "    precision = precision_score(y_true, y_pred, average=None)\n",
    "    recall = recall_score(y_true, y_pred, average=None)\n",
    "    f1 = f1_score(y_true, y_pred, average=None)\n",
    "    \n",
    "    df = pd.concat([pd.Series(precision), pd.Series(recall), pd.Series(f1)], axis=1)\n",
    "    df.columns = ['precision', 'recall', 'f1']\n",
    "    df.index = ['down', 'stationary', 'up']\n",
    "    \n",
    "    return(df)"
   ]
  },
  {
   "cell_type": "code",
   "execution_count": 14,
   "metadata": {
    "collapsed": false
   },
   "outputs": [
    {
     "data": {
      "text/html": [
       "<div>\n",
       "<table border=\"1\" class=\"dataframe\">\n",
       "  <thead>\n",
       "    <tr style=\"text-align: right;\">\n",
       "      <th></th>\n",
       "      <th>precision</th>\n",
       "      <th>recall</th>\n",
       "      <th>f1</th>\n",
       "    </tr>\n",
       "  </thead>\n",
       "  <tbody>\n",
       "    <tr>\n",
       "      <th>down</th>\n",
       "      <td>0.326829</td>\n",
       "      <td>0.512778</td>\n",
       "      <td>0.399212</td>\n",
       "    </tr>\n",
       "    <tr>\n",
       "      <th>stationary</th>\n",
       "      <td>0.386208</td>\n",
       "      <td>0.164167</td>\n",
       "      <td>0.230398</td>\n",
       "    </tr>\n",
       "    <tr>\n",
       "      <th>up</th>\n",
       "      <td>0.302561</td>\n",
       "      <td>0.338345</td>\n",
       "      <td>0.319454</td>\n",
       "    </tr>\n",
       "  </tbody>\n",
       "</table>\n",
       "</div>"
      ],
      "text/plain": [
       "            precision    recall        f1\n",
       "down         0.326829  0.512778  0.399212\n",
       "stationary   0.386208  0.164167  0.230398\n",
       "up           0.302561  0.338345  0.319454"
      ]
     },
     "execution_count": 14,
     "metadata": {},
     "output_type": "execute_result"
    }
   ],
   "source": [
    "clf = svm.SVC(C=100, gamma=0.000001)\n",
    "clf.fit(X_train.iloc[index[0:50000]], y1_train[index[0:50000]])\n",
    "prediction = clf.predict(X_test)\n",
    "model_assessment(y1_test, prediction)"
   ]
  },
  {
   "cell_type": "code",
   "execution_count": 15,
   "metadata": {
    "collapsed": false
   },
   "outputs": [
    {
     "data": {
      "text/html": [
       "<div>\n",
       "<table border=\"1\" class=\"dataframe\">\n",
       "  <thead>\n",
       "    <tr style=\"text-align: right;\">\n",
       "      <th>Predicted</th>\n",
       "      <th>down</th>\n",
       "      <th>stationary</th>\n",
       "      <th>up</th>\n",
       "      <th>All</th>\n",
       "    </tr>\n",
       "    <tr>\n",
       "      <th>True</th>\n",
       "      <th></th>\n",
       "      <th></th>\n",
       "      <th></th>\n",
       "      <th></th>\n",
       "    </tr>\n",
       "  </thead>\n",
       "  <tbody>\n",
       "    <tr>\n",
       "      <th>down</th>\n",
       "      <td>8307</td>\n",
       "      <td>2481</td>\n",
       "      <td>5412</td>\n",
       "      <td>16200</td>\n",
       "    </tr>\n",
       "    <tr>\n",
       "      <th>stationary</th>\n",
       "      <td>9430</td>\n",
       "      <td>3153</td>\n",
       "      <td>6623</td>\n",
       "      <td>19206</td>\n",
       "    </tr>\n",
       "    <tr>\n",
       "      <th>up</th>\n",
       "      <td>7680</td>\n",
       "      <td>2530</td>\n",
       "      <td>5221</td>\n",
       "      <td>15431</td>\n",
       "    </tr>\n",
       "    <tr>\n",
       "      <th>All</th>\n",
       "      <td>25417</td>\n",
       "      <td>8164</td>\n",
       "      <td>17256</td>\n",
       "      <td>50837</td>\n",
       "    </tr>\n",
       "  </tbody>\n",
       "</table>\n",
       "</div>"
      ],
      "text/plain": [
       "Predicted    down  stationary     up    All\n",
       "True                                       \n",
       "down         8307        2481   5412  16200\n",
       "stationary   9430        3153   6623  19206\n",
       "up           7680        2530   5221  15431\n",
       "All         25417        8164  17256  50837"
      ]
     },
     "execution_count": 15,
     "metadata": {},
     "output_type": "execute_result"
    }
   ],
   "source": [
    "# Confusion Matrix\n",
    "pd.crosstab(y1_test, prediction, rownames=['True'], colnames=['Predicted'], margins=True)"
   ]
  },
  {
   "cell_type": "markdown",
   "metadata": {},
   "source": [
    "### Random Forest"
   ]
  },
  {
   "cell_type": "code",
   "execution_count": 21,
   "metadata": {
    "collapsed": false
   },
   "outputs": [
    {
     "name": "stdout",
     "output_type": "stream",
     "text": [
      "Start to fit the model with number of tree = 50 and number of features = sqrt\n",
      "0.334795522946\n",
      "Start to fit the model with number of tree = 50 and number of features = log2\n",
      "0.330802368354\n",
      "Start to fit the model with number of tree = 100 and number of features = sqrt\n",
      "0.350551763479\n",
      "Start to fit the model with number of tree = 100 and number of features = log2\n",
      "0.328894309263\n",
      "Start to fit the model with number of tree = 200 and number of features = sqrt\n",
      "0.341778625804\n",
      "Start to fit the model with number of tree = 200 and number of features = log2\n",
      "0.33068434408\n"
     ]
    }
   ],
   "source": [
    "# Parameters\n",
    "ns_tree = [50, 100, 200]\n",
    "ns_features = ['sqrt', 'log2']\n",
    "\n",
    "V = []\n",
    "for n in ns_tree:\n",
    "    for m in ns_features:\n",
    "        print('Start to fit the model with number of tree =', str(n), 'and number of features =', str(m))\n",
    "        rf_clf = RandomForestClassifier(n_estimators=n, max_features=m)\n",
    "        rf_clf.fit(X_train, y1_train)\n",
    "        prediction = rf_clf.predict(X_validation)\n",
    "        accuracy = np.mean(prediction == y1_validation)\n",
    "        print(accuracy)\n",
    "        V.append([n, m, accuracy])"
   ]
  },
  {
   "cell_type": "code",
   "execution_count": 15,
   "metadata": {
    "collapsed": false
   },
   "outputs": [
    {
     "data": {
      "text/html": [
       "<div>\n",
       "<table border=\"1\" class=\"dataframe\">\n",
       "  <thead>\n",
       "    <tr style=\"text-align: right;\">\n",
       "      <th></th>\n",
       "      <th>precision</th>\n",
       "      <th>recall</th>\n",
       "      <th>f1</th>\n",
       "    </tr>\n",
       "  </thead>\n",
       "  <tbody>\n",
       "    <tr>\n",
       "      <th>down</th>\n",
       "      <td>0.379712</td>\n",
       "      <td>0.619259</td>\n",
       "      <td>0.470765</td>\n",
       "    </tr>\n",
       "    <tr>\n",
       "      <th>stationary</th>\n",
       "      <td>0.473574</td>\n",
       "      <td>0.164220</td>\n",
       "      <td>0.243872</td>\n",
       "    </tr>\n",
       "    <tr>\n",
       "      <th>up</th>\n",
       "      <td>0.401419</td>\n",
       "      <td>0.461927</td>\n",
       "      <td>0.429553</td>\n",
       "    </tr>\n",
       "  </tbody>\n",
       "</table>\n",
       "</div>"
      ],
      "text/plain": [
       "            precision    recall        f1\n",
       "down         0.379712  0.619259  0.470765\n",
       "stationary   0.473574  0.164220  0.243872\n",
       "up           0.401419  0.461927  0.429553"
      ]
     },
     "execution_count": 15,
     "metadata": {},
     "output_type": "execute_result"
    }
   ],
   "source": [
    "rf_clf = RandomForestClassifier(n_estimators=100, max_features='sqrt')\n",
    "rf_clf.fit(X_train.append(X_validation), y1_train.append(y1_validation))\n",
    "\n",
    "prediction = rf_clf.predict(X_test)\n",
    "model_assessment(y1_test, prediction)"
   ]
  },
  {
   "cell_type": "code",
   "execution_count": 16,
   "metadata": {
    "collapsed": false
   },
   "outputs": [
    {
     "data": {
      "text/html": [
       "<div>\n",
       "<table border=\"1\" class=\"dataframe\">\n",
       "  <thead>\n",
       "    <tr style=\"text-align: right;\">\n",
       "      <th>Predicted</th>\n",
       "      <th>down</th>\n",
       "      <th>stationary</th>\n",
       "      <th>up</th>\n",
       "      <th>All</th>\n",
       "    </tr>\n",
       "    <tr>\n",
       "      <th>True</th>\n",
       "      <th></th>\n",
       "      <th></th>\n",
       "      <th></th>\n",
       "      <th></th>\n",
       "    </tr>\n",
       "  </thead>\n",
       "  <tbody>\n",
       "    <tr>\n",
       "      <th>down</th>\n",
       "      <td>10032</td>\n",
       "      <td>1721</td>\n",
       "      <td>4447</td>\n",
       "      <td>16200</td>\n",
       "    </tr>\n",
       "    <tr>\n",
       "      <th>stationary</th>\n",
       "      <td>9870</td>\n",
       "      <td>3154</td>\n",
       "      <td>6182</td>\n",
       "      <td>19206</td>\n",
       "    </tr>\n",
       "    <tr>\n",
       "      <th>up</th>\n",
       "      <td>6518</td>\n",
       "      <td>1785</td>\n",
       "      <td>7128</td>\n",
       "      <td>15431</td>\n",
       "    </tr>\n",
       "    <tr>\n",
       "      <th>All</th>\n",
       "      <td>26420</td>\n",
       "      <td>6660</td>\n",
       "      <td>17757</td>\n",
       "      <td>50837</td>\n",
       "    </tr>\n",
       "  </tbody>\n",
       "</table>\n",
       "</div>"
      ],
      "text/plain": [
       "Predicted    down  stationary     up    All\n",
       "True                                       \n",
       "down        10032        1721   4447  16200\n",
       "stationary   9870        3154   6182  19206\n",
       "up           6518        1785   7128  15431\n",
       "All         26420        6660  17757  50837"
      ]
     },
     "execution_count": 16,
     "metadata": {},
     "output_type": "execute_result"
    }
   ],
   "source": [
    "# Confusion Matrix\n",
    "pd.crosstab(y1_test, prediction, rownames=['True'], colnames=['Predicted'], margins=True)"
   ]
  },
  {
   "cell_type": "markdown",
   "metadata": {},
   "source": [
    "### Spread Crossing"
   ]
  },
  {
   "cell_type": "markdown",
   "metadata": {},
   "source": [
    "### SVM"
   ]
  },
  {
   "cell_type": "code",
   "execution_count": 14,
   "metadata": {
    "collapsed": false,
    "scrolled": false
   },
   "outputs": [
    {
     "name": "stdout",
     "output_type": "stream",
     "text": [
      "Start to fit the model with C = 100.0 and gamma = 1e-07\n",
      "0.320258866574\n",
      "Start to fit the model with C = 100.0 and gamma = 1e-06\n",
      "0.328599248579\n",
      "Start to fit the model with C = 100.0 and gamma = 1e-05\n",
      "0.359954363948\n",
      "Start to fit the model with C = 1000.0 and gamma = 1e-07\n",
      "0.331884257529\n",
      "Start to fit the model with C = 1000.0 and gamma = 1e-06\n",
      "0.329071345673\n",
      "Start to fit the model with C = 1000.0 and gamma = 1e-05\n",
      "0.359128194032\n",
      "Start to fit the model with C = 10000.0 and gamma = 1e-07\n",
      "0.333870999469\n",
      "Start to fit the model with C = 10000.0 and gamma = 1e-06\n",
      "0.325471605327\n",
      "Start to fit the model with C = 10000.0 and gamma = 1e-05\n",
      "0.358439719102\n"
     ]
    }
   ],
   "source": [
    "C_range = 10.0**np.arange(2, 5, 1)\n",
    "gamma_range = 10.0**np.arange(-7, -4, 1)\n",
    "\n",
    "# Validation\n",
    "V = []\n",
    "for C in C_range:\n",
    "    for gamma in gamma_range:\n",
    "        print('Start to fit the model with C =', str(C), 'and gamma =', str(gamma))\n",
    "        clf = svm.SVC(C=C, gamma=gamma)\n",
    "        clf.fit(X_train.iloc[0:50000], y2_train[0:50000])\n",
    "        prediction = clf.predict(X_validation)\n",
    "        accuracy = np.mean(prediction == y2_validation)\n",
    "        print(accuracy)\n",
    "        V.append([C, gamma, accuracy, clf])"
   ]
  },
  {
   "cell_type": "code",
   "execution_count": 15,
   "metadata": {
    "collapsed": false
   },
   "outputs": [
    {
     "data": {
      "text/html": [
       "<div>\n",
       "<table border=\"1\" class=\"dataframe\">\n",
       "  <thead>\n",
       "    <tr style=\"text-align: right;\">\n",
       "      <th></th>\n",
       "      <th>precision</th>\n",
       "      <th>recall</th>\n",
       "      <th>f1</th>\n",
       "    </tr>\n",
       "  </thead>\n",
       "  <tbody>\n",
       "    <tr>\n",
       "      <th>down</th>\n",
       "      <td>0.348737</td>\n",
       "      <td>0.710360</td>\n",
       "      <td>0.467811</td>\n",
       "    </tr>\n",
       "    <tr>\n",
       "      <th>stationary</th>\n",
       "      <td>0.386863</td>\n",
       "      <td>0.131097</td>\n",
       "      <td>0.195832</td>\n",
       "    </tr>\n",
       "    <tr>\n",
       "      <th>up</th>\n",
       "      <td>0.333462</td>\n",
       "      <td>0.202215</td>\n",
       "      <td>0.251760</td>\n",
       "    </tr>\n",
       "  </tbody>\n",
       "</table>\n",
       "</div>"
      ],
      "text/plain": [
       "            precision    recall        f1\n",
       "down         0.348737  0.710360  0.467811\n",
       "stationary   0.386863  0.131097  0.195832\n",
       "up           0.333462  0.202215  0.251760"
      ]
     },
     "execution_count": 15,
     "metadata": {},
     "output_type": "execute_result"
    }
   ],
   "source": [
    "clf = svm.SVC(C=10000, gamma=0.00001)\n",
    "clf.fit(X_train[0:50000], y2_train[0:50000])\n",
    "prediction = clf.predict(X_test)\n",
    "model_assessment(y2_test, prediction)"
   ]
  },
  {
   "cell_type": "code",
   "execution_count": 16,
   "metadata": {
    "collapsed": false
   },
   "outputs": [
    {
     "data": {
      "text/html": [
       "<div>\n",
       "<table border=\"1\" class=\"dataframe\">\n",
       "  <thead>\n",
       "    <tr style=\"text-align: right;\">\n",
       "      <th>Predicted</th>\n",
       "      <th>down</th>\n",
       "      <th>stationary</th>\n",
       "      <th>up</th>\n",
       "      <th>All</th>\n",
       "    </tr>\n",
       "    <tr>\n",
       "      <th>True</th>\n",
       "      <th></th>\n",
       "      <th></th>\n",
       "      <th></th>\n",
       "      <th></th>\n",
       "    </tr>\n",
       "  </thead>\n",
       "  <tbody>\n",
       "    <tr>\n",
       "      <th>down</th>\n",
       "      <td>12150</td>\n",
       "      <td>1600</td>\n",
       "      <td>3354</td>\n",
       "      <td>17104</td>\n",
       "    </tr>\n",
       "    <tr>\n",
       "      <th>stationary</th>\n",
       "      <td>10938</td>\n",
       "      <td>2185</td>\n",
       "      <td>3544</td>\n",
       "      <td>16667</td>\n",
       "    </tr>\n",
       "    <tr>\n",
       "      <th>up</th>\n",
       "      <td>11752</td>\n",
       "      <td>1863</td>\n",
       "      <td>3451</td>\n",
       "      <td>17066</td>\n",
       "    </tr>\n",
       "    <tr>\n",
       "      <th>All</th>\n",
       "      <td>34840</td>\n",
       "      <td>5648</td>\n",
       "      <td>10349</td>\n",
       "      <td>50837</td>\n",
       "    </tr>\n",
       "  </tbody>\n",
       "</table>\n",
       "</div>"
      ],
      "text/plain": [
       "Predicted    down  stationary     up    All\n",
       "True                                       \n",
       "down        12150        1600   3354  17104\n",
       "stationary  10938        2185   3544  16667\n",
       "up          11752        1863   3451  17066\n",
       "All         34840        5648  10349  50837"
      ]
     },
     "execution_count": 16,
     "metadata": {},
     "output_type": "execute_result"
    }
   ],
   "source": [
    "# Confusion Matrix\n",
    "pd.crosstab(y2_test, prediction, rownames=['True'], colnames=['Predicted'], margins=True)"
   ]
  },
  {
   "cell_type": "markdown",
   "metadata": {},
   "source": [
    "### Random Forest"
   ]
  },
  {
   "cell_type": "code",
   "execution_count": 25,
   "metadata": {
    "collapsed": false
   },
   "outputs": [
    {
     "name": "stdout",
     "output_type": "stream",
     "text": [
      "Start to fit the model with number of tree = 50 and number of features = sqrt\n",
      "0.244034856502\n",
      "Start to fit the model with number of tree = 50 and number of features = log2\n",
      "0.245608513484\n",
      "Start to fit the model with number of tree = 100 and number of features = sqrt\n",
      "0.246395341975\n",
      "Start to fit the model with number of tree = 100 and number of features = log2\n",
      "0.242303833822\n",
      "Start to fit the model with number of tree = 200 and number of features = sqrt\n",
      "0.243661112969\n",
      "Start to fit the model with number of tree = 200 and number of features = log2\n",
      "0.24271691878\n"
     ]
    }
   ],
   "source": [
    "# Divide train, validation, and test by time\n",
    "# Takes about 50 mins\n",
    "# Parameters\n",
    "ns_tree = [50, 100, 200]\n",
    "ns_features = ['sqrt', 'log2']\n",
    "\n",
    "V = []\n",
    "for n in ns_tree:\n",
    "    for m in ns_features:\n",
    "        print('Start to fit the model with number of tree =', str(n), 'and number of features =', str(m))\n",
    "        rf_clf = RandomForestClassifier(n_estimators=n, max_features=m)\n",
    "        rf_clf.fit(X_train, y2_train)\n",
    "        prediction = rf_clf.predict(X_validation)\n",
    "        accuracy = np.mean(prediction == y2_validation)\n",
    "        print(accuracy)\n",
    "        V.append([n, m, accuracy])"
   ]
  },
  {
   "cell_type": "code",
   "execution_count": 28,
   "metadata": {
    "collapsed": false
   },
   "outputs": [
    {
     "data": {
      "text/html": [
       "<div>\n",
       "<table border=\"1\" class=\"dataframe\">\n",
       "  <thead>\n",
       "    <tr style=\"text-align: right;\">\n",
       "      <th></th>\n",
       "      <th>precision</th>\n",
       "      <th>recall</th>\n",
       "      <th>f1</th>\n",
       "    </tr>\n",
       "  </thead>\n",
       "  <tbody>\n",
       "    <tr>\n",
       "      <th>down</th>\n",
       "      <td>0.337117</td>\n",
       "      <td>0.520872</td>\n",
       "      <td>0.409317</td>\n",
       "    </tr>\n",
       "    <tr>\n",
       "      <th>stationary</th>\n",
       "      <td>0.317889</td>\n",
       "      <td>0.221876</td>\n",
       "      <td>0.261343</td>\n",
       "    </tr>\n",
       "    <tr>\n",
       "      <th>up</th>\n",
       "      <td>0.380919</td>\n",
       "      <td>0.285187</td>\n",
       "      <td>0.326174</td>\n",
       "    </tr>\n",
       "  </tbody>\n",
       "</table>\n",
       "</div>"
      ],
      "text/plain": [
       "            precision    recall        f1\n",
       "down         0.337117  0.520872  0.409317\n",
       "stationary   0.317889  0.221876  0.261343\n",
       "up           0.380919  0.285187  0.326174"
      ]
     },
     "execution_count": 28,
     "metadata": {},
     "output_type": "execute_result"
    }
   ],
   "source": [
    "rf_clf = RandomForestClassifier(n_estimators=100, max_features='sqrt')\n",
    "rf_clf.fit(X_train.append(X_validation), y2_train.append(y2_validation))\n",
    "prediction = rf_clf.predict(X_test)\n",
    "model_assessment(y2_test, prediction)"
   ]
  },
  {
   "cell_type": "code",
   "execution_count": 29,
   "metadata": {
    "collapsed": false
   },
   "outputs": [
    {
     "data": {
      "text/html": [
       "<div>\n",
       "<table border=\"1\" class=\"dataframe\">\n",
       "  <thead>\n",
       "    <tr style=\"text-align: right;\">\n",
       "      <th>Predicted</th>\n",
       "      <th>down</th>\n",
       "      <th>stationary</th>\n",
       "      <th>up</th>\n",
       "      <th>All</th>\n",
       "    </tr>\n",
       "    <tr>\n",
       "      <th>True</th>\n",
       "      <th></th>\n",
       "      <th></th>\n",
       "      <th></th>\n",
       "      <th></th>\n",
       "    </tr>\n",
       "  </thead>\n",
       "  <tbody>\n",
       "    <tr>\n",
       "      <th>down</th>\n",
       "      <td>8909</td>\n",
       "      <td>4536</td>\n",
       "      <td>3659</td>\n",
       "      <td>17104</td>\n",
       "    </tr>\n",
       "    <tr>\n",
       "      <th>stationary</th>\n",
       "      <td>8718</td>\n",
       "      <td>3698</td>\n",
       "      <td>4251</td>\n",
       "      <td>16667</td>\n",
       "    </tr>\n",
       "    <tr>\n",
       "      <th>up</th>\n",
       "      <td>8800</td>\n",
       "      <td>3399</td>\n",
       "      <td>4867</td>\n",
       "      <td>17066</td>\n",
       "    </tr>\n",
       "    <tr>\n",
       "      <th>All</th>\n",
       "      <td>26427</td>\n",
       "      <td>11633</td>\n",
       "      <td>12777</td>\n",
       "      <td>50837</td>\n",
       "    </tr>\n",
       "  </tbody>\n",
       "</table>\n",
       "</div>"
      ],
      "text/plain": [
       "Predicted    down  stationary     up    All\n",
       "True                                       \n",
       "down         8909        4536   3659  17104\n",
       "stationary   8718        3698   4251  16667\n",
       "up           8800        3399   4867  17066\n",
       "All         26427       11633  12777  50837"
      ]
     },
     "execution_count": 29,
     "metadata": {},
     "output_type": "execute_result"
    }
   ],
   "source": [
    "# Confusion Matrix\n",
    "pd.crosstab(y2_test, prediction, rownames=['True'], colnames=['Predicted'], margins=True)"
   ]
  },
  {
   "cell_type": "markdown",
   "metadata": {},
   "source": [
    "### Feature Selection"
   ]
  },
  {
   "cell_type": "code",
   "execution_count": 35,
   "metadata": {
    "collapsed": false
   },
   "outputs": [
    {
     "name": "stdout",
     "output_type": "stream",
     "text": [
      "Feature ranking:\n",
      "1. feature 82 (0.014982)\n",
      "2. feature 83 (0.014863)\n",
      "3. feature 36 (0.014860)\n",
      "4. feature 85 (0.014442)\n",
      "5. feature 32 (0.014414)\n",
      "6. feature 61 (0.013758)\n",
      "7. feature 0 (0.013736)\n",
      "8. feature 2 (0.013478)\n",
      "9. feature 60 (0.013228)\n",
      "10. feature 20 (0.012762)\n"
     ]
    },
    {
     "data": {
      "image/png": "[encoded data removed]",
      "text/plain": [
       "<matplotlib.figure.Figure at 0x1fb25dd8>"
      ]
     },
     "metadata": {},
     "output_type": "display_data"
    },
    {
     "data": {
      "text/plain": [
       "<matplotlib.figure.Figure at 0x1e4c62b0>"
      ]
     },
     "metadata": {},
     "output_type": "display_data"
    }
   ],
   "source": [
    "forest = ExtraTreesClassifier(n_estimators=100, max_features='log2',\n",
    "                              random_state=0)\n",
    "forest.fit(X_train.append(X_validation), y2_train.append(y2_validation))\n",
    "importances = forest.feature_importances_\n",
    "std = np.std([tree.feature_importances_ for tree in forest.estimators_],\n",
    "             axis=0)\n",
    "indices = np.argsort(importances)[::-1]\n",
    "\n",
    "# Print the feature ranking\n",
    "print(\"Feature ranking:\")\n",
    "\n",
    "for f in range(10):\n",
    "    print(\"%d. feature %d (%f)\" % (f + 1, indices[f], importances[indices[f]]))\n",
    "\n",
    "# Plot the feature importances of the forest\n",
    "plt.figure()\n",
    "plt.title(\"Feature importances\")\n",
    "plt.bar(range(X_train.shape[1])[:10], importances[indices[:10]],\n",
    "       color=\"r\", yerr=std[indices[:10]], align=\"center\")\n",
    "plt.xticks(range(X_train.shape[1])[:10], X_train.columns[indices[:10]], rotation=90)\n",
    "plt.xlim([-1, 10])\n",
    "plt.show()"
   ]
  },
  {
   "cell_type": "code",
   "execution_count": 33,
   "metadata": {
    "collapsed": false
   },
   "outputs": [
    {
     "data": {
      "text/plain": [
       "Index([u'MEAN_BID_SIZE', u'MEAN_ASK_SIZE', u'BID_PRICE10', u'SIZE_ASK_BID',\n",
       "       u'BID_PRICE9', u'BID_RANGE', u'BID_PRICE1', u'ASK_PRICE1', u'ASK_RANGE',\n",
       "       u'BID_PRICE6'],\n",
       "      dtype='object')"
      ]
     },
     "execution_count": 33,
     "metadata": {},
     "output_type": "execute_result"
    }
   ],
   "source": [
    "X_train.columns[[82, 83, 36, 85, 32, 61, 0, 2, 60, 20]]"
   ]
  },
  {
   "cell_type": "markdown",
   "metadata": {},
   "source": [
    "### Logistic Regression for Spread Crossing"
   ]
  },
  {
   "cell_type": "code",
   "execution_count": 29,
   "metadata": {
    "collapsed": false
   },
   "outputs": [
    {
     "name": "stderr",
     "output_type": "stream",
     "text": [
      "C:\\Users\\jason\\Anaconda3\\envs\\ipykernel_py2\\lib\\site-packages\\ipykernel\\__main__.py:4: SettingWithCopyWarning: \n",
      "A value is trying to be set on a copy of a slice from a DataFrame.\n",
      "Try using .loc[row_indexer,col_indexer] = value instead\n",
      "\n",
      "See the caveats in the documentation: http://pandas.pydata.org/pandas-docs/stable/indexing.html#indexing-view-versus-copy\n",
      "C:\\Users\\jason\\Anaconda3\\envs\\ipykernel_py2\\lib\\site-packages\\ipykernel\\__main__.py:8: SettingWithCopyWarning: \n",
      "A value is trying to be set on a copy of a slice from a DataFrame.\n",
      "Try using .loc[row_indexer,col_indexer] = value instead\n",
      "\n",
      "See the caveats in the documentation: http://pandas.pydata.org/pandas-docs/stable/indexing.html#indexing-view-versus-copy\n",
      "C:\\Users\\jason\\Anaconda3\\envs\\ipykernel_py2\\lib\\site-packages\\ipykernel\\__main__.py:12: SettingWithCopyWarning: \n",
      "A value is trying to be set on a copy of a slice from a DataFrame.\n",
      "Try using .loc[row_indexer,col_indexer] = value instead\n",
      "\n",
      "See the caveats in the documentation: http://pandas.pydata.org/pandas-docs/stable/indexing.html#indexing-view-versus-copy\n"
     ]
    }
   ],
   "source": [
    "# Create new variable: ratio of bid size and ask size\n",
    "ratio = (X_train.ASK_SIZE1 + X_train.ASK_SIZE2 + X_train.ASK_SIZE3 + X_train.ASK_SIZE4 + X_train.ASK_SIZE5)*1.0/(X_train.BID_SIZE1 + X_train.BID_SIZE2 + X_train.BID_SIZE3 + X_train.BID_SIZE4 + X_train.BID_SIZE5)\n",
    "\n",
    "X_train['ratio'] = ratio\n",
    "\n",
    "# Validation\n",
    "ratio_val = (X_validation.ASK_SIZE1 + X_validation.ASK_SIZE2 + X_validation.ASK_SIZE3 + X_validation.ASK_SIZE4 + X_validation.ASK_SIZE5)*1.0/(X_validation.BID_SIZE1 + X_validation.BID_SIZE2 + X_validation.BID_SIZE3 + X_validation.BID_SIZE4 + X_validation.BID_SIZE5)\n",
    "X_validation['ratio'] = ratio_val\n",
    "\n",
    "# Test\n",
    "ratio_test = (X_test.ASK_SIZE1 + X_test.ASK_SIZE2 + X_test.ASK_SIZE3 + X_test.ASK_SIZE4 + X_test.ASK_SIZE5)*1.0/(X_test.BID_SIZE1 + X_test.BID_SIZE2 + X_test.BID_SIZE3 + X_test.BID_SIZE4 + X_test.BID_SIZE5)\n",
    "X_test['ratio'] = ratio_test"
   ]
  },
  {
   "cell_type": "code",
   "execution_count": 24,
   "metadata": {
    "collapsed": false
   },
   "outputs": [
    {
     "data": {
      "text/plain": [
       "LogisticRegression(C=100, class_weight=None, dual=False, fit_intercept=True,\n",
       "          intercept_scaling=1, max_iter=100, multi_class='ovr', n_jobs=1,\n",
       "          penalty='l2', random_state=None, solver='liblinear', tol=0.0001,\n",
       "          verbose=0, warm_start=False)"
      ]
     },
     "execution_count": 24,
     "metadata": {},
     "output_type": "execute_result"
    }
   ],
   "source": [
    "logreg.fit(X_train[:10000], y2_train[:10000])"
   ]
  },
  {
   "cell_type": "code",
   "execution_count": 30,
   "metadata": {
    "collapsed": false
   },
   "outputs": [
    {
     "name": "stdout",
     "output_type": "stream",
     "text": [
      "100 0.360249424632\n",
      "1000.0 0.362000118024\n",
      "10000.0 0.360052717509\n",
      "100000.0 0.362845958652\n",
      "1000000.0 0.361055923835\n",
      "10000000.0 0.360859216712\n",
      "100000000.0 0.364852371304\n"
     ]
    }
   ],
   "source": [
    "c_set = [100,1e3,1e4,1e5,1e6,1e7,1e8]\n",
    "for c in c_set:\n",
    "    logreg = linear_model.LogisticRegression(C=c)\n",
    "\n",
    "    logreg.fit(X_train[:5000], y2_train[:5000]) \n",
    "    y2_pre_log = logreg.predict(X_validation)\n",
    "    accuracy = np.sum(y2_pre_log == y2_validation)/50837.0\n",
    "    \n",
    "    print(c, accuracy)"
   ]
  },
  {
   "cell_type": "code",
   "execution_count": 31,
   "metadata": {
    "collapsed": false
   },
   "outputs": [
    {
     "data": {
      "text/plain": [
       "LogisticRegression(C=100000000.0, class_weight=None, dual=False,\n",
       "          fit_intercept=True, intercept_scaling=1, max_iter=100,\n",
       "          multi_class='ovr', n_jobs=1, penalty='l2', random_state=None,\n",
       "          solver='liblinear', tol=0.0001, verbose=0, warm_start=False)"
      ]
     },
     "execution_count": 31,
     "metadata": {},
     "output_type": "execute_result"
    }
   ],
   "source": [
    "logreg.fit(X_train[:10000], y2_train[:10000])"
   ]
  },
  {
   "cell_type": "code",
   "execution_count": 37,
   "metadata": {
    "collapsed": false
   },
   "outputs": [],
   "source": [
    "y2_prediction_test = logreg.predict(X_test)"
   ]
  },
  {
   "cell_type": "code",
   "execution_count": 36,
   "metadata": {
    "collapsed": false
   },
   "outputs": [
    {
     "data": {
      "text/plain": [
       "array([-0.04948695,  0.20226608, -0.08213178])"
      ]
     },
     "execution_count": 36,
     "metadata": {},
     "output_type": "execute_result"
    }
   ],
   "source": [
    "logreg.coef_[:, 126]"
   ]
  },
  {
   "cell_type": "code",
   "execution_count": 38,
   "metadata": {
    "collapsed": false
   },
   "outputs": [
    {
     "data": {
      "text/plain": [
       "(array([ 0.39389342, -0.45961729,  0.59549729]),\n",
       " Index([u'BID_RANGE', u'SPREAD5', u'SPREAD10'], dtype='object'))"
      ]
     },
     "execution_count": 38,
     "metadata": {},
     "output_type": "execute_result"
    }
   ],
   "source": [
    "ind = np.abs(logreg.coef_[0,:]).argsort()[-3:]\n",
    "logreg.coef_[0,:][ind],X_train.columns[ind]"
   ]
  },
  {
   "cell_type": "code",
   "execution_count": 39,
   "metadata": {
    "collapsed": false
   },
   "outputs": [
    {
     "data": {
      "text/plain": [
       "(array([-0.25713995, -0.36788657,  0.40280117]),\n",
       " Index([u'BID_PRICE1', u'BID_RANGE', u'PRICE_ASK_BID'], dtype='object'))"
      ]
     },
     "execution_count": 39,
     "metadata": {},
     "output_type": "execute_result"
    }
   ],
   "source": [
    "ind = np.abs(logreg.coef_[1,:]).argsort()[-3:]\n",
    "logreg.coef_[1,:][ind],X_train.columns[ind]"
   ]
  },
  {
   "cell_type": "code",
   "execution_count": 40,
   "metadata": {
    "collapsed": false
   },
   "outputs": [
    {
     "data": {
      "text/plain": [
       "(array([-0.72021271,  0.72635669, -1.04013647]),\n",
       " Index([u'ASK_RANGE', u'SPREAD5', u'SPREAD10'], dtype='object'))"
      ]
     },
     "execution_count": 40,
     "metadata": {},
     "output_type": "execute_result"
    }
   ],
   "source": [
    "ind = np.abs(logreg.coef_[2,:]).argsort()[-3:]\n",
    "logreg.coef_[2,:][ind],X_train.columns[ind]"
   ]
  },
  {
   "cell_type": "code",
   "execution_count": 41,
   "metadata": {
    "collapsed": false
   },
   "outputs": [
    {
     "data": {
      "text/html": [
       "<div>\n",
       "<table border=\"1\" class=\"dataframe\">\n",
       "  <thead>\n",
       "    <tr style=\"text-align: right;\">\n",
       "      <th></th>\n",
       "      <th>precision</th>\n",
       "      <th>recall</th>\n",
       "      <th>f1</th>\n",
       "    </tr>\n",
       "  </thead>\n",
       "  <tbody>\n",
       "    <tr>\n",
       "      <th>down</th>\n",
       "      <td>0.071738</td>\n",
       "      <td>0.368579</td>\n",
       "      <td>0.120100</td>\n",
       "    </tr>\n",
       "    <tr>\n",
       "      <th>stationary</th>\n",
       "      <td>0.002100</td>\n",
       "      <td>0.241379</td>\n",
       "      <td>0.004164</td>\n",
       "    </tr>\n",
       "    <tr>\n",
       "      <th>up</th>\n",
       "      <td>0.937888</td>\n",
       "      <td>0.337943</td>\n",
       "      <td>0.496857</td>\n",
       "    </tr>\n",
       "  </tbody>\n",
       "</table>\n",
       "</div>"
      ],
      "text/plain": [
       "            precision    recall        f1\n",
       "down         0.071738  0.368579  0.120100\n",
       "stationary   0.002100  0.241379  0.004164\n",
       "up           0.937888  0.337943  0.496857"
      ]
     },
     "execution_count": 41,
     "metadata": {},
     "output_type": "execute_result"
    }
   ],
   "source": [
    "model_assessment(y2_prediction_test, y2_test)"
   ]
  },
  {
   "cell_type": "markdown",
   "metadata": {},
   "source": [
    "### Strategy and Profit"
   ]
  },
  {
   "cell_type": "markdown",
   "metadata": {},
   "source": [
    "### SVM"
   ]
  },
  {
   "cell_type": "code",
   "execution_count": 13,
   "metadata": {
    "collapsed": false
   },
   "outputs": [
    {
     "data": {
      "text/plain": [
       "SVC(C=100, cache_size=200, class_weight=None, coef0=0.0,\n",
       "  decision_function_shape=None, degree=3, gamma=1e-06, kernel='rbf',\n",
       "  max_iter=-1, probability=False, random_state=None, shrinking=True,\n",
       "  tol=0.001, verbose=False)"
      ]
     },
     "execution_count": 13,
     "metadata": {},
     "output_type": "execute_result"
    }
   ],
   "source": [
    "clf = svm.SVC(C=100, gamma=1e-6)\n",
    "clf.fit(X_train[:30000], y2_train[:30000])"
   ]
  },
  {
   "cell_type": "markdown",
   "metadata": {},
   "source": [
    "### Random Forest"
   ]
  },
  {
   "cell_type": "code",
   "execution_count": 14,
   "metadata": {
    "collapsed": false
   },
   "outputs": [
    {
     "data": {
      "text/plain": [
       "RandomForestClassifier(bootstrap=True, class_weight=None, criterion='gini',\n",
       "            max_depth=None, max_features='sqrt', max_leaf_nodes=None,\n",
       "            min_samples_leaf=1, min_samples_split=2,\n",
       "            min_weight_fraction_leaf=0.0, n_estimators=100, n_jobs=1,\n",
       "            oob_score=False, random_state=None, verbose=0,\n",
       "            warm_start=False)"
      ]
     },
     "execution_count": 14,
     "metadata": {},
     "output_type": "execute_result"
    }
   ],
   "source": [
    "# Random Forest\n",
    "rf_clf = RandomForestClassifier(n_estimators=100, max_features='sqrt')\n",
    "rf_clf.fit(X_train, y2_train)"
   ]
  },
  {
   "cell_type": "markdown",
   "metadata": {},
   "source": [
    "### Compute Profit"
   ]
  },
  {
   "cell_type": "code",
   "execution_count": 42,
   "metadata": {
    "collapsed": false
   },
   "outputs": [],
   "source": [
    "def compute_profit(data, classifier, delta_t, predictions, provide=False):\n",
    "    # The price we buy the share or short sell the share\n",
    "    profit = np.zeros(len(data)/delta_t)\n",
    "    i, j = 0, 0\n",
    "    \n",
    "    while i < len(data) - delta_t:\n",
    "        # If user directly provide the prediction, just use the predicted value\n",
    "        if provide:\n",
    "            prediction = predictions.iloc[i]\n",
    "        else:\n",
    "            prediction = classifier.predict(data.iloc[i].reshape(1, -1))\n",
    "         \n",
    "        # Determine the trading of each observation \n",
    "        if prediction == 'stationary': \n",
    "            #print('The movement of', str(i), 'observation is stationary')\n",
    "            i = i + 1\n",
    "        elif prediction == 'up':\n",
    "            #print('The movement of', str(i), 'observation is up')\n",
    "            p_ask = data['ASK_PRICE1'].iloc[i]\n",
    "            i = i + delta_t\n",
    "            p_bid = data['BID_PRICE1'].iloc[i]\n",
    "            #print('The profit of this trading is', str(profit[j]))\n",
    "            #print('Current profit is', str(sum(profit)))\n",
    "            profit[j] = p_bid - p_ask\n",
    "            i += 1\n",
    "            j += 1\n",
    "        elif prediction == 'down':\n",
    "            #print('The movement of', str(i), 'observation is down')\n",
    "            p_bid = data['BID_PRICE1'].iloc[i]\n",
    "            i = i + delta_t\n",
    "            p_ask = data['ASK_PRICE1'].iloc[i]\n",
    "            profit[j] = p_bid - p_ask\n",
    "            #print('The profit of this trading is', str(profit[j]))\n",
    "            #print('Current profit is', str(sum(profit)))\n",
    "            i += 1\n",
    "            j += 1\n",
    "            \n",
    "    return(profit)"
   ]
  },
  {
   "cell_type": "code",
   "execution_count": 114,
   "metadata": {
    "collapsed": false
   },
   "outputs": [
    {
     "data": {
      "text/plain": [
       "array([ 0.3 , -0.62, -0.32, -0.28, -0.15, -0.87, -0.15, -0.19, -0.25,\n",
       "       -0.34, -0.28,  0.48, -0.48, -0.03, -0.79, -0.58, -0.12, -0.26,\n",
       "       -0.18, -0.22, -0.01, -0.08, -0.03, -0.33,  0.77, -0.11,  0.58,\n",
       "        0.06, -0.36, -0.65, -0.27, -0.27, -0.4 , -0.52, -0.15,  0.18,\n",
       "       -0.1 , -0.05,  0.01, -0.14, -0.9 ,  0.25, -0.08, -0.41, -0.4 ,\n",
       "        0.37, -0.02, -0.28, -0.3 , -0.3 , -0.07, -0.19,  0.28,  0.18,\n",
       "       -0.58, -0.44, -0.2 ,  0.28, -0.01,  0.17, -0.02,  0.29,  0.28,\n",
       "        0.21, -0.28,  0.36, -0.23,  0.07,  0.41, -0.71,  0.55,  0.26,\n",
       "       -0.41, -0.45, -0.18, -0.23, -0.2 ,  0.02,  0.23, -0.86, -0.08,\n",
       "        0.23, -1.05,  0.42,  0.55,  0.14, -0.04,  0.46, -0.03, -0.67,\n",
       "       -0.09, -0.85, -0.01, -0.01,  0.29, -0.05, -0.02,  0.1 ,  0.29,\n",
       "       -0.26, -0.41, -0.14, -0.75, -0.29, -1.15, -0.46, -0.25, -0.2 ,\n",
       "        0.35, -0.49, -0.4 , -0.33, -0.88, -0.67, -0.09,  0.54, -0.39,\n",
       "       -0.64,  0.1 , -0.47,  0.2 , -0.74,  0.43, -0.49, -0.05, -0.51,\n",
       "       -0.27, -0.93,  0.  ])"
      ]
     },
     "execution_count": 114,
     "metadata": {},
     "output_type": "execute_result"
    }
   ],
   "source": [
    "# SVM\n",
    "profit = compute_profit(second.iloc[:, col_in_x], clf, 1000, 0)\n",
    "profit"
   ]
  },
  {
   "cell_type": "code",
   "execution_count": 115,
   "metadata": {
    "collapsed": false
   },
   "outputs": [
    {
     "data": {
      "text/plain": [
       "-20.799999999999613"
      ]
     },
     "execution_count": 115,
     "metadata": {},
     "output_type": "execute_result"
    }
   ],
   "source": [
    "sum(profit)"
   ]
  },
  {
   "cell_type": "code",
   "execution_count": 116,
   "metadata": {
    "collapsed": false
   },
   "outputs": [
    {
     "data": {
      "text/plain": [
       "array([ 0.3 ,  0.35, -0.19, -0.25, -0.32, -0.87, -0.28, -0.25, -0.07,\n",
       "        0.03, -0.28, -0.66,  0.  , -0.29,  0.22,  0.18, -0.43, -0.1 ,\n",
       "       -0.14, -0.09, -0.38, -0.01, -0.33, -0.14,  0.62,  0.05,  0.42,\n",
       "        0.2 , -0.19, -0.74, -0.3 ,  0.32, -0.76, -0.24, -0.49, -0.67,\n",
       "       -0.31,  0.07, -0.43, -0.12,  0.57, -0.83, -0.28, -0.09,  0.16,\n",
       "       -0.65, -0.16, -0.34, -0.09, -0.48, -0.12, -0.02, -0.79, -0.28,\n",
       "        0.28, -0.65, -0.2 , -0.75, -0.1 , -0.66, -0.13,  0.3 ,  0.21,\n",
       "        0.08, -0.39, -0.39, -0.43,  0.41, -0.98, -0.9 , -0.82, -0.43,\n",
       "       -0.49, -0.49,  0.05, -0.36, -0.33, -0.59, -0.53,  0.3 ,  0.18,\n",
       "       -0.02, -0.68,  0.19, -0.81, -0.49, -0.29, -0.96, -0.22,  0.1 ,\n",
       "        0.34, -0.6 , -0.99,  0.05, -0.44, -0.45,  0.  , -0.11,  0.45,\n",
       "       -0.54,  0.25, -0.21, -0.32, -0.43,  0.42,  0.28,  0.31, -0.43,\n",
       "       -0.44, -0.63,  0.19, -0.67,  0.56,  0.06,  0.47,  0.28,  0.48,\n",
       "        0.02, -0.12, -0.26,  0.07, -0.01, -0.38, -0.59, -0.34,  0.1 ,\n",
       "       -0.46, -0.03,  0.54])"
      ]
     },
     "execution_count": 116,
     "metadata": {},
     "output_type": "execute_result"
    }
   ],
   "source": [
    "# random forest\n",
    "profit = compute_profit(second.iloc[:, col_in_x], rf_clf, 1000, False)\n",
    "profit"
   ]
  },
  {
   "cell_type": "code",
   "execution_count": 117,
   "metadata": {
    "collapsed": false
   },
   "outputs": [
    {
     "data": {
      "text/plain": [
       "-24.540000000000532"
      ]
     },
     "execution_count": 117,
     "metadata": {},
     "output_type": "execute_result"
    }
   ],
   "source": [
    "sum(profit)"
   ]
  },
  {
   "cell_type": "code",
   "execution_count": 44,
   "metadata": {
    "collapsed": false
   },
   "outputs": [
    {
     "name": "stderr",
     "output_type": "stream",
     "text": [
      "C:\\Users\\jason\\Anaconda3\\envs\\ipykernel_py2\\lib\\site-packages\\ipykernel\\__main__.py:3: SettingWithCopyWarning: \n",
      "A value is trying to be set on a copy of a slice from a DataFrame.\n",
      "Try using .loc[row_indexer,col_indexer] = value instead\n",
      "\n",
      "See the caveats in the documentation: http://pandas.pydata.org/pandas-docs/stable/indexing.html#indexing-view-versus-copy\n",
      "  app.launch_new_instance()\n"
     ]
    }
   ],
   "source": [
    "# Create ratio\n",
    "ratio = (second.ASK_SIZE1 + second.ASK_SIZE2 + second.ASK_SIZE3 + second.ASK_SIZE4 + second.ASK_SIZE5)*1.0/(second.BID_SIZE1 + second.BID_SIZE2 + second.BID_SIZE3 + second.BID_SIZE4 + second.BID_SIZE5)\n",
    "second['ratio'] = ratio"
   ]
  },
  {
   "cell_type": "code",
   "execution_count": 46,
   "metadata": {
    "collapsed": true
   },
   "outputs": [],
   "source": [
    "# Pull out the column name in x\n",
    "r_not_x = re.compile('TIME|INDEX|MID_MOVEMENT|SPREAD_CROSSING')\n",
    "col_in_x = [not bool(r_not_x.search(col.upper())) for col in second.columns]"
   ]
  },
  {
   "cell_type": "code",
   "execution_count": 47,
   "metadata": {
    "collapsed": false
   },
   "outputs": [
    {
     "data": {
      "text/plain": [
       "array([ 0.3 ,  0.35, -0.19, -0.25, -0.32, -0.87, -0.28, -0.25, -0.07,\n",
       "        0.03, -0.28, -0.66,  0.  , -0.29,  0.22,  0.18, -0.43, -0.1 ,\n",
       "       -0.14, -0.09, -0.38, -0.01, -0.33, -0.23,  0.62,  0.05,  0.42,\n",
       "        0.2 , -0.19, -0.74, -0.3 ,  0.32, -0.76, -0.24, -0.49, -0.67,\n",
       "       -0.31,  0.07, -0.43, -0.12,  0.57, -0.83, -0.28, -0.09, -0.61,\n",
       "       -0.65, -0.16, -0.34, -0.09, -0.48, -0.4 , -0.02, -0.79, -0.28,\n",
       "        0.28, -0.65, -0.2 , -0.75, -0.1 , -0.66, -0.13,  0.3 ,  0.21,\n",
       "        0.08, -0.39, -0.39, -0.43,  0.41, -0.98, -0.9 , -0.82,  0.11,\n",
       "       -0.49, -0.49, -0.36, -0.36, -0.33, -0.59, -0.53,  0.3 ,  0.18,\n",
       "       -0.02, -0.68, -0.5 , -0.81, -0.49, -0.29, -0.96,  0.  ,  0.1 ,\n",
       "        0.34, -0.6 , -0.99,  0.05, -0.44, -0.45, -0.35, -0.11,  0.45,\n",
       "       -0.54,  0.25, -0.21, -0.32, -0.43,  0.42,  0.28,  0.31, -0.43,\n",
       "       -0.44, -0.63,  0.19, -0.67,  0.56,  0.06,  0.47,  0.28,  0.48,\n",
       "        0.02, -0.12, -0.26,  0.07, -0.01, -0.38, -0.59, -0.34, -0.3 ,\n",
       "       -0.46, -0.03,  0.54])"
      ]
     },
     "execution_count": 47,
     "metadata": {},
     "output_type": "execute_result"
    }
   ],
   "source": [
    "# Logistic Regression\n",
    "profit = compute_profit(second.iloc[:, col_in_x], logreg, 1000, 0)\n",
    "profit"
   ]
  },
  {
   "cell_type": "code",
   "execution_count": 48,
   "metadata": {
    "collapsed": false
   },
   "outputs": [
    {
     "data": {
      "text/plain": [
       "-26.770000000000664"
      ]
     },
     "execution_count": 48,
     "metadata": {},
     "output_type": "execute_result"
    }
   ],
   "source": [
    "sum(profit)"
   ]
  },
  {
   "cell_type": "code",
   "execution_count": 49,
   "metadata": {
    "collapsed": false
   },
   "outputs": [
    {
     "data": {
      "text/plain": [
       "array([ 0.3 ,  0.35,  0.01,  0.05,  0.1 ,  0.16,  0.07,  0.2 ,  0.02,\n",
       "        0.37,  0.05,  0.09,  0.38,  0.03,  0.02,  0.15,  0.05,  0.18,\n",
       "        0.16,  0.01,  0.01,  0.35,  0.22,  0.21,  0.55,  0.03,  0.3 ,\n",
       "        0.07,  0.25,  0.34,  0.05,  0.04,  0.23,  0.03,  0.03,  0.05,\n",
       "        0.5 ,  0.02,  0.08,  0.01,  0.26,  0.51,  0.06,  0.01,  0.01,\n",
       "        0.04,  0.01,  0.09,  0.47,  0.03,  0.01,  0.05,  0.36,  0.01,\n",
       "        0.02,  0.11,  0.28,  0.1 ,  0.03,  0.09,  0.05,  0.31,  0.48,\n",
       "        0.46,  0.37,  0.31,  0.1 ,  0.34,  0.09,  0.01,  0.01,  0.12,\n",
       "        0.01,  0.28,  0.02,  0.06,  0.01,  0.16,  0.24,  0.34,  0.07,\n",
       "        0.07,  0.28,  0.01,  0.04,  0.68,  0.1 ,  0.18,  0.12,  0.07,\n",
       "        0.22,  0.37,  0.01,  0.24,  0.11,  0.35,  0.06,  0.48,  0.18,\n",
       "        0.05,  0.05,  0.32,  0.5 ,  0.1 ,  0.42,  0.04,  0.37,  0.21,\n",
       "        0.58,  0.07,  0.17,  0.06,  0.07,  0.01,  0.14,  0.39,  0.03,\n",
       "        0.16,  0.09,  0.08,  0.62,  0.  ,  0.  ,  0.  ,  0.  ,  0.  ,\n",
       "        0.  ,  0.  ,  0.  ])"
      ]
     },
     "execution_count": 49,
     "metadata": {},
     "output_type": "execute_result"
    }
   ],
   "source": [
    "# All correct\n",
    "profit = compute_profit(second.iloc[:, col_in_x], rf_clf, 1000, second['SPREAD_CROSSING'], True)\n",
    "profit"
   ]
  },
  {
   "cell_type": "code",
   "execution_count": 50,
   "metadata": {
    "collapsed": false
   },
   "outputs": [
    {
     "data": {
      "text/plain": [
       "20.610000000000014"
      ]
     },
     "execution_count": 50,
     "metadata": {},
     "output_type": "execute_result"
    }
   ],
   "source": [
    "sum(profit)"
   ]
  },
  {
   "cell_type": "markdown",
   "metadata": {},
   "source": [
    "* [sklearn: SVM](http://scikit-learn.org/stable/modules/svm.html)\n",
    "* [sklearn: Ensemble methods](http://scikit-learn.org/stable/modules/ensemble.html)\n",
    "* [sklearn: Random Forest](http://scikit-learn.org/stable/modules/generated/sklearn.ensemble.RandomForestClassifier.html)\n",
    "* [sklearn: Feature importances with forests of trees](http://scikit-learn.org/stable/auto_examples/ensemble/plot_forest_importances.html)"
   ]
  }
 ],
 "metadata": {
  "kernelspec": {
   "display_name": "Python 2",
   "language": "python",
   "name": "python2"
  },
  "language_info": {
   "codemirror_mode": {
    "name": "ipython",
    "version": 2
   },
   "file_extension": ".py",
   "mimetype": "text/x-python",
   "name": "python",
   "nbconvert_exporter": "python",
   "pygments_lexer": "ipython2",
   "version": "2.7.11"
  }
 },
 "nbformat": 4,
 "nbformat_minor": 0
}
