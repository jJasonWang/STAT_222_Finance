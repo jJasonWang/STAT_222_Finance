{
 "cells": [
  {
   "cell_type": "code",
   "execution_count": 1,
   "metadata": {
    "collapsed": false
   },
   "outputs": [],
   "source": [
    "from __future__ import print_function\n",
    "import csv\n",
    "import numpy as np\n",
    "import matplotlib.pyplot as plt\n",
    "import pandas as pd\n",
    "import re\n",
    "from sklearn import svm\n",
    "from sklearn.ensemble import RandomForestClassifier\n",
    "from sklearn.metrics import confusion_matrix\n",
    "from datetime import datetime, date, time, timedelta\n",
    "%matplotlib inline"
   ]
  },
  {
   "cell_type": "code",
   "execution_count": 2,
   "metadata": {
    "collapsed": true
   },
   "outputs": [],
   "source": [
    "# Read data\n",
    "AAPL = pd.read_csv(\"../Data/AAPL_05222012_0930_1300_LOB_2.csv\")"
   ]
  },
  {
   "cell_type": "code",
   "execution_count": 3,
   "metadata": {
    "collapsed": false
   },
   "outputs": [
    {
     "data": {
      "text/plain": [
       "(332673, 62)"
      ]
     },
     "execution_count": 3,
     "metadata": {},
     "output_type": "execute_result"
    }
   ],
   "source": [
    "# Change column name\n",
    "AAPL.columns = [col_name.split('.')[1] if len(col_name) > 5 else col_name for col_name in AAPL.columns]\n",
    "\n",
    "# Dimension of the data frame\n",
    "AAPL.shape"
   ]
  },
  {
   "cell_type": "markdown",
   "metadata": {},
   "source": [
    "### Basic Set"
   ]
  },
  {
   "cell_type": "code",
   "execution_count": 4,
   "metadata": {
    "collapsed": false
   },
   "outputs": [
    {
     "data": {
      "text/plain": [
       "Index([u'Index', u'Time', u'BID_PRICE1', u'BID_UPDATE_TIME1', u'BID_SIZE1',\n",
       "       u'ASK_PRICE1', u'ASK_UPDATE_TIME1', u'ASK_SIZE1', u'BID_PRICE2',\n",
       "       u'BID_UPDATE_TIME2', u'BID_SIZE2', u'ASK_PRICE2', u'ASK_UPDATE_TIME2',\n",
       "       u'ASK_SIZE2', u'BID_PRICE3', u'BID_UPDATE_TIME3', u'BID_SIZE3',\n",
       "       u'ASK_PRICE3', u'ASK_UPDATE_TIME3', u'ASK_SIZE3', u'BID_PRICE4',\n",
       "       u'BID_UPDATE_TIME4', u'BID_SIZE4', u'ASK_PRICE4', u'ASK_UPDATE_TIME4',\n",
       "       u'ASK_SIZE4', u'BID_PRICE5', u'BID_UPDATE_TIME5', u'BID_SIZE5',\n",
       "       u'ASK_PRICE5', u'ASK_UPDATE_TIME5', u'ASK_SIZE5', u'BID_PRICE6',\n",
       "       u'BID_UPDATE_TIME6', u'BID_SIZE6', u'ASK_PRICE6', u'ASK_UPDATE_TIME6',\n",
       "       u'ASK_SIZE6', u'BID_PRICE7', u'BID_UPDATE_TIME7', u'BID_SIZE7',\n",
       "       u'ASK_PRICE7', u'ASK_UPDATE_TIME7', u'ASK_SIZE7', u'BID_PRICE8',\n",
       "       u'BID_UPDATE_TIME8', u'BID_SIZE8', u'ASK_PRICE8', u'ASK_UPDATE_TIME8',\n",
       "       u'ASK_SIZE8', u'BID_PRICE9', u'BID_UPDATE_TIME9', u'BID_SIZE9',\n",
       "       u'ASK_PRICE9', u'ASK_UPDATE_TIME9', u'ASK_SIZE9', u'BID_PRICE10',\n",
       "       u'BID_UPDATE_TIME10', u'BID_SIZE10', u'ASK_PRICE10',\n",
       "       u'ASK_UPDATE_TIME10', u'ASK_SIZE10'],\n",
       "      dtype='object')"
      ]
     },
     "execution_count": 4,
     "metadata": {},
     "output_type": "execute_result"
    }
   ],
   "source": [
    "# Price and Volume\n",
    "AAPL.columns"
   ]
  },
  {
   "cell_type": "markdown",
   "metadata": {},
   "source": [
    "### Time-insenstive Set\n",
    "* bid-ask spreads    \n",
    "We calculate mid-price by $$Spread_i = P^{ask}_{i} - P^{bid}_{i}$$"
   ]
  },
  {
   "cell_type": "code",
   "execution_count": 5,
   "metadata": {
    "collapsed": true
   },
   "outputs": [],
   "source": [
    "AAPL['SPREAD1'] = AAPL['ASK_PRICE1'] - AAPL['BID_PRICE1']\n",
    "AAPL['SPREAD2'] = AAPL['ASK_PRICE2'] - AAPL['BID_PRICE2']\n",
    "AAPL['SPREAD3'] = AAPL['ASK_PRICE3'] - AAPL['BID_PRICE3']\n",
    "AAPL['SPREAD4'] = AAPL['ASK_PRICE4'] - AAPL['BID_PRICE4']\n",
    "AAPL['SPREAD5'] = AAPL['ASK_PRICE5'] - AAPL['BID_PRICE5']\n",
    "AAPL['SPREAD6'] = AAPL['ASK_PRICE6'] - AAPL['BID_PRICE6']\n",
    "AAPL['SPREAD7'] = AAPL['ASK_PRICE7'] - AAPL['BID_PRICE7']\n",
    "AAPL['SPREAD8'] = AAPL['ASK_PRICE8'] - AAPL['BID_PRICE8']\n",
    "AAPL['SPREAD9'] = AAPL['ASK_PRICE9'] - AAPL['BID_PRICE9']\n",
    "AAPL['SPREAD10'] = AAPL['ASK_PRICE10'] - AAPL['BID_PRICE10']"
   ]
  },
  {
   "cell_type": "markdown",
   "metadata": {},
   "source": [
    "* mid-prices    \n",
    "$$P^{mid}_{i} = \\frac{1}{2}(P^{ask}_{i} + P^{bid}_{i})$$"
   ]
  },
  {
   "cell_type": "code",
   "execution_count": 6,
   "metadata": {
    "collapsed": true
   },
   "outputs": [],
   "source": [
    "AAPL['MID_PRICE1'] = (AAPL['BID_PRICE1'] + AAPL['ASK_PRICE1'])/2\n",
    "AAPL['MID_PRICE2'] = (AAPL['BID_PRICE2'] + AAPL['ASK_PRICE2'])/2\n",
    "AAPL['MID_PRICE3'] = (AAPL['BID_PRICE3'] + AAPL['ASK_PRICE3'])/2\n",
    "AAPL['MID_PRICE4'] = (AAPL['BID_PRICE4'] + AAPL['ASK_PRICE4'])/2\n",
    "AAPL['MID_PRICE5'] = (AAPL['BID_PRICE5'] + AAPL['ASK_PRICE5'])/2\n",
    "AAPL['MID_PRICE6'] = (AAPL['BID_PRICE6'] + AAPL['ASK_PRICE6'])/2\n",
    "AAPL['MID_PRICE7'] = (AAPL['BID_PRICE7'] + AAPL['ASK_PRICE7'])/2\n",
    "AAPL['MID_PRICE8'] = (AAPL['BID_PRICE8'] + AAPL['ASK_PRICE8'])/2\n",
    "AAPL['MID_PRICE9'] = (AAPL['BID_PRICE9'] + AAPL['ASK_PRICE9'])/2\n",
    "AAPL['MID_PRICE10'] = (AAPL['BID_PRICE10'] + AAPL['ASK_PRICE10'])/2"
   ]
  },
  {
   "cell_type": "markdown",
   "metadata": {},
   "source": [
    "* price differences\n",
    "$$\\text{Range(ask)}=P^{ask}_{n} - P^{ask}_{1}$$\n",
    "$$\\text{Range(bid)}=P^{bid}_{1} - P^{bid}_{n}$$"
   ]
  },
  {
   "cell_type": "code",
   "execution_count": 7,
   "metadata": {
    "collapsed": true
   },
   "outputs": [],
   "source": [
    "# Range\n",
    "AAPL['ASK_RANGE'] = AAPL.ASK_PRICE10 - AAPL.ASK_PRICE1\n",
    "AAPL['BID_RANGE'] = AAPL.BID_PRICE1 - AAPL.BID_PRICE10\n",
    "\n",
    "# Absolute difference for ask\n",
    "AAPL['ASK21'] = np.absolute(AAPL.ASK_PRICE2 - AAPL.ASK_PRICE1)\n",
    "AAPL['ASK32'] = np.absolute(AAPL.ASK_PRICE3 - AAPL.ASK_PRICE2)\n",
    "AAPL['ASK43'] = np.absolute(AAPL.ASK_PRICE4 - AAPL.ASK_PRICE3)\n",
    "AAPL['ASK54'] = np.absolute(AAPL.ASK_PRICE5 - AAPL.ASK_PRICE4)\n",
    "AAPL['ASK65'] = np.absolute(AAPL.ASK_PRICE6 - AAPL.ASK_PRICE5)\n",
    "AAPL['ASK76'] = np.absolute(AAPL.ASK_PRICE7 - AAPL.ASK_PRICE6)\n",
    "AAPL['ASK87'] = np.absolute(AAPL.ASK_PRICE8 - AAPL.ASK_PRICE7)\n",
    "AAPL['ASK98'] = np.absolute(AAPL.ASK_PRICE9 - AAPL.ASK_PRICE8)\n",
    "AAPL['ASK109'] = np.absolute(AAPL.ASK_PRICE10 - AAPL.ASK_PRICE9)\n",
    "\n",
    "# Absolute difference for bid\n",
    "AAPL['BID21'] = np.absolute(AAPL.BID_PRICE2 - AAPL.BID_PRICE1)\n",
    "AAPL['BID32'] = np.absolute(AAPL.BID_PRICE3 - AAPL.BID_PRICE2)\n",
    "AAPL['BID43'] = np.absolute(AAPL.BID_PRICE4 - AAPL.BID_PRICE3)\n",
    "AAPL['BID54'] = np.absolute(AAPL.BID_PRICE5 - AAPL.BID_PRICE4)\n",
    "AAPL['BID65'] = np.absolute(AAPL.BID_PRICE6 - AAPL.BID_PRICE5)\n",
    "AAPL['BID76'] = np.absolute(AAPL.BID_PRICE7 - AAPL.BID_PRICE6)\n",
    "AAPL['BID87'] = np.absolute(AAPL.BID_PRICE8 - AAPL.BID_PRICE7)\n",
    "AAPL['BID98'] = np.absolute(AAPL.BID_PRICE9 - AAPL.BID_PRICE8)\n",
    "AAPL['BID109'] = np.absolute(AAPL.BID_PRICE10 - AAPL.BID_PRICE9)"
   ]
  },
  {
   "cell_type": "markdown",
   "metadata": {},
   "source": [
    "* mean prices"
   ]
  },
  {
   "cell_type": "code",
   "execution_count": 8,
   "metadata": {
    "collapsed": true
   },
   "outputs": [],
   "source": [
    "# mean bid price\n",
    "AAPL['MEAN_BID_PRICE'] = 0.1*(AAPL['BID_PRICE1'] + AAPL['BID_PRICE2'] + AAPL['BID_PRICE3'] +\n",
    "                              AAPL['BID_PRICE4'] + AAPL['BID_PRICE5'] + AAPL['BID_PRICE6'] +\n",
    "                              AAPL['BID_PRICE7'] + AAPL['BID_PRICE8'] + AAPL['BID_PRICE9'] + AAPL['BID_PRICE10'])\n",
    "\n",
    "# mean ask price\n",
    "AAPL['MEAN_ASK_PRICE'] = 0.1*(AAPL['ASK_PRICE1'] + AAPL['ASK_PRICE2'] + AAPL['ASK_PRICE3'] +\n",
    "                              AAPL['ASK_PRICE4'] + AAPL['ASK_PRICE5'] + AAPL['ASK_PRICE6'] +\n",
    "                              AAPL['ASK_PRICE7'] + AAPL['ASK_PRICE8'] + AAPL['ASK_PRICE9'] + AAPL['ASK_PRICE10'])"
   ]
  },
  {
   "cell_type": "markdown",
   "metadata": {},
   "source": [
    "* mean volumes"
   ]
  },
  {
   "cell_type": "code",
   "execution_count": 9,
   "metadata": {
    "collapsed": true
   },
   "outputs": [],
   "source": [
    "# mean bid volume\n",
    "AAPL['MEAN_BID_SIZE'] = 0.1*(AAPL['BID_SIZE1'] + AAPL['BID_SIZE2'] + AAPL['BID_SIZE3'] +\n",
    "                             AAPL['BID_SIZE4'] + AAPL['BID_SIZE5'] + AAPL['BID_SIZE6'] +\n",
    "                             AAPL['BID_SIZE7'] + AAPL['BID_SIZE8'] + AAPL['BID_SIZE9'] + AAPL['BID_SIZE10'])\n",
    "\n",
    "# mean ask volume\n",
    "AAPL['MEAN_ASK_SIZE'] = 0.1*(AAPL['ASK_SIZE1'] + AAPL['ASK_SIZE2'] + AAPL['ASK_SIZE3'] + \n",
    "                             AAPL['ASK_SIZE4'] + AAPL['ASK_SIZE5'] + AAPL['ASK_SIZE6'] +\n",
    "                             AAPL['ASK_SIZE7'] + AAPL['ASK_SIZE8'] + AAPL['ASK_SIZE9'] + AAPL['ASK_SIZE10'])"
   ]
  },
  {
   "cell_type": "markdown",
   "metadata": {},
   "source": [
    "* accumulated differences"
   ]
  },
  {
   "cell_type": "code",
   "execution_count": 10,
   "metadata": {
    "collapsed": false
   },
   "outputs": [],
   "source": [
    "# Price\n",
    "AAPL['PRICE_ASK_BID'] = (AAPL['SPREAD1'] + AAPL['SPREAD2'] + AAPL['SPREAD3'] + \n",
    "                         AAPL['SPREAD4'] + AAPL['SPREAD5'] + AAPL['SPREAD6'] +\n",
    "                         AAPL['SPREAD7'] + AAPL['SPREAD8'] + AAPL['SPREAD9'] + AAPL['SPREAD10'])\n",
    "\n",
    "# Volume\n",
    "AAPL['SIZE_ASK_BID'] = sum((AAPL.ASK_SIZE1 - AAPL.BID_SIZE1, AAPL.ASK_SIZE2 - AAPL.BID_SIZE2,\n",
    "                            AAPL.ASK_SIZE3 - AAPL.BID_SIZE3, AAPL.ASK_SIZE4 - AAPL.BID_SIZE4,\n",
    "                            AAPL.ASK_SIZE5 - AAPL.BID_SIZE5, AAPL.ASK_SIZE6 - AAPL.BID_SIZE6,\n",
    "                            AAPL.ASK_SIZE7 - AAPL.BID_SIZE7, AAPL.ASK_SIZE8 - AAPL.BID_SIZE8,\n",
    "                            AAPL.ASK_SIZE9 - AAPL.BID_SIZE9, AAPL.ASK_SIZE10 - AAPL.BID_SIZE10))"
   ]
  },
  {
   "cell_type": "markdown",
   "metadata": {},
   "source": [
    "### Time-sensitive Set"
   ]
  },
  {
   "cell_type": "code",
   "execution_count": 11,
   "metadata": {
    "collapsed": false
   },
   "outputs": [],
   "source": [
    "# Create time variable\n",
    "time = np.array([datetime.strptime(time, \"%Y/%m/%d %H:%M:%S.%f\") for time in AAPL['Time']])"
   ]
  },
  {
   "cell_type": "code",
   "execution_count": 12,
   "metadata": {
    "collapsed": false
   },
   "outputs": [],
   "source": [
    "index = np.zeros(len(time))\n",
    "for i in np.arange(len(time)):\n",
    "    j = i\n",
    "    t_standard = time[i] - timedelta(seconds=1)\n",
    "    while t_standard < time[j] or time[j] == time[j - 1]:\n",
    "        if j == 0: break\n",
    "        j = j - 1\n",
    "    index[i] = j"
   ]
  },
  {
   "cell_type": "code",
   "execution_count": 13,
   "metadata": {
    "collapsed": false
   },
   "outputs": [
    {
     "data": {
      "text/plain": [
       "array([datetime.datetime(2012, 5, 22, 9, 30),\n",
       "       datetime.datetime(2012, 5, 22, 9, 30, 0, 3000),\n",
       "       datetime.datetime(2012, 5, 22, 9, 30, 0, 3000)], dtype=object)"
      ]
     },
     "execution_count": 13,
     "metadata": {},
     "output_type": "execute_result"
    }
   ],
   "source": [
    "time[0:3]"
   ]
  },
  {
   "cell_type": "code",
   "execution_count": 14,
   "metadata": {
    "collapsed": false
   },
   "outputs": [
    {
     "data": {
      "text/plain": [
       "datetime.datetime(2012, 5, 22, 9, 30, 1, 5000)"
      ]
     },
     "execution_count": 14,
     "metadata": {},
     "output_type": "execute_result"
    }
   ],
   "source": [
    "time[354]"
   ]
  },
  {
   "cell_type": "code",
   "execution_count": 15,
   "metadata": {
    "collapsed": false
   },
   "outputs": [
    {
     "data": {
      "text/plain": [
       "1.0"
      ]
     },
     "execution_count": 15,
     "metadata": {},
     "output_type": "execute_result"
    }
   ],
   "source": [
    "index[354]"
   ]
  },
  {
   "cell_type": "code",
   "execution_count": 16,
   "metadata": {
    "collapsed": false
   },
   "outputs": [
    {
     "data": {
      "text/plain": [
       "array([datetime.datetime(2012, 5, 22, 9, 30, 1, 1000),\n",
       "       datetime.datetime(2012, 5, 22, 9, 30, 1, 5000),\n",
       "       datetime.datetime(2012, 5, 22, 9, 30, 1, 38000)], dtype=object)"
      ]
     },
     "execution_count": 16,
     "metadata": {},
     "output_type": "execute_result"
    }
   ],
   "source": [
    "time[353:356]"
   ]
  },
  {
   "cell_type": "code",
   "execution_count": 17,
   "metadata": {
    "collapsed": false
   },
   "outputs": [
    {
     "data": {
      "text/plain": [
       "datetime.datetime(2012, 5, 22, 9, 30, 2, 13000)"
      ]
     },
     "execution_count": 17,
     "metadata": {},
     "output_type": "execute_result"
    }
   ],
   "source": [
    "time[378]"
   ]
  },
  {
   "cell_type": "code",
   "execution_count": 18,
   "metadata": {
    "collapsed": false
   },
   "outputs": [
    {
     "data": {
      "text/plain": [
       "354.0"
      ]
     },
     "execution_count": 18,
     "metadata": {},
     "output_type": "execute_result"
    }
   ],
   "source": [
    "index[378]"
   ]
  },
  {
   "cell_type": "code",
   "execution_count": 19,
   "metadata": {
    "collapsed": true
   },
   "outputs": [],
   "source": [
    "def time_derivative(time, price, delta_t=1):\n",
    "    derivative = np.zeros(len(price))\n",
    "    \n",
    "    # Find the index\n",
    "    j = 0\n",
    "    for i in np.arange(len(time)):\n",
    "        j = i\n",
    "        t_standard = time[i] - timedelta(seconds=delta_t)\n",
    "        while t_standard < time[j] or time[j] == time[j - 1]:\n",
    "            if j == 0: break\n",
    "            j = j - 1\n",
    "            \n",
    "        # Once the while loop end the j will be the index of first most recent 1 second\n",
    "        # We can use the index to calculate derivative\n",
    "        derivative[i] = (price[i] - price[j])/(i - j + 1)\n",
    "    \n",
    "    return(derivative)"
   ]
  },
  {
   "cell_type": "markdown",
   "metadata": {},
   "source": [
    "* Price Derivative"
   ]
  },
  {
   "cell_type": "code",
   "execution_count": 20,
   "metadata": {
    "collapsed": false
   },
   "outputs": [],
   "source": [
    "# Bid price derivative\n",
    "AAPL['BID_PDERIV1'] = time_derivative(time, AAPL['BID_PRICE1'])\n",
    "AAPL['BID_PDERIV2'] = time_derivative(time, AAPL['BID_PRICE2'])\n",
    "AAPL['BID_PDERIV3'] = time_derivative(time, AAPL['BID_PRICE3'])\n",
    "AAPL['BID_PDERIV4'] = time_derivative(time, AAPL['BID_PRICE4'])\n",
    "AAPL['BID_PDERIV5'] = time_derivative(time, AAPL['BID_PRICE5'])\n",
    "AAPL['BID_PDERIV6'] = time_derivative(time, AAPL['BID_PRICE6'])\n",
    "AAPL['BID_PDERIV7'] = time_derivative(time, AAPL['BID_PRICE7'])\n",
    "AAPL['BID_PDERIV8'] = time_derivative(time, AAPL['BID_PRICE8'])\n",
    "AAPL['BID_PDERIV9'] = time_derivative(time, AAPL['BID_PRICE9'])\n",
    "AAPL['BID_PDERIV10'] = time_derivative(time, AAPL['BID_PRICE10'])\n",
    "\n",
    "# Ask price derivative\n",
    "AAPL['ASK_PDERIV1'] = time_derivative(time, AAPL['ASK_PRICE1'])\n",
    "AAPL['ASK_PDERIV2'] = time_derivative(time, AAPL['ASK_PRICE2'])\n",
    "AAPL['ASK_PDERIV3'] = time_derivative(time, AAPL['ASK_PRICE3'])\n",
    "AAPL['ASK_PDERIV4'] = time_derivative(time, AAPL['ASK_PRICE4'])\n",
    "AAPL['ASK_PDERIV5'] = time_derivative(time, AAPL['ASK_PRICE5'])\n",
    "AAPL['ASK_PDERIV6'] = time_derivative(time, AAPL['ASK_PRICE6'])\n",
    "AAPL['ASK_PDERIV7'] = time_derivative(time, AAPL['ASK_PRICE7'])\n",
    "AAPL['ASK_PDERIV8'] = time_derivative(time, AAPL['ASK_PRICE8'])\n",
    "AAPL['ASK_PDERIV9'] = time_derivative(time, AAPL['ASK_PRICE9'])\n",
    "AAPL['ASK_PDERIV10'] = time_derivative(time, AAPL['ASK_PRICE10'])"
   ]
  },
  {
   "cell_type": "markdown",
   "metadata": {},
   "source": [
    "* Volume Derivative"
   ]
  },
  {
   "cell_type": "code",
   "execution_count": 21,
   "metadata": {
    "collapsed": true
   },
   "outputs": [],
   "source": [
    "# Bid volume derivative\n",
    "AAPL['BID_SDERIV1'] = time_derivative(time, AAPL['BID_SIZE1'])\n",
    "AAPL['BID_SDERIV2'] = time_derivative(time, AAPL['BID_SIZE2'])\n",
    "AAPL['BID_SDERIV3'] = time_derivative(time, AAPL['BID_SIZE3'])\n",
    "AAPL['BID_SDERIV4'] = time_derivative(time, AAPL['BID_SIZE4'])\n",
    "AAPL['BID_SDERIV5'] = time_derivative(time, AAPL['BID_SIZE5'])\n",
    "AAPL['BID_SDERIV6'] = time_derivative(time, AAPL['BID_SIZE6'])\n",
    "AAPL['BID_SDERIV7'] = time_derivative(time, AAPL['BID_SIZE7'])\n",
    "AAPL['BID_SDERIV8'] = time_derivative(time, AAPL['BID_SIZE8'])\n",
    "AAPL['BID_SDERIV9'] = time_derivative(time, AAPL['BID_SIZE9'])\n",
    "AAPL['BID_SDERIV10'] = time_derivative(time, AAPL['BID_SIZE10'])\n",
    "\n",
    "# Ask volume derivative\n",
    "AAPL['ASK_SDERIV1'] = time_derivative(time, AAPL['ASK_SIZE1'])\n",
    "AAPL['ASK_SDERIV2'] = time_derivative(time, AAPL['ASK_SIZE2'])\n",
    "AAPL['ASK_SDERIV3'] = time_derivative(time, AAPL['ASK_SIZE3'])\n",
    "AAPL['ASK_SDERIV4'] = time_derivative(time, AAPL['ASK_SIZE4'])\n",
    "AAPL['ASK_SDERIV5'] = time_derivative(time, AAPL['ASK_SIZE5'])\n",
    "AAPL['ASK_SDERIV6'] = time_derivative(time, AAPL['ASK_SIZE6'])\n",
    "AAPL['ASK_SDERIV7'] = time_derivative(time, AAPL['ASK_SIZE7'])\n",
    "AAPL['ASK_SDERIV8'] = time_derivative(time, AAPL['ASK_SIZE8'])\n",
    "AAPL['ASK_SDERIV9'] = time_derivative(time, AAPL['ASK_SIZE9'])\n",
    "AAPL['ASK_SDERIV10'] = time_derivative(time, AAPL['ASK_SIZE10'])"
   ]
  },
  {
   "cell_type": "markdown",
   "metadata": {},
   "source": [
    "### Independent variable:\n",
    "* mid-price movement"
   ]
  },
  {
   "cell_type": "code",
   "execution_count": 22,
   "metadata": {
    "collapsed": true
   },
   "outputs": [],
   "source": [
    "def midprice_movement(mid, delta_t):\n",
    "    mid_diff = mid.diff(periods=delta_t)[delta_t:].ravel()\n",
    "    mid_diff = np.append(mid_diff, np.array(np.nan).repeat(delta_t))\n",
    "    \n",
    "    mid_movement = (mid_diff > 0)*1 + (mid_diff < 0)*-1\n",
    "    mid_movement = mid_movement.astype('float')\n",
    "    mid_movement[-delta_t:] = np.nan\n",
    "    \n",
    "    # Change to pandas series and transform to categorical data\n",
    "    mid_movement = pd.Series(pd.Categorical(mid_movement, categories=[-1, 0, 1]))\n",
    "    \n",
    "    # Change label\n",
    "    mid_movement.cat.categories = ['down', 'stationary', 'up']\n",
    "    \n",
    "    return(mid_movement)"
   ]
  },
  {
   "cell_type": "code",
   "execution_count": 23,
   "metadata": {
    "collapsed": false
   },
   "outputs": [],
   "source": [
    "# Create mid-price movement\n",
    "AAPL['MID_MOVEMENT'] = midprice_movement(AAPL['MID_PRICE1'], 10)"
   ]
  },
  {
   "cell_type": "code",
   "execution_count": 24,
   "metadata": {
    "collapsed": false
   },
   "outputs": [
    {
     "data": {
      "text/plain": [
       "stationary    120244\n",
       "down          110049\n",
       "up            102370\n",
       "dtype: int64"
      ]
     },
     "execution_count": 24,
     "metadata": {},
     "output_type": "execute_result"
    }
   ],
   "source": [
    "AAPL['MID_MOVEMENT'].value_counts()"
   ]
  },
  {
   "cell_type": "markdown",
   "metadata": {},
   "source": [
    "* bid-ask spread crossing    \n",
    "\n",
    "For bid-ask spread crossing, we have to consider three scenarios:\n",
    "1. An __upward__ price spread crossing occurs when the best bid price at $t+\\Delta t$ exceeds the best ask price at time $t$ $\\Rightarrow$ $P^{bid}_{t + \\Delta t} > P^{ask}_{t}$ \n",
    "2. A __downward__ price spread crossing happens when the best ask price at $t+\\Delta t$ is less than the best bid price at time $t$ $\\Rightarrow$ $P^{ask}_{t + \\Delta t} < P^{bid}_{t}$ \n",
    "3. No price spread crossing takes place if $P^{ask}_{t + \\Delta t} \\leq P^{bid}_{t}$ and $P^{bid}_{t + \\Delta t} \\geq P^{ask}_{t}$ "
   ]
  },
  {
   "cell_type": "code",
   "execution_count": 25,
   "metadata": {
    "collapsed": true
   },
   "outputs": [],
   "source": [
    "def spread_crossing(bid, ask, delta_t):\n",
    "    # shifted bid (append nan at the last)\n",
    "    bid_shift = np.append(bid[delta_t:], np.array(np.nan).repeat(delta_t))\n",
    "    ask_shift = np.append(ask[delta_t:], np.array(np.nan).repeat(delta_t))\n",
    "    \n",
    "    # Determine up or down\n",
    "    spread = (bid_shift > ask)*1 + (ask_shift < bid)*-1\n",
    "    spread = spread.astype('float')\n",
    "    spread[-delta_t:] = np.nan\n",
    "    \n",
    "    # Change to pandas series and transform to categorical data\n",
    "    spread = pd.Series(pd.Categorical(spread, categories=[-1, 0, 1]))\n",
    "\n",
    "    # Change label\n",
    "    spread.cat.categories = ['down', 'stationary', 'up']\n",
    "    \n",
    "    return(spread)"
   ]
  },
  {
   "cell_type": "code",
   "execution_count": 26,
   "metadata": {
    "collapsed": true
   },
   "outputs": [],
   "source": [
    "# Create spread crossing movement\n",
    "AAPL['SPREAD_CROSSING'] = spread_crossing(AAPL['BID_PRICE1'], AAPL['ASK_PRICE1'], 1000)"
   ]
  },
  {
   "cell_type": "code",
   "execution_count": 27,
   "metadata": {
    "collapsed": false
   },
   "outputs": [
    {
     "data": {
      "text/plain": [
       "stationary    123000\n",
       "down          112585\n",
       "up             96088\n",
       "dtype: int64"
      ]
     },
     "execution_count": 27,
     "metadata": {},
     "output_type": "execute_result"
    }
   ],
   "source": [
    "AAPL['SPREAD_CROSSING'].value_counts()"
   ]
  },
  {
   "cell_type": "markdown",
   "metadata": {},
   "source": [
    "### First (before 11:00) vs. Second (after 11:00)"
   ]
  },
  {
   "cell_type": "code",
   "execution_count": 28,
   "metadata": {
    "collapsed": false
   },
   "outputs": [],
   "source": [
    "# Separate time by 11:00\n",
    "first_index = time < datetime(2012, 5, 22, 11, 0)\n",
    "\n",
    "# Separate training and testing set\n",
    "first = AAPL.iloc[first_index]\n",
    "second = AAPL.iloc[np.logical_not(first_index)]"
   ]
  },
  {
   "cell_type": "code",
   "execution_count": 29,
   "metadata": {
    "collapsed": false
   },
   "outputs": [
    {
     "data": {
      "text/plain": [
       "(203349, 150)"
      ]
     },
     "execution_count": 29,
     "metadata": {},
     "output_type": "execute_result"
    }
   ],
   "source": [
    "first.shape"
   ]
  },
  {
   "cell_type": "code",
   "execution_count": 30,
   "metadata": {
    "collapsed": false
   },
   "outputs": [
    {
     "data": {
      "text/plain": [
       "(129324, 150)"
      ]
     },
     "execution_count": 30,
     "metadata": {},
     "output_type": "execute_result"
    }
   ],
   "source": [
    "second.shape"
   ]
  },
  {
   "cell_type": "markdown",
   "metadata": {},
   "source": [
    "### Train, Validation and Test"
   ]
  },
  {
   "cell_type": "code",
   "execution_count": 31,
   "metadata": {
    "collapsed": false
   },
   "outputs": [],
   "source": [
    "index = np.arange(first.shape[0])\n",
    "np.random.seed(0)\n",
    "# Shuffle the index and separate the data into train(50%), validation(25%), and test(25%) set.\n",
    "np.random.shuffle(index)\n",
    "\n",
    "train = first.iloc[index[0:101675]]\n",
    "validation = first.iloc[index[101675:152512]]\n",
    "test = first.iloc[index[152512:]]"
   ]
  },
  {
   "cell_type": "code",
   "execution_count": 36,
   "metadata": {
    "collapsed": false
   },
   "outputs": [
    {
     "data": {
      "text/plain": [
       "(101675, 150)"
      ]
     },
     "execution_count": 36,
     "metadata": {},
     "output_type": "execute_result"
    }
   ],
   "source": [
    "train.shape"
   ]
  },
  {
   "cell_type": "code",
   "execution_count": 37,
   "metadata": {
    "collapsed": false
   },
   "outputs": [
    {
     "data": {
      "text/plain": [
       "(50837, 150)"
      ]
     },
     "execution_count": 37,
     "metadata": {},
     "output_type": "execute_result"
    }
   ],
   "source": [
    "validation.shape"
   ]
  },
  {
   "cell_type": "code",
   "execution_count": 38,
   "metadata": {
    "collapsed": false
   },
   "outputs": [
    {
     "data": {
      "text/plain": [
       "(50837, 150)"
      ]
     },
     "execution_count": 38,
     "metadata": {},
     "output_type": "execute_result"
    }
   ],
   "source": [
    "test.shape"
   ]
  },
  {
   "cell_type": "code",
   "execution_count": 32,
   "metadata": {
    "collapsed": false
   },
   "outputs": [],
   "source": [
    "# Pull out the column name in x\n",
    "r_not_x = re.compile('TIME|INDEX|MID_MOVEMENT|SPREAD_CROSSING')\n",
    "col_in_x = [not bool(r_not_x.search(col.upper())) for col in AAPL.columns]"
   ]
  },
  {
   "cell_type": "code",
   "execution_count": 33,
   "metadata": {
    "collapsed": true
   },
   "outputs": [],
   "source": [
    "# Separate X, y1(midprice), y2(spreadcrossing)\n",
    "X_train = train.iloc[:, col_in_x]\n",
    "y1_train = train['MID_MOVEMENT']\n",
    "y2_train = train['SPREAD_CROSSING']\n",
    "\n",
    "X_validation = validation.iloc[:, col_in_x]\n",
    "y1_validation = validation['MID_MOVEMENT']\n",
    "y2_validation = validation['SPREAD_CROSSING']\n",
    "\n",
    "X_test = test.iloc[:, col_in_x]\n",
    "y1_test = test['MID_MOVEMENT']\n",
    "y2_test = test['SPREAD_CROSSING']"
   ]
  },
  {
   "cell_type": "markdown",
   "metadata": {},
   "source": [
    "### Mid-price Movement"
   ]
  },
  {
   "cell_type": "markdown",
   "metadata": {},
   "source": [
    "### SVM"
   ]
  },
  {
   "cell_type": "code",
   "execution_count": null,
   "metadata": {
    "collapsed": false
   },
   "outputs": [
    {
     "name": "stdout",
     "output_type": "stream",
     "text": [
      "Start to fit the model with C = 100.0 and gamma = 1e-07\n"
     ]
    }
   ],
   "source": [
    "C_range = 10.0**np.arange(2, 5, 1)\n",
    "gamma_range = 10.0**np.arange(-7, -2, 1)\n",
    "\n",
    "# Validation\n",
    "V = []\n",
    "for C in C_range:\n",
    "    for gamma in gamma_range:\n",
    "        print('Start to fit the model with C =', str(C), 'and gamma =', str(gamma))\n",
    "        clf = svm.SVC(C=C, gamma=gamma)\n",
    "        clf.fit(X_train, y1_train)\n",
    "        prediction = clf.predict(X_validation)\n",
    "        accuracy = np.mean(prediction == y1_validation)\n",
    "        print(accuracy)\n",
    "        V.append([C, gamma, accuracy])"
   ]
  },
  {
   "cell_type": "code",
   "execution_count": 63,
   "metadata": {
    "collapsed": false
   },
   "outputs": [
    {
     "data": {
      "text/plain": [
       "[[100.0, 1e-08, 0.37787066633882471],\n",
       " [100.0, 9.9999999999999995e-08, 0.40821244160314729],\n",
       " [100.0, 9.9999999999999995e-07, 0.43343988197688715],\n",
       " [100.0, 1.0000000000000001e-05, 0.44234079173838209],\n",
       " [100.0, 0.0001, 0.39818047701008114],\n",
       " [100.0, 0.001, 0.36198672239980328],\n",
       " [100.0, 0.01, 0.35746250307351857],\n",
       " [1000.0, 1e-08, 0.39350872879272192],\n",
       " [1000.0, 9.9999999999999995e-08, 0.41671994098844356],\n",
       " [1000.0, 9.9999999999999995e-07, 0.43117777231374477],\n",
       " [1000.0, 1.0000000000000001e-05, 0.44229161544135726],\n",
       " [1000.0, 0.0001, 0.39837718219818047],\n",
       " [1000.0, 0.001, 0.36203589869682812],\n",
       " [1000.0, 0.01, 0.35746250307351857],\n",
       " [10000.0, 1e-08, 0.40142611261372019],\n",
       " [10000.0, 9.9999999999999995e-08, 0.41917875583968528],\n",
       " [10000.0, 9.9999999999999995e-07, 0.42999754118514877],\n",
       " [10000.0, 1.0000000000000001e-05, 0.44298008359970492],\n",
       " [10000.0, 0.0001, 0.39847553479223013],\n",
       " [10000.0, 0.001, 0.36203589869682812],\n",
       " [10000.0, 0.01, 0.3575116793705434]]"
      ]
     },
     "execution_count": 63,
     "metadata": {},
     "output_type": "execute_result"
    }
   ],
   "source": [
    "V"
   ]
  },
  {
   "cell_type": "markdown",
   "metadata": {},
   "source": [
    "### Random Forest"
   ]
  },
  {
   "cell_type": "code",
   "execution_count": 38,
   "metadata": {
    "collapsed": false
   },
   "outputs": [
    {
     "name": "stdout",
     "output_type": "stream",
     "text": [
      "Start to fit the model with number of tree = 100 and number of features = sqrt\n",
      "0.818813069221\n",
      "Start to fit the model with number of tree = 100 and number of features = log2\n",
      "0.816885339418\n",
      "Start to fit the model with number of tree = 200 and number of features = sqrt\n",
      "0.820190019081\n",
      "Start to fit the model with number of tree = 200 and number of features = log2\n",
      "0.820052324095\n",
      "Start to fit the model with number of tree = 300 and number of features = sqrt\n",
      "0.8207014576\n",
      "Start to fit the model with number of tree = 300 and number of features = log2\n",
      "0.821389932529\n",
      "Start to fit the model with number of tree = 400 and number of features = sqrt\n",
      "0.822275114582\n",
      "Start to fit the model with number of tree = 400 and number of features = log2\n",
      "0.820544091902\n",
      "Start to fit the model with number of tree = 500 and number of features = sqrt\n",
      "0.822609516691\n",
      "Start to fit the model with number of tree = 500 and number of features = log2\n",
      "0.820406396916\n"
     ]
    }
   ],
   "source": [
    "# Takes about 50 mins\n",
    "# Parameters\n",
    "ns_tree = [100, 200, 300, 400, 500]\n",
    "ns_features = ['sqrt', 'log2']\n",
    "\n",
    "V = []\n",
    "for n in ns_tree:\n",
    "    for m in ns_features:\n",
    "        print('Start to fit the model with number of tree =', str(n), 'and number of features =', str(m))\n",
    "        rf_clf = RandomForestClassifier(n_estimators=n, max_features=m)\n",
    "        rf_clf.fit(X_train, y1_train)\n",
    "        prediction = rf_clf.predict(X_validation)\n",
    "        accuracy = np.mean(prediction == y1_validation)\n",
    "        print(accuracy)\n",
    "        V.append([n, m, accuracy])"
   ]
  },
  {
   "cell_type": "code",
   "execution_count": 39,
   "metadata": {
    "collapsed": false
   },
   "outputs": [
    {
     "data": {
      "text/plain": [
       "[[100, 'sqrt', 0.81881306922123653],\n",
       " [100, 'log2', 0.81688533941814034],\n",
       " [200, 'sqrt', 0.82019001908059086],\n",
       " [200, 'log2', 0.82005232409465545],\n",
       " [300, 'sqrt', 0.82070145759977964],\n",
       " [300, 'log2', 0.82138993252945691],\n",
       " [400, 'sqrt', 0.82227511458189906],\n",
       " [400, 'log2', 0.82054409190156774],\n",
       " [500, 'sqrt', 0.82260951669059934],\n",
       " [500, 'log2', 0.82040639691563233]]"
      ]
     },
     "execution_count": 39,
     "metadata": {},
     "output_type": "execute_result"
    }
   ],
   "source": [
    "V"
   ]
  },
  {
   "cell_type": "markdown",
   "metadata": {},
   "source": [
    "### Spread Crossing"
   ]
  },
  {
   "cell_type": "markdown",
   "metadata": {},
   "source": [
    "### SVM"
   ]
  },
  {
   "cell_type": "code",
   "execution_count": null,
   "metadata": {
    "collapsed": true
   },
   "outputs": [],
   "source": [
    "clf = svm.SVC(C=, gamma=gamma)\n",
    "clf.fit(X_train, y1_train)"
   ]
  },
  {
   "cell_type": "markdown",
   "metadata": {},
   "source": [
    "### Random Forest"
   ]
  },
  {
   "cell_type": "code",
   "execution_count": 37,
   "metadata": {
    "collapsed": false
   },
   "outputs": [
    {
     "name": "stdout",
     "output_type": "stream",
     "text": [
      "Start to fit the model with number of tree = 100 and number of features = sqrt\n",
      "0.979581800657\n",
      "Start to fit the model with number of tree = 100 and number of features = log2\n",
      "0.978853984303\n",
      "Start to fit the model with number of tree = 200 and number of features = sqrt\n",
      "0.980132580601\n",
      "Start to fit the model with number of tree = 200 and number of features = log2\n",
      "0.979444105671\n",
      "Start to fit the model with number of tree = 300 and number of features = sqrt\n",
      "0.979896532053\n",
      "Start to fit the model with number of tree = 300 and number of features = log2\n",
      "0.979621142082\n",
      "Start to fit the model with number of tree = 400 and number of features = sqrt\n",
      "0.98038829986\n",
      "Start to fit the model with number of tree = 400 and number of features = log2\n",
      "0.979503117808\n",
      "Start to fit the model with number of tree = 500 and number of features = sqrt\n",
      "0.980407970573\n",
      "Start to fit the model with number of tree = 500 and number of features = log2\n",
      "0.979837519917\n"
     ]
    }
   ],
   "source": [
    "# Takes about 50 mins\n",
    "# Parameters\n",
    "ns_tree = [100, 200, 300, 400, 500]\n",
    "ns_features = ['sqrt', 'log2']\n",
    "\n",
    "V = []\n",
    "for n in ns_tree:\n",
    "    for m in ns_features:\n",
    "        print('Start to fit the model with number of tree =', str(n), 'and number of features =', str(m))\n",
    "        rf_clf = RandomForestClassifier(n_estimators=n, max_features=m)\n",
    "        rf_clf.fit(X_train, y2_train)\n",
    "        prediction = rf_clf.predict(X_validation)\n",
    "        accuracy = np.mean(prediction == y2_validation)\n",
    "        print(accuracy)\n",
    "        V.append([n, m, accuracy])"
   ]
  },
  {
   "cell_type": "markdown",
   "metadata": {},
   "source": [
    "* [sklearn: Ensemble methods](http://scikit-learn.org/stable/modules/ensemble.html)\n",
    "* [sklearn: Random Forest](http://scikit-learn.org/stable/modules/generated/sklearn.ensemble.RandomForestClassifier.html)\n",
    "* [sklearn: SVM](http://scikit-learn.org/stable/modules/svm.html)"
   ]
  },
  {
   "cell_type": "markdown",
   "metadata": {},
   "source": [
    "# Strategy and Profit"
   ]
  },
  {
   "cell_type": "code",
   "execution_count": 36,
   "metadata": {
    "collapsed": true
   },
   "outputs": [],
   "source": [
    "delta_t = 1000"
   ]
  },
  {
   "cell_type": "markdown",
   "metadata": {},
   "source": [
    "## SVM"
   ]
  },
  {
   "cell_type": "code",
   "execution_count": 46,
   "metadata": {
    "collapsed": false
   },
   "outputs": [
    {
     "data": {
      "text/plain": [
       "SVC(C=100, cache_size=200, class_weight=None, coef0=0.0,\n",
       "  decision_function_shape=None, degree=3, gamma=1e-06, kernel='rbf',\n",
       "  max_iter=-1, probability=False, random_state=None, shrinking=True,\n",
       "  tol=0.001, verbose=False)"
      ]
     },
     "execution_count": 46,
     "metadata": {},
     "output_type": "execute_result"
    }
   ],
   "source": [
    "clf = svm.SVC(C=100, gamma=1e-6)\n",
    "clf.fit(X_train[:10000], y2_train[:10000])"
   ]
  },
  {
   "cell_type": "code",
   "execution_count": 47,
   "metadata": {
    "collapsed": true
   },
   "outputs": [],
   "source": [
    "n_obs = second.shape[0] - delta_t\n",
    "pre_spread_crossing_svm = clf.predict(second.iloc[:n_obs, col_in_x])\n",
    "pre_spread_crossing_svm = np.append(pre_spread_crossing_svm,np.repeat(np.nan, delta_t))\n",
    "\n",
    "pre_spread_crossing_svm = pd.Series(pre_spread_crossing_svm)\n",
    "\n",
    "#second.spread_crossing_svm = pre_spread_crossing_svm"
   ]
  },
  {
   "cell_type": "code",
   "execution_count": 50,
   "metadata": {
    "collapsed": false
   },
   "outputs": [
    {
     "data": {
      "text/plain": [
       "129324"
      ]
     },
     "execution_count": 50,
     "metadata": {},
     "output_type": "execute_result"
    }
   ],
   "source": [
    "pre_spread_crossing_svm.shape[0]"
   ]
  },
  {
   "cell_type": "code",
   "execution_count": 48,
   "metadata": {
    "collapsed": false
   },
   "outputs": [
    {
     "data": {
      "text/plain": [
       "array([[12163, 15865, 11949],\n",
       "       [17774, 21250, 14534],\n",
       "       [11091, 13409, 10289]])"
      ]
     },
     "execution_count": 48,
     "metadata": {},
     "output_type": "execute_result"
    }
   ],
   "source": [
    "confusion_matrix(pre_spread_crossing_svm[:128324], second.SPREAD_CROSSING[:128324])"
   ]
  },
  {
   "cell_type": "markdown",
   "metadata": {},
   "source": [
    "## Random Forest"
   ]
  },
  {
   "cell_type": "code",
   "execution_count": 209,
   "metadata": {
    "collapsed": false
   },
   "outputs": [
    {
     "data": {
      "text/plain": [
       "RandomForestClassifier(bootstrap=True, class_weight=None, criterion='gini',\n",
       "            max_depth=None, max_features='sqrt', max_leaf_nodes=None,\n",
       "            min_samples_leaf=1, min_samples_split=2,\n",
       "            min_weight_fraction_leaf=0.0, n_estimators=100, n_jobs=1,\n",
       "            oob_score=False, random_state=None, verbose=0,\n",
       "            warm_start=False)"
      ]
     },
     "execution_count": 209,
     "metadata": {},
     "output_type": "execute_result"
    }
   ],
   "source": [
    "n_tree = 100\n",
    "m='sqrt'\n",
    "rf_clf = RandomForestClassifier(n_estimators=n_tree, max_features=m)\n",
    "rf_clf.fit(first.iloc[:, col_in_x], first.SPREAD_CROSSING)"
   ]
  },
  {
   "cell_type": "code",
   "execution_count": 212,
   "metadata": {
    "collapsed": false
   },
   "outputs": [],
   "source": [
    "#predit and put the label in second RANDOM FOREST\n",
    "n_obs = second.shape[0] - delta_t\n",
    "pre_SPREAD_CROSSING_rf = rf_clf.predict(second.iloc[:n_obs, col_in_x])\n",
    "#pre_SPREAD_CROSSING = np.append(pre_SPREAD_CROSSING,np.repeat(np.nan, delta_t))\n",
    "\n",
    "pre_SPREAD_CROSSING_rf = pd.Series(pre_SPREAD_CROSSING_rf)\n",
    "\n",
    "#second.spread_crossing = pre_SPREAD_CROSSING"
   ]
  },
  {
   "cell_type": "code",
   "execution_count": 213,
   "metadata": {
    "collapsed": false
   },
   "outputs": [
    {
     "data": {
      "text/plain": [
       "((129324, 150), (128324,))"
      ]
     },
     "execution_count": 213,
     "metadata": {},
     "output_type": "execute_result"
    }
   ],
   "source": [
    "second.shape, pre_SPREAD_CROSSING_rf.shape"
   ]
  },
  {
   "cell_type": "code",
   "execution_count": 166,
   "metadata": {
    "collapsed": false
   },
   "outputs": [
    {
     "data": {
      "text/plain": [
       "array([[ 8345, 14556,  7974],\n",
       "       [ 9007, 10003,  5724],\n",
       "       [23676, 25965, 23074]])"
      ]
     },
     "execution_count": 166,
     "metadata": {},
     "output_type": "execute_result"
    }
   ],
   "source": [
    "confusion_matrix(pre_SPREAD_CROSSING[:128324], second.SPREAD_CROSSING[:128324])"
   ]
  },
  {
   "cell_type": "markdown",
   "metadata": {},
   "source": [
    "## Compute profit"
   ]
  },
  {
   "cell_type": "code",
   "execution_count": 220,
   "metadata": {
    "collapsed": true
   },
   "outputs": [],
   "source": [
    "def compute_profit(pre, delta_t):\n",
    "    \n",
    "    profit = pd.Series(np.repeat(np.nan,pre.shape[0]))\n",
    "    \n",
    "    for i in range(pre.shape[0]):\n",
    "        if pre.iloc[i] == 'up':\n",
    "            profit[i] = second.iloc[i+delta_t].loc['BID_PRICE1'] - second.iloc[i].loc['ASK_PRICE1'] \n",
    "        elif pre.iloc[i] =='down':\n",
    "            profit[i] = second.iloc[i].loc['BID_PRICE1'] - second.iloc[i+delta_t].loc['ASK_PRICE1'] \n",
    "        elif pre.iloc[i] == 'stationary':\n",
    "            profit[i] = 0\n",
    "    \n",
    "    return profit"
   ]
  },
  {
   "cell_type": "markdown",
   "metadata": {},
   "source": [
    "## profit for svm"
   ]
  },
  {
   "cell_type": "code",
   "execution_count": null,
   "metadata": {
    "collapsed": true
   },
   "outputs": [],
   "source": []
  },
  {
   "cell_type": "code",
   "execution_count": 54,
   "metadata": {
    "collapsed": false
   },
   "outputs": [],
   "source": [
    "profit_svm = compute_profit(pre_spread_crossing_svm, delta_t)\n",
    "\n",
    "total_profit_svm = np.nansum(profit)\n",
    "\n",
    "total_profit_svm# -14000"
   ]
  },
  {
   "cell_type": "markdown",
   "metadata": {},
   "source": [
    "## profit for rf"
   ]
  },
  {
   "cell_type": "code",
   "execution_count": 222,
   "metadata": {
    "collapsed": false
   },
   "outputs": [
    {
     "data": {
      "text/plain": [
       "-18491.040000000103"
      ]
     },
     "execution_count": 222,
     "metadata": {},
     "output_type": "execute_result"
    }
   ],
   "source": [
    "profit_random_forest = compute_profit(pre_SPREAD_CROSSING_rf, delta_t)\n",
    "\n",
    "total_profit_random_forest = np.nansum(profit_random_forest)\n",
    "total_profit_random_forest"
   ]
  },
  {
   "cell_type": "code",
   "execution_count": null,
   "metadata": {
    "collapsed": true
   },
   "outputs": [],
   "source": [
    "total_profit_random_forest"
   ]
  },
  {
   "cell_type": "code",
   "execution_count": 223,
   "metadata": {
    "collapsed": false
   },
   "outputs": [
    {
     "data": {
      "text/plain": [
       "(array([   410.,   2771.,   8596.,  18014.,  23063.,  56003.,  12117.,\n",
       "          5976.,   1202.,    172.]),\n",
       " array([-1.31 , -1.076, -0.842, -0.608, -0.374, -0.14 ,  0.094,  0.328,\n",
       "         0.562,  0.796,  1.03 ]),\n",
       " <a list of 10 Patch objects>)"
      ]
     },
     "execution_count": 223,
     "metadata": {},
     "output_type": "execute_result"
    },
    {
     "data": {
      "image/png": "[encoded data removed]",
      "text/plain": [
       "<matplotlib.figure.Figure at 0x10e194310>"
      ]
     },
     "metadata": {},
     "output_type": "display_data"
    }
   ],
   "source": [
    "plt.hist(profit_random_forest)"
   ]
  },
  {
   "cell_type": "markdown",
   "metadata": {},
   "source": [
    "## true profit"
   ]
  },
  {
   "cell_type": "code",
   "execution_count": 225,
   "metadata": {
    "collapsed": false
   },
   "outputs": [
    {
     "data": {
      "text/plain": [
       "19541.120000001905"
      ]
     },
     "execution_count": 225,
     "metadata": {},
     "output_type": "execute_result"
    }
   ],
   "source": [
    "profit_true = compute_profit(second.SPREAD_CROSSING[:128324], delta_t=1000)\n",
    "np.sum(profit_true)"
   ]
  },
  {
   "cell_type": "code",
   "execution_count": null,
   "metadata": {
    "collapsed": true
   },
   "outputs": [],
   "source": []
  },
  {
   "cell_type": "markdown",
   "metadata": {},
   "source": [
    "# logistic "
   ]
  },
  {
   "cell_type": "markdown",
   "metadata": {},
   "source": [
    "### ratio"
   ]
  },
  {
   "cell_type": "code",
   "execution_count": 130,
   "metadata": {
    "collapsed": false
   },
   "outputs": [],
   "source": [
    "ratio = (X_train.ASK_PRICE1 + X_train.ASK_PRICE2 + X_train.ASK_PRICE3 + X_train.ASK_PRICE4 + X_train.ASK_PRICE5)*1.0/(X_train.BID_PRICE1 + X_train.BID_PRICE2 + X_train.BID_PRICE3 + X_train.BID_PRICE4 + X_train.BID_PRICE5)"
   ]
  },
  {
   "cell_type": "code",
   "execution_count": 144,
   "metadata": {
    "collapsed": false
   },
   "outputs": [
    {
     "name": "stderr",
     "output_type": "stream",
     "text": [
      "/Users/wyshi/anaconda/lib/python2.7/site-packages/ipykernel/__main__.py:1: SettingWithCopyWarning: \n",
      "A value is trying to be set on a copy of a slice from a DataFrame.\n",
      "Try using .loc[row_indexer,col_indexer] = value instead\n",
      "\n",
      "See the the caveats in the documentation: http://pandas.pydata.org/pandas-docs/stable/indexing.html#indexing-view-versus-copy\n",
      "  if __name__ == '__main__':\n"
     ]
    }
   ],
   "source": [
    "X_train['ratio'] = ratio"
   ]
  },
  {
   "cell_type": "code",
   "execution_count": 152,
   "metadata": {
    "collapsed": false
   },
   "outputs": [
    {
     "data": {
      "text/plain": [
       "Index([u'BID_PRICE1', u'BID_SIZE1', u'ASK_PRICE1', u'ASK_SIZE1', u'BID_PRICE2',\n",
       "       u'BID_SIZE2', u'ASK_PRICE2', u'ASK_SIZE2', u'BID_PRICE3', u'BID_SIZE3', \n",
       "       ...\n",
       "       u'ASK_SDERIV2', u'ASK_SDERIV3', u'ASK_SDERIV4', u'ASK_SDERIV5',\n",
       "       u'ASK_SDERIV6', u'ASK_SDERIV7', u'ASK_SDERIV8', u'ASK_SDERIV9',\n",
       "       u'ASK_SDERIV10', u'ratio'],\n",
       "      dtype='object', length=127)"
      ]
     },
     "execution_count": 152,
     "metadata": {},
     "output_type": "execute_result"
    }
   ],
   "source": [
    "X_train.columns"
   ]
  },
  {
   "cell_type": "code",
   "execution_count": 153,
   "metadata": {
    "collapsed": false
   },
   "outputs": [
    {
     "data": {
      "text/plain": [
       "LogisticRegression(C=100000.0, class_weight=None, dual=False,\n",
       "          fit_intercept=True, intercept_scaling=1, max_iter=100,\n",
       "          multi_class='ovr', n_jobs=1, penalty='l2', random_state=None,\n",
       "          solver='liblinear', tol=0.0001, verbose=0, warm_start=False)"
      ]
     },
     "execution_count": 153,
     "metadata": {},
     "output_type": "execute_result"
    }
   ],
   "source": [
    "from sklearn import linear_model, datasets\n",
    "logreg = linear_model.LogisticRegression(C=1e5)\n",
    "\n",
    "logreg.fit(X_train[:10000], y2_train[:10000])\n",
    "\n"
   ]
  },
  {
   "cell_type": "code",
   "execution_count": 160,
   "metadata": {
    "collapsed": false
   },
   "outputs": [
    {
     "data": {
      "text/plain": [
       "array([-0.05396377,  0.01435427,  0.00490451])"
      ]
     },
     "execution_count": 160,
     "metadata": {},
     "output_type": "execute_result"
    }
   ],
   "source": [
    "logreg.coef_[:,126]"
   ]
  },
  {
   "cell_type": "code",
   "execution_count": 81,
   "metadata": {
    "collapsed": false
   },
   "outputs": [],
   "source": [
    "y2_pre_log = logreg.predict(X_validation)"
   ]
  },
  {
   "cell_type": "code",
   "execution_count": 82,
   "metadata": {
    "collapsed": false
   },
   "outputs": [
    {
     "data": {
      "text/plain": [
       "0.40425280799417745"
      ]
     },
     "execution_count": 82,
     "metadata": {},
     "output_type": "execute_result"
    }
   ],
   "source": [
    "np.sum(y2_pre_log==y2_validation)/50837.0"
   ]
  },
  {
   "cell_type": "code",
   "execution_count": 78,
   "metadata": {
    "collapsed": false
   },
   "outputs": [
    {
     "data": {
      "text/plain": [
       "(50837,)"
      ]
     },
     "execution_count": 78,
     "metadata": {},
     "output_type": "execute_result"
    }
   ],
   "source": [
    "y2_validation.shape"
   ]
  },
  {
   "cell_type": "code",
   "execution_count": 83,
   "metadata": {
    "collapsed": true
   },
   "outputs": [],
   "source": [
    "y2_prob = logreg.predict_proba(X_validation)"
   ]
  },
  {
   "cell_type": "code",
   "execution_count": 90,
   "metadata": {
    "collapsed": false
   },
   "outputs": [
    {
     "data": {
      "text/plain": [
       "array([ 0.32163077,  0.29956835,  0.38174895, ...,  0.358759  ,\n",
       "        0.64325755,  0.37197062])"
      ]
     },
     "execution_count": 90,
     "metadata": {},
     "output_type": "execute_result"
    }
   ],
   "source": [
    "y2_prob[:,0]"
   ]
  },
  {
   "cell_type": "code",
   "execution_count": 161,
   "metadata": {
    "collapsed": false
   },
   "outputs": [
    {
     "data": {
      "text/plain": [
       "(19, 1, 0)"
      ]
     },
     "execution_count": 161,
     "metadata": {},
     "output_type": "execute_result"
    }
   ],
   "source": [
    "np.sum(y2_prob[:,0]>0.8),np.sum(y2_prob[:,1]>0.8),np.sum(y2_prob[:,2]>0.8)"
   ]
  },
  {
   "cell_type": "code",
   "execution_count": 92,
   "metadata": {
    "collapsed": false
   },
   "outputs": [
    {
     "data": {
      "text/plain": [
       "(50837, 3)"
      ]
     },
     "execution_count": 92,
     "metadata": {},
     "output_type": "execute_result"
    }
   ],
   "source": [
    "y2_prob.shape"
   ]
  },
  {
   "cell_type": "code",
   "execution_count": 104,
   "metadata": {
    "collapsed": false
   },
   "outputs": [
    {
     "data": {
      "text/plain": [
       "313"
      ]
     },
     "execution_count": 104,
     "metadata": {},
     "output_type": "execute_result"
    }
   ],
   "source": [
    "np.argmax(logreg.coef_)"
   ]
  },
  {
   "cell_type": "code",
   "execution_count": 115,
   "metadata": {
    "collapsed": false
   },
   "outputs": [
    {
     "data": {
      "text/plain": [
       "61"
      ]
     },
     "execution_count": 115,
     "metadata": {},
     "output_type": "execute_result"
    }
   ],
   "source": [
    "np.argmax(logreg.coef_[2,:])"
   ]
  },
  {
   "cell_type": "code",
   "execution_count": 127,
   "metadata": {
    "collapsed": false
   },
   "outputs": [
    {
     "data": {
      "text/plain": [
       "0.041624979140542008"
      ]
     },
     "execution_count": 127,
     "metadata": {},
     "output_type": "execute_result"
    }
   ],
   "source": [
    "np.max(np.abs(logreg.coef_[0,:]))"
   ]
  },
  {
   "cell_type": "code",
   "execution_count": 120,
   "metadata": {
    "collapsed": false
   },
   "outputs": [
    {
     "data": {
      "text/plain": [
       "array([ 0.00481891, -0.21560394,  0.2727001 ])"
      ]
     },
     "execution_count": 120,
     "metadata": {},
     "output_type": "execute_result"
    }
   ],
   "source": [
    "logreg.coef_[:,61]"
   ]
  },
  {
   "cell_type": "code",
   "execution_count": 119,
   "metadata": {
    "collapsed": false
   },
   "outputs": [
    {
     "data": {
      "text/plain": [
       "(3, 126)"
      ]
     },
     "execution_count": 119,
     "metadata": {},
     "output_type": "execute_result"
    }
   ],
   "source": [
    "logreg.coef_.shape"
   ]
  },
  {
   "cell_type": "code",
   "execution_count": 126,
   "metadata": {
    "collapsed": false
   },
   "outputs": [
    {
     "data": {
      "text/plain": [
       "'PRICE_ASK_BID'"
      ]
     },
     "execution_count": 126,
     "metadata": {},
     "output_type": "execute_result"
    }
   ],
   "source": [
    "X_train.columns[84]"
   ]
  },
  {
   "cell_type": "code",
   "execution_count": 103,
   "metadata": {
    "collapsed": true
   },
   "outputs": [],
   "source": [
    "#predit and put the label in second LOGISTIC REGRESSION\n",
    "n_obs = second.shape[0] - delta_t\n",
    "pre_spread_log = logreg.predict(second.iloc[:n_obs, col_in_x])\n",
    "pre_spread_log = np.append(pre_spread_log,np.repeat(np.nan, delta_t))\n",
    "\n",
    "pre_spread_log = pd.Series(pre_spread_log)\n",
    "\n",
    "#second.spread_crossing = pre_SPREAD_CROSSING"
   ]
  },
  {
   "cell_type": "code",
   "execution_count": null,
   "metadata": {
    "collapsed": true
   },
   "outputs": [],
   "source": [
    "profit_log = pd.Series(np.repeat(np.nan,pre.shape[0]))\n",
    "\n",
    "for i in range(pre.shape[0]):\n",
    "    if pre[i] == 'up':\n",
    "        profit[i] = second.iloc[i+delta_t].loc['BID_PRICE1'] - second.iloc[i].loc['ASK_PRICE1'] \n",
    "    elif pre[i] =='down':\n",
    "        profit[i] = second.iloc[i].loc['BID_PRICE1'] - second.iloc[i+delta_t].loc['ASK_PRICE1'] \n",
    "    elif pre[i] == 'stationary':\n",
    "        profit[i] = 0\n",
    "\n",
    "return profit"
   ]
  },
  {
   "cell_type": "code",
   "execution_count": null,
   "metadata": {
    "collapsed": true
   },
   "outputs": [],
   "source": []
  }
 ],
 "metadata": {
  "kernelspec": {
   "display_name": "Python 2",
   "language": "python",
   "name": "python2"
  },
  "language_info": {
   "codemirror_mode": {
    "name": "ipython",
    "version": 2
   },
   "file_extension": ".py",
   "mimetype": "text/x-python",
   "name": "python",
   "nbconvert_exporter": "python",
   "pygments_lexer": "ipython2",
   "version": "2.7.11"
  }
 },
 "nbformat": 4,
 "nbformat_minor": 0
}
